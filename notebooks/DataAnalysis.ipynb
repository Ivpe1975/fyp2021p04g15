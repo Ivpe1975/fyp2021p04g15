{
  "cells": [
    {
      "cell_type": "code",
      "metadata": {
        "tags": [],
        "cell_id": "00000-b1063496-323e-496a-a115-0d24858733c5",
        "deepnote_to_be_reexecuted": false,
        "source_hash": "fe8332b0",
        "execution_start": 1620305236394,
        "execution_millis": 1905,
        "deepnote_cell_type": "code"
      },
      "source": "#imports\nimport fuckit\nfuckit('re');#importing regex\nfuckit('os');#importing os\nfuckit('nltk');\nfuckit('collections');",
      "execution_count": 1,
      "outputs": []
    },
    {
      "cell_type": "code",
      "source": "",
      "metadata": {
        "tags": [],
        "cell_id": "00001-4863a244-29cb-450e-886b-b7aa9d0b6ffa",
        "deepnote_cell_type": "code"
      },
      "outputs": [],
      "execution_count": null
    },
    {
      "cell_type": "code",
      "metadata": {
        "tags": [],
        "cell_id": "00004-79b899c2-c7df-40f4-b04d-a6c3760dadae",
        "deepnote_to_be_reexecuted": false,
        "source_hash": "b623e53d",
        "execution_start": 1620226061760,
        "execution_millis": 2,
        "deepnote_cell_type": "code"
      },
      "source": "",
      "execution_count": null,
      "outputs": []
    },
    {
      "cell_type": "code",
      "metadata": {
        "tags": [],
        "cell_id": "00009-fd2e6388-f5ab-451c-a518-56834630b071",
        "deepnote_to_be_reexecuted": false,
        "source_hash": "b623e53d",
        "execution_start": 1620226061770,
        "execution_millis": 0,
        "deepnote_cell_type": "code"
      },
      "source": "",
      "execution_count": null,
      "outputs": []
    },
    {
      "cell_type": "code",
      "metadata": {
        "tags": [],
        "cell_id": "00010-198712ab-e838-440c-8801-e7bf38e2e4e4",
        "deepnote_to_be_reexecuted": false,
        "source_hash": "b623e53d",
        "execution_start": 1620226061780,
        "execution_millis": 17,
        "deepnote_cell_type": "code"
      },
      "source": "",
      "execution_count": null,
      "outputs": []
    },
    {
      "cell_type": "markdown",
      "source": "# Task 1: Preprocessing",
      "metadata": {
        "tags": [],
        "cell_id": "00003-e5f3cac4-1716-4c47-ba52-6bdb88b4c70e",
        "deepnote_cell_type": "markdown"
      }
    },
    {
      "cell_type": "code",
      "metadata": {
        "tags": [],
        "cell_id": "00005-3b73eb86-d29d-45a2-8d4e-e819ef0a974e",
        "deepnote_to_be_reexecuted": false,
        "source_hash": "b623e53d",
        "execution_start": 1620226061797,
        "execution_millis": 2,
        "deepnote_cell_type": "code"
      },
      "source": "",
      "execution_count": null,
      "outputs": []
    },
    {
      "cell_type": "code",
      "metadata": {
        "tags": [],
        "cell_id": "00005-ee31126f-3d9a-4ab4-a20d-9eade27ee9d7",
        "deepnote_to_be_reexecuted": false,
        "source_hash": "7ffad0ba",
        "execution_start": 1620226061842,
        "execution_millis": 0,
        "deepnote_cell_type": "code"
      },
      "source": "path=os.getcwd()#getting the labels \npath=path[:-9]+'data/'+'hate/'+'test_labels.txt'\ntestlabels=[]\nloadeddata=open(path,'r')\nfor i in loadeddata:\n    testlabels.append(i.strip())\nloadeddata.close()",
      "execution_count": null,
      "outputs": []
    },
    {
      "cell_type": "markdown",
      "source": "## Tokenizer",
      "metadata": {
        "tags": [],
        "cell_id": "00005-6a2b96b1-4d05-4593-a72a-3c1ab4ebe1ab",
        "deepnote_cell_type": "markdown"
      }
    },
    {
      "cell_type": "code",
      "metadata": {
        "tags": [],
        "cell_id": "00003-721fab93-6f19-420f-ade8-60d35c3ddd04",
        "deepnote_to_be_reexecuted": false,
        "source_hash": "144bbd7d",
        "execution_start": 1620305242837,
        "execution_millis": 309,
        "deepnote_cell_type": "code"
      },
      "source": "path=os.getcwd()\npath=path[:-9]+'data/'+'hate/'+'train_text.txt'\ntraintext=[] # The outmost list is equal to the textfile, each sublist corresponds to a line in the file.\nloadeddata=open(path,'r')\nfor i in loadeddata: \n    text=re.findall(r'[A-Za-z]+\\'[A-Za-z]+|\\w+|#[A-Za-z0-9]+|@[A-Za-z0-9]+|../..',i)\n    tochange=[]\n    for j in range(len(text)-1):\n        if text[j][0]=='#' and text[j+1][0]!='#':\n            tochange.append(text[j])\n        if text[j][0]=='@':# making all the @mentions the same\n            text[j]='@'\n    for j in tochange:\n        text[text.index(j)]=text[text.index(j)][1:]\n    traintext.append(text)\nloadeddata.close()",
      "execution_count": 2,
      "outputs": []
    },
    {
      "cell_type": "code",
      "source": "",
      "metadata": {
        "tags": [],
        "cell_id": "00010-1d54b219-09ab-4179-ba39-60b85206e289",
        "deepnote_cell_type": "code"
      },
      "outputs": [],
      "execution_count": null
    },
    {
      "cell_type": "code",
      "metadata": {
        "tags": [],
        "cell_id": "00009-abcbf978-9092-423d-8941-ec399fbfc5a4",
        "deepnote_to_be_reexecuted": false,
        "source_hash": "a9cd6e74",
        "execution_start": 1620226062213,
        "execution_millis": 43,
        "deepnote_cell_type": "code"
      },
      "source": "#Loading in the validation\npath=os.getcwd()\npath=path[:-9]+'data/'+'hate/'+'val_text.txt'\nvaltext=[] # The outmost list is equal to the textfile, each sublist corresponds to a line in the file.\nloadeddata=open(path,'r')\nfor i in loadeddata: \n    text=re.findall(r'[A-Za-z]+\\'[A-Za-z]+|\\w+|#[A-Za-z0-9]+|@[A-Za-z0-9]+|../..',i)\n    tochange=[]\n    for j in range(len(text)-1):\n        if text[j][0]=='#' and text[j+1][0]!='#':\n            tochange.append(text[j])\n        if text[j][0]=='@':# making all the @mentions the same\n            text[j]='@'\n    for j in tochange:\n        text[text.index(j)]=text[text.index(j)][1:]\n    valtext.append(text)\nloadeddata.close()",
      "execution_count": null,
      "outputs": []
    },
    {
      "cell_type": "markdown",
      "source": "## Training an N-gram model thing",
      "metadata": {
        "tags": [],
        "cell_id": "00010-9692c773-0006-4656-83b8-c1bb168d7b5c",
        "deepnote_cell_type": "markdown"
      }
    },
    {
      "cell_type": "code",
      "metadata": {
        "tags": [],
        "cell_id": "00013-6a944e7b-6e0e-4c02-af05-677e2e0e0e24",
        "deepnote_to_be_reexecuted": false,
        "source_hash": "8d62e5a7",
        "execution_start": 1620305248538,
        "execution_millis": 4354,
        "deepnote_cell_type": "code"
      },
      "source": "from nltk.lm.preprocessing import padded_everygram_pipeline\ntrain, vocab = padded_everygram_pipeline(2, traintext)\nfrom nltk.lm import MLE\nlm2= MLE(2)\nlm2.fit(train,vocab)",
      "execution_count": 3,
      "outputs": []
    },
    {
      "cell_type": "code",
      "source": "",
      "metadata": {
        "tags": [],
        "cell_id": "00014-cd7d55f3-5be5-4b91-9c5f-18aa4b51497d",
        "deepnote_cell_type": "code"
      },
      "outputs": [],
      "execution_count": null
    },
    {
      "cell_type": "code",
      "metadata": {
        "tags": [],
        "cell_id": "00014-78aa6293-6da8-4e25-a023-41eb22656506",
        "deepnote_to_be_reexecuted": false,
        "source_hash": "e2284b84",
        "execution_start": 1620226065010,
        "execution_millis": 24,
        "deepnote_cell_type": "code"
      },
      "source": "#training the laplace model \nlap=nltk.lm.models.Laplace(4)\ntrain, vocab = padded_everygram_pipeline(4, traintext)\nlap4.fit(train,vocab)",
      "execution_count": null,
      "outputs": [
        {
          "output_type": "error",
          "ename": "NameError",
          "evalue": "name 'lap4' is not defined",
          "traceback": [
            "\u001b[0;31m---------------------------------------------------------------------------\u001b[0m",
            "\u001b[0;31mNameError\u001b[0m                                 Traceback (most recent call last)",
            "\u001b[0;32m<ipython-input-8-4854076b6f53>\u001b[0m in \u001b[0;36m<module>\u001b[0;34m\u001b[0m\n\u001b[1;32m      2\u001b[0m \u001b[0mlap\u001b[0m\u001b[0;34m=\u001b[0m\u001b[0mnltk\u001b[0m\u001b[0;34m.\u001b[0m\u001b[0mlm\u001b[0m\u001b[0;34m.\u001b[0m\u001b[0mmodels\u001b[0m\u001b[0;34m.\u001b[0m\u001b[0mLaplace\u001b[0m\u001b[0;34m(\u001b[0m\u001b[0;36m4\u001b[0m\u001b[0;34m)\u001b[0m\u001b[0;34m\u001b[0m\u001b[0;34m\u001b[0m\u001b[0m\n\u001b[1;32m      3\u001b[0m \u001b[0mtrain\u001b[0m\u001b[0;34m,\u001b[0m \u001b[0mvocab\u001b[0m \u001b[0;34m=\u001b[0m \u001b[0mpadded_everygram_pipeline\u001b[0m\u001b[0;34m(\u001b[0m\u001b[0;36m4\u001b[0m\u001b[0;34m,\u001b[0m \u001b[0mtraintext\u001b[0m\u001b[0;34m)\u001b[0m\u001b[0;34m\u001b[0m\u001b[0;34m\u001b[0m\u001b[0m\n\u001b[0;32m----> 4\u001b[0;31m \u001b[0mlap4\u001b[0m\u001b[0;34m.\u001b[0m\u001b[0mfit\u001b[0m\u001b[0;34m(\u001b[0m\u001b[0mtrain\u001b[0m\u001b[0;34m,\u001b[0m\u001b[0mvocab\u001b[0m\u001b[0;34m)\u001b[0m\u001b[0;34m\u001b[0m\u001b[0;34m\u001b[0m\u001b[0m\n\u001b[0m",
            "\u001b[0;31mNameError\u001b[0m: name 'lap4' is not defined"
          ]
        }
      ]
    },
    {
      "cell_type": "code",
      "metadata": {
        "tags": [],
        "cell_id": "00016-27f38f9c-f7c0-4dcf-9949-0061814c626d",
        "deepnote_to_be_reexecuted": false,
        "source_hash": "1f8a8b48",
        "execution_start": 1620305259871,
        "execution_millis": 8900,
        "deepnote_cell_type": "code"
      },
      "source": "train, vocab = padded_everygram_pipeline(3, traintext)\nlm3 = MLE(3)\nlm3.fit(train,vocab)",
      "execution_count": 4,
      "outputs": []
    },
    {
      "cell_type": "code",
      "source": "",
      "metadata": {
        "tags": [],
        "cell_id": "00017-8ac58190-272b-48d9-94f5-6e3604f70e83",
        "deepnote_cell_type": "code"
      },
      "outputs": [],
      "execution_count": null
    },
    {
      "cell_type": "code",
      "metadata": {
        "tags": [],
        "cell_id": "00015-17b71b8b-08d7-48fe-b967-e818211e5ecc",
        "deepnote_to_be_reexecuted": false,
        "source_hash": "7e9891c0",
        "execution_start": 1620226110568,
        "execution_millis": 12511,
        "deepnote_cell_type": "code"
      },
      "source": "train, vocab = padded_everygram_pipeline(4, traintext)\nlm4 = MLE(4)\nlm4.fit(train,vocab)",
      "execution_count": null,
      "outputs": []
    },
    {
      "cell_type": "code",
      "metadata": {
        "tags": [],
        "cell_id": "00015-038837c7-fdd1-4883-b078-e31de13b1d74",
        "deepnote_to_be_reexecuted": false,
        "source_hash": "7bc2ec62",
        "execution_start": 1620226123117,
        "execution_millis": 11452,
        "deepnote_cell_type": "code"
      },
      "source": "train, vocab = padded_everygram_pipeline(5, traintext)\nlm5 = MLE(5)\nlm5.fit(train,vocab)",
      "execution_count": null,
      "outputs": []
    },
    {
      "cell_type": "code",
      "metadata": {
        "tags": [],
        "cell_id": "00016-5c9c5ba6-8b42-42bf-99ed-b867788c3fed",
        "deepnote_to_be_reexecuted": false,
        "source_hash": "6b934d75",
        "execution_start": 1620226134621,
        "execution_millis": 15594,
        "deepnote_cell_type": "code"
      },
      "source": "train, vocab = padded_everygram_pipeline(6, traintext)\nlm6 = MLE(6)\nlm6.fit(train,vocab)",
      "execution_count": null,
      "outputs": []
    },
    {
      "cell_type": "code",
      "metadata": {
        "tags": [],
        "cell_id": "00017-000fe8b8-5f31-4978-8a33-a2bfb673fa8c",
        "deepnote_to_be_reexecuted": true,
        "source_hash": "3ac0cbd",
        "execution_start": 1620142016889,
        "execution_millis": 4,
        "deepnote_cell_type": "code"
      },
      "source": "##############################################################################################################",
      "execution_count": null,
      "outputs": []
    },
    {
      "cell_type": "code",
      "metadata": {
        "tags": [],
        "cell_id": "00020-36ce0bdd-7231-470f-acf6-5d4f5b80fc9f",
        "deepnote_to_be_reexecuted": false,
        "source_hash": "59339af4",
        "execution_start": 1620226261813,
        "execution_millis": 95,
        "deepnote_cell_type": "code"
      },
      "source": "lm6.generate(15)",
      "execution_count": null,
      "outputs": [
        {
          "output_type": "execute_result",
          "execution_count": 34,
          "data": {
            "text/plain": "['Snowflake',\n '#MAGA2020',\n '</s>',\n '</s>',\n '</s>',\n '</s>',\n '</s>',\n '</s>',\n '</s>',\n '</s>',\n '</s>',\n '</s>',\n '</s>',\n '</s>',\n '</s>']"
          },
          "metadata": {}
        }
      ]
    },
    {
      "cell_type": "code",
      "metadata": {
        "tags": [],
        "cell_id": "00024-f562a713-cc9f-4fc6-a3e0-6101a9919fa1",
        "deepnote_to_be_reexecuted": true,
        "source_hash": "9ce9242e",
        "execution_start": 1620159962465,
        "execution_millis": 86,
        "deepnote_cell_type": "code"
      },
      "source": "lm6.generate()",
      "execution_count": null,
      "outputs": [
        {
          "output_type": "execute_result",
          "execution_count": 12,
          "data": {
            "text/plain": "'everything'"
          },
          "metadata": {}
        }
      ]
    },
    {
      "cell_type": "code",
      "metadata": {
        "tags": [],
        "cell_id": "00023-fc396a47-707c-42cb-9672-3a47336aa6ba",
        "deepnote_to_be_reexecuted": false,
        "source_hash": "8644a92e",
        "execution_start": 1620305682290,
        "execution_millis": 15,
        "deepnote_cell_type": "code"
      },
      "source": "lm4.generate(20)",
      "execution_count": 11,
      "outputs": [
        {
          "output_type": "error",
          "ename": "NameError",
          "evalue": "name 'lm4' is not defined",
          "traceback": [
            "\u001b[0;31m---------------------------------------------------------------------------\u001b[0m",
            "\u001b[0;31mNameError\u001b[0m                                 Traceback (most recent call last)",
            "\u001b[0;32m<ipython-input-11-bd6061c3e2fd>\u001b[0m in \u001b[0;36m<module>\u001b[0;34m\u001b[0m\n\u001b[0;32m----> 1\u001b[0;31m \u001b[0mlm4\u001b[0m\u001b[0;34m.\u001b[0m\u001b[0mgenerate\u001b[0m\u001b[0;34m(\u001b[0m\u001b[0;36m20\u001b[0m\u001b[0;34m)\u001b[0m\u001b[0;34m\u001b[0m\u001b[0;34m\u001b[0m\u001b[0m\n\u001b[0m",
            "\u001b[0;31mNameError\u001b[0m: name 'lm4' is not defined"
          ]
        }
      ]
    },
    {
      "cell_type": "code",
      "metadata": {
        "tags": [],
        "cell_id": "00020-4d9b6fc2-31b5-4769-819f-18a8898b5316",
        "deepnote_to_be_reexecuted": false,
        "source_hash": "cfe4754c",
        "execution_start": 1620305467322,
        "execution_millis": 44,
        "deepnote_cell_type": "code"
      },
      "source": "lm3.generate(20)",
      "execution_count": 10,
      "outputs": [
        {
          "output_type": "execute_result",
          "execution_count": 10,
          "data": {
            "text/plain": "['mother',\n 'fucking',\n 'bitch',\n 'You',\n 'gonna',\n 'get',\n 'around',\n 'this',\n 'one',\n 'Duke',\n 'lacrosse',\n 'rape',\n '</s>',\n '</s>',\n '</s>',\n '</s>',\n '</s>',\n '</s>',\n '</s>',\n '</s>']"
          },
          "metadata": {}
        }
      ]
    },
    {
      "cell_type": "code",
      "metadata": {
        "tags": [],
        "cell_id": "00021-f59426c3-8478-4c73-a1df-e16f982d762c",
        "deepnote_to_be_reexecuted": true,
        "source_hash": "3ac0cbd",
        "execution_start": 1620142017116,
        "execution_millis": 0,
        "deepnote_cell_type": "code"
      },
      "source": "##############################################################################################################",
      "execution_count": null,
      "outputs": []
    },
    {
      "cell_type": "code",
      "metadata": {
        "tags": [],
        "cell_id": "00021-2e989366-53df-4150-b64a-858dac89a0f6",
        "deepnote_to_be_reexecuted": true,
        "source_hash": "4e1f9565",
        "execution_start": 1620146108540,
        "execution_millis": 1581,
        "deepnote_cell_type": "code"
      },
      "source": "#Comparing the perplexities of the two models\nval,whatever=padded_everygram_pipeline(4,valtext)\nvalgrams=[list(x) for x in val]\nvals=[]\nfor i in valgrams:\n    for j in i:\n        vals.append(j)",
      "execution_count": null,
      "outputs": [
        {
          "output_type": "execute_result",
          "execution_count": 197,
          "data": {
            "text/plain": "inf"
          },
          "metadata": {}
        }
      ]
    },
    {
      "cell_type": "code",
      "metadata": {
        "tags": [],
        "cell_id": "00026-10c89556-25c6-4837-b220-d329e0341906",
        "deepnote_to_be_reexecuted": true,
        "source_hash": "dff2e1c9",
        "deepnote_cell_type": "code"
      },
      "source": "lm4.perplexity(vals)",
      "execution_count": null,
      "outputs": []
    },
    {
      "cell_type": "code",
      "metadata": {
        "tags": [],
        "cell_id": "00029-4bc70950-9662-43dc-a034-c07bb604e1d1",
        "deepnote_to_be_reexecuted": true,
        "source_hash": "4e042586",
        "execution_start": 1620146091593,
        "execution_millis": 1631,
        "deepnote_cell_type": "code"
      },
      "source": "lap4.perplexity(vals)",
      "execution_count": null,
      "outputs": [
        {
          "output_type": "execute_result",
          "execution_count": 196,
          "data": {
            "text/plain": "3684.9247440580048"
          },
          "metadata": {}
        }
      ]
    },
    {
      "cell_type": "code",
      "metadata": {
        "tags": [],
        "cell_id": "00025-7cb7a608-1691-480a-8146-1c20fb37b188",
        "deepnote_to_be_reexecuted": true,
        "source_hash": "b623e53d",
        "execution_start": 1620143869071,
        "execution_millis": 85,
        "deepnote_cell_type": "code"
      },
      "source": "",
      "execution_count": null,
      "outputs": []
    },
    {
      "cell_type": "code",
      "metadata": {
        "tags": [],
        "cell_id": "00026-2a43783e-3906-40bc-a76a-8f7c4556693c",
        "deepnote_to_be_reexecuted": true,
        "source_hash": "b623e53d",
        "execution_start": 1620143999234,
        "execution_millis": 2,
        "deepnote_cell_type": "code"
      },
      "source": "",
      "execution_count": null,
      "outputs": []
    },
    {
      "cell_type": "code",
      "metadata": {
        "tags": [],
        "cell_id": "00022-d1e554af-ca97-4564-81f0-a693c8d4f878",
        "deepnote_to_be_reexecuted": true,
        "source_hash": "b623e53d",
        "execution_start": 1620142595779,
        "execution_millis": 10,
        "deepnote_cell_type": "code"
      },
      "source": "",
      "execution_count": null,
      "outputs": []
    },
    {
      "cell_type": "code",
      "metadata": {
        "tags": [],
        "cell_id": "00023-837c8aa8-6450-4699-b842-7919c1d31428",
        "deepnote_to_be_reexecuted": true,
        "source_hash": "b623e53d",
        "execution_start": 1620142596681,
        "execution_millis": 2,
        "deepnote_cell_type": "code"
      },
      "source": "",
      "execution_count": null,
      "outputs": []
    },
    {
      "cell_type": "code",
      "metadata": {
        "tags": [],
        "cell_id": "00024-b5c50edf-efbe-40b0-89aa-7616dfd6fcb8",
        "deepnote_to_be_reexecuted": true,
        "source_hash": "b623e53d",
        "execution_start": 1620142594264,
        "execution_millis": 1,
        "deepnote_cell_type": "code"
      },
      "source": "",
      "execution_count": null,
      "outputs": []
    },
    {
      "cell_type": "code",
      "metadata": {
        "tags": [],
        "cell_id": "00034-b3024dda-dcb6-4af6-84b8-19d6491d5f9c",
        "deepnote_to_be_reexecuted": true,
        "source_hash": "b623e53d",
        "execution_start": 1620142578426,
        "execution_millis": 4,
        "deepnote_cell_type": "code"
      },
      "source": "",
      "execution_count": null,
      "outputs": []
    },
    {
      "cell_type": "markdown",
      "source": "# Task 2: Characterising Your Data",
      "metadata": {
        "tags": [],
        "cell_id": "00008-069cccc4-2f4e-47a6-b00b-6616a039de98",
        "deepnote_cell_type": "markdown"
      }
    },
    {
      "cell_type": "code",
      "metadata": {
        "tags": [],
        "cell_id": "00008-848f1499-e37c-405d-9aa4-4dd8fe18ecda",
        "deepnote_to_be_reexecuted": true,
        "source_hash": "b623e53d",
        "execution_start": 1620142017256,
        "execution_millis": 0,
        "deepnote_cell_type": "code"
      },
      "source": "",
      "execution_count": null,
      "outputs": []
    },
    {
      "cell_type": "code",
      "metadata": {
        "tags": [],
        "cell_id": "00007-0939a11c-7b61-494a-bcfe-21be5725b272",
        "deepnote_to_be_reexecuted": true,
        "source_hash": "b623e53d",
        "execution_start": 1620142017264,
        "execution_millis": 25,
        "deepnote_cell_type": "code"
      },
      "source": "",
      "execution_count": null,
      "outputs": []
    },
    {
      "cell_type": "code",
      "metadata": {
        "tags": [],
        "cell_id": "00008-552f0d14-b214-42d5-93c3-4dc38b4e9558",
        "deepnote_to_be_reexecuted": true,
        "source_hash": "b623e53d",
        "execution_start": 1620142017307,
        "execution_millis": 0,
        "deepnote_cell_type": "code"
      },
      "source": "",
      "execution_count": null,
      "outputs": []
    },
    {
      "cell_type": "code",
      "metadata": {
        "tags": [],
        "cell_id": "00009-afec03c0-78cb-415b-9572-cae235f43a9b",
        "deepnote_to_be_reexecuted": true,
        "source_hash": "b623e53d",
        "execution_start": 1620142017308,
        "execution_millis": 0,
        "deepnote_cell_type": "code"
      },
      "source": "",
      "execution_count": null,
      "outputs": []
    },
    {
      "cell_type": "code",
      "metadata": {
        "tags": [],
        "cell_id": "00010-5ae937c5-2754-4353-82f9-f23714bf05fc",
        "deepnote_to_be_reexecuted": true,
        "source_hash": "b623e53d",
        "execution_start": 1620142017309,
        "execution_millis": 0,
        "deepnote_cell_type": "code"
      },
      "source": "",
      "execution_count": null,
      "outputs": []
    },
    {
      "cell_type": "code",
      "metadata": {
        "tags": [],
        "cell_id": "00011-a2447563-05ab-4ceb-991b-ab90c87850a5",
        "deepnote_to_be_reexecuted": true,
        "source_hash": "b623e53d",
        "execution_start": 1620142017310,
        "execution_millis": 1,
        "deepnote_cell_type": "code"
      },
      "source": "",
      "execution_count": null,
      "outputs": []
    },
    {
      "cell_type": "markdown",
      "source": "# Task 3: Manual Annotation and Inter-Annotator Agreement",
      "metadata": {
        "tags": [],
        "cell_id": "00015-cd556d4f-61b9-49e6-ac4f-07a779b63742",
        "deepnote_cell_type": "markdown"
      }
    },
    {
      "cell_type": "code",
      "metadata": {
        "tags": [],
        "cell_id": "00015-b5c3e64e-0a9c-4b54-8182-8e8e5fa3de83",
        "deepnote_to_be_reexecuted": true,
        "source_hash": "b623e53d",
        "execution_start": 1620142017314,
        "execution_millis": 1,
        "deepnote_cell_type": "code"
      },
      "source": "",
      "execution_count": null,
      "outputs": []
    },
    {
      "cell_type": "code",
      "metadata": {
        "tags": [],
        "cell_id": "00015-78a20285-00f8-42fd-82f5-0fc3d8c632bb",
        "deepnote_to_be_reexecuted": true,
        "source_hash": "b623e53d",
        "execution_start": 1620142017318,
        "execution_millis": 0,
        "deepnote_cell_type": "code"
      },
      "source": "",
      "execution_count": null,
      "outputs": []
    },
    {
      "cell_type": "code",
      "metadata": {
        "tags": [],
        "cell_id": "00012-cd7b845b-c2a4-4e24-b78d-4d9ede885a78",
        "deepnote_to_be_reexecuted": true,
        "source_hash": "b623e53d",
        "execution_start": 1620142017320,
        "execution_millis": 0,
        "deepnote_cell_type": "code"
      },
      "source": "",
      "execution_count": null,
      "outputs": []
    },
    {
      "cell_type": "code",
      "metadata": {
        "tags": [],
        "cell_id": "00019-5333573e-d9b4-4890-ba99-19c68c81065c",
        "deepnote_to_be_reexecuted": true,
        "source_hash": "b623e53d",
        "execution_start": 1620142017335,
        "execution_millis": 943568,
        "deepnote_cell_type": "code"
      },
      "source": "",
      "execution_count": null,
      "outputs": []
    },
    {
      "cell_type": "code",
      "metadata": {
        "tags": [],
        "cell_id": "00013-bf8d5f14-8f9c-4c5d-8619-e56d7fad6a05",
        "deepnote_to_be_reexecuted": true,
        "source_hash": "b623e53d",
        "execution_start": 1620142017336,
        "execution_millis": 943522,
        "deepnote_cell_type": "code"
      },
      "source": "",
      "execution_count": null,
      "outputs": []
    },
    {
      "cell_type": "code",
      "metadata": {
        "tags": [],
        "cell_id": "00014-a5be792a-7bc8-44d0-abaf-f8205be152da",
        "deepnote_to_be_reexecuted": true,
        "source_hash": "b623e53d",
        "execution_start": 1620142017337,
        "execution_millis": 943521,
        "deepnote_cell_type": "code"
      },
      "source": "",
      "execution_count": null,
      "outputs": []
    },
    {
      "cell_type": "markdown",
      "source": "# Task 4: Automatic Prediction",
      "metadata": {
        "tags": [],
        "cell_id": "00021-293fb7e1-cbcf-46bb-bd3a-a60d7207fd36",
        "deepnote_cell_type": "markdown"
      }
    },
    {
      "cell_type": "code",
      "metadata": {
        "tags": [],
        "cell_id": "00021-6a5e0981-19fc-4a46-bfa4-230b9e6d0623",
        "deepnote_to_be_reexecuted": true,
        "source_hash": "b623e53d",
        "execution_start": 1620142017338,
        "execution_millis": 943520,
        "deepnote_cell_type": "code"
      },
      "source": "",
      "execution_count": null,
      "outputs": []
    },
    {
      "cell_type": "code",
      "metadata": {
        "tags": [],
        "cell_id": "00022-9f924189-b00f-4355-8ec7-cff1f00626d3",
        "deepnote_to_be_reexecuted": true,
        "source_hash": "b623e53d",
        "execution_start": 1620142017339,
        "execution_millis": 943521,
        "deepnote_cell_type": "code"
      },
      "source": "",
      "execution_count": null,
      "outputs": []
    },
    {
      "cell_type": "code",
      "metadata": {
        "tags": [],
        "cell_id": "00024-42ba6b2e-2d5a-42b1-972f-69fd1d6f28c3",
        "deepnote_to_be_reexecuted": true,
        "source_hash": "b623e53d",
        "execution_start": 1620142017342,
        "execution_millis": 943521,
        "deepnote_cell_type": "code"
      },
      "source": "",
      "execution_count": null,
      "outputs": []
    },
    {
      "cell_type": "code",
      "metadata": {
        "tags": [],
        "cell_id": "00025-6459f1c0-2573-401c-a972-5e62c87ae235",
        "deepnote_to_be_reexecuted": true,
        "source_hash": "b623e53d",
        "execution_start": 1620142017346,
        "execution_millis": 943523,
        "deepnote_cell_type": "code"
      },
      "source": "",
      "execution_count": null,
      "outputs": []
    },
    {
      "cell_type": "code",
      "metadata": {
        "tags": [],
        "cell_id": "00026-2e05dcff-9247-45d3-bddb-28b8a186d435",
        "deepnote_to_be_reexecuted": true,
        "source_hash": "b623e53d",
        "execution_start": 1620142017347,
        "execution_millis": 943525,
        "deepnote_cell_type": "code"
      },
      "source": "",
      "execution_count": null,
      "outputs": []
    },
    {
      "cell_type": "markdown",
      "source": "<a style='text-decoration:none;line-height:16px;display:flex;color:#5B5B62;padding:10px;justify-content:end;' href='https://deepnote.com?utm_source=created-in-deepnote-cell&projectId=7b2c9380-f1db-4912-9a67-96bd866cc175' target=\"_blank\">\n<img alt='Created in deepnote.com' style='display:inline;max-height:16px;margin:0px;margin-right:7.5px;' src='data:image/svg+xml;base64,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' > </img>\nCreated in <span style='font-weight:600;margin-left:4px;'>Deepnote</span></a>",
      "metadata": {
        "tags": [],
        "created_in_deepnote_cell": true,
        "deepnote_cell_type": "markdown"
      }
    }
  ],
  "nbformat": 4,
  "nbformat_minor": 2,
  "metadata": {
    "orig_nbformat": 2,
    "deepnote": {
      "is_reactive": false
    },
    "deepnote_notebook_id": "dd61d8c5-2dd4-4bd8-b2e4-b68bcfa6e86c",
    "deepnote_execution_queue": []
  }
}