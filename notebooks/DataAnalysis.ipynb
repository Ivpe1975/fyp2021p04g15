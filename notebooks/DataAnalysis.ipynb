{
 "cells": [
  {
   "cell_type": "code",
   "metadata": {
    "tags": [],
    "cell_id": "00000-b1063496-323e-496a-a115-0d24858733c5",
    "deepnote_to_be_reexecuted": false,
    "source_hash": "4e8d9c39",
    "execution_start": 1622669929545,
    "execution_millis": 2328,
    "deepnote_cell_type": "code"
   },
   "source": "#imports\nimport fuckit\nfuckit('re');#importing regex\nfuckit('os');#importing os\nfuckit('nltk'); #import nlkt\nfuckit('collections'); #import collections\nfuckit(\"seaborn\") #import seaborn\nfuckit(\"pickle\") #import pickle\nfuckit('difflib')#import difflib\nimport pandas as pd\nimport numpy as np\nimport json\nimport matplotlib.pyplot as plt\nfrom collections import Counter\nfrom nltk.lm.preprocessing import padded_everygram_pipeline\nfrom nltk.lm import MLE\nfrom nltk.tokenize import TweetTokenizer\nfrom sklearn.feature_extraction.text import TfidfTransformer\nfrom sklearn.feature_extraction.text import CountVectorizer\nfrom sklearn.linear_model import SGDClassifier\nfrom sklearn.preprocessing import StandardScaler\nfrom sklearn.pipeline import make_pipeline\nfrom sklearn.metrics import f1_score\nfrom sklearn.metrics import precision_recall_fscore_support\nfrom sklearn.ensemble import RandomForestClassifier\nfrom sklearn.naive_bayes import MultinomialNB\nfrom sklearn.metrics import accuracy_score",
   "outputs": [],
   "execution_count": null
  },
  {
   "cell_type": "markdown",
   "source": "## Tokenizer",
   "metadata": {
    "tags": [],
    "cell_id": "00005-6a2b96b1-4d05-4593-a72a-3c1ab4ebe1ab",
    "deepnote_cell_type": "markdown"
   }
  },
  {
   "cell_type": "markdown",
   "source": "### Hate Speech Data",
   "metadata": {
    "tags": [],
    "cell_id": "00002-a5fc151a-4c07-4717-905c-55f786d68bed",
    "deepnote_cell_type": "markdown"
   }
  },
  {
   "cell_type": "code",
   "metadata": {
    "tags": [],
    "cell_id": "00003-721fab93-6f19-420f-ade8-60d35c3ddd04",
    "deepnote_to_be_reexecuted": false,
    "source_hash": "bda3bb8c",
    "execution_start": 1622669931888,
    "execution_millis": 342,
    "deepnote_cell_type": "code"
   },
   "source": "path=os.getcwd()\npath=path[:-9]+'data/'+'hate/'+'train_text.txt'\nhatetraintext=[] # The outmost list is equal to the textfile, each sublist corresponds to a line in the file.\nloadeddata=open(path,'r')\nfor i in loadeddata: \n    text=re.findall(r'[A-Za-z]+\\'[A-Za-z]+|\\w+|#[A-Za-z0-9]+|@[A-Za-z0-9]+|../..',i)\n    tochange=[]\n    for j in range(len(text)-1):\n        if text[j][0]=='#' and text[j+1][0]!='#':\n            tochange.append(text[j])\n        if text[j][0]=='@':# making all the @mentions the same\n            text[j]='@'\n    for j in tochange:\n        text[text.index(j)]=text[text.index(j)][1:]\n    hatetraintext.append(text)\nloadeddata.close()",
   "outputs": [],
   "execution_count": null
  },
  {
   "cell_type": "markdown",
   "source": "## Testing default tokenizer",
   "metadata": {
    "tags": [],
    "cell_id": "00004-2b646d88-69a5-451d-afda-1522d9a5f1cc",
    "deepnote_cell_type": "markdown"
   }
  },
  {
   "cell_type": "code",
   "metadata": {
    "tags": [],
    "cell_id": "00005-1b710087-5c56-4061-8a4c-ab02876d5b62",
    "deepnote_to_be_reexecuted": false,
    "source_hash": "f34e9113",
    "execution_start": 1622669932252,
    "execution_millis": 118,
    "deepnote_cell_type": "code"
   },
   "source": "path=os.getcwd()\npath=path[:-9]+'data/'+'hate/'+'test_text.txt'\nhatetesttext=[] # The outmost list is equal to the textfile, each sublist corresponds to a line in the file.\nloadeddata=open(path,'r')\nfor i in loadeddata: \n    text=re.findall(r'[A-Za-z]+\\'[A-Za-z]+|\\w+|#[A-Za-z0-9]+|@[A-Za-z0-9]+|../..',i)\n    tochange=[]\n    for j in range(len(text)-1):\n        if text[j][0]=='#' and text[j+1][0]!='#':\n            tochange.append(text[j])\n        if text[j][0]=='@':# making all the @mentions the same\n            text[j]='@'\n    for j in tochange:\n        text[text.index(j)]=text[text.index(j)][1:]\n    hatetesttext.append(text)\nloadeddata.close()",
   "outputs": [],
   "execution_count": null
  },
  {
   "cell_type": "code",
   "metadata": {
    "tags": [],
    "cell_id": "00004-4fd5bc60-f3ab-4045-8e47-0f60727e5dfc",
    "deepnote_to_be_reexecuted": false,
    "source_hash": "78427ae",
    "execution_start": 1622669932385,
    "execution_millis": 470,
    "deepnote_cell_type": "code"
   },
   "source": "path=os.getcwd()\npath=path[:-9]+'data/'+'hate/'+'test_text.txt'\ndefhatetesttext=[] # The outmost list is equal to the textfile, each sublist corresponds to a line in the file.\ntknzr=TweetTokenizer()\nloadeddata=open(path,'r')\nfor i in loadeddata:\n    text=tknzr.tokenize(i)\n    defhatetesttext.append(text)\nloadeddata.close()",
   "outputs": [],
   "execution_count": null
  },
  {
   "cell_type": "code",
   "metadata": {
    "tags": [],
    "cell_id": "00006-c3ad5123-4db9-4cb9-8938-d7154f9bf596",
    "deepnote_to_be_reexecuted": false,
    "source_hash": "d9be1281",
    "execution_start": 1622669932880,
    "execution_millis": 59,
    "deepnote_cell_type": "code"
   },
   "source": "allhatetest=set()\nfor i in hatetesttext:\n    for j in i:\n        allhatetest.add(j)\nallhatetest=list(allhatetest)\nalldefhatetest=set()\nfor i in defhatetesttext:\n    for j in i:\n        alldefhatetest.add(j)\nalldefhatetest=list(alldefhatetest)",
   "outputs": [],
   "execution_count": null
  },
  {
   "cell_type": "code",
   "metadata": {
    "tags": [],
    "cell_id": "00007-b5f4f649-9610-4555-9915-4d8dc8da6657",
    "deepnote_to_be_reexecuted": false,
    "source_hash": "e5ddfb94",
    "execution_start": 1622669932981,
    "execution_millis": 138,
    "deepnote_cell_type": "code"
   },
   "source": "diff=difflib.SequenceMatcher(None,allhatetest,alldefhatetest)\ndiff.ratio()",
   "outputs": [
    {
     "output_type": "execute_result",
     "execution_count": 6,
     "data": {
      "text/plain": "0.9191534113316682"
     },
     "metadata": {}
    }
   ],
   "execution_count": null
  },
  {
   "cell_type": "markdown",
   "source": "# -----------",
   "metadata": {
    "tags": [],
    "cell_id": "00006-220957c3-4f65-465c-adcd-dcb318eaae30",
    "deepnote_cell_type": "markdown"
   }
  },
  {
   "cell_type": "code",
   "metadata": {
    "tags": [],
    "cell_id": "00009-f977f2ea-9b1e-4671-8543-61ad1fd28684",
    "deepnote_to_be_reexecuted": false,
    "source_hash": "8b978a61",
    "execution_start": 1622669933143,
    "execution_millis": 25100,
    "deepnote_cell_type": "code"
   },
   "source": "path=os.getcwd()#getting the labels \npath=path[:-9]+'data/'+'hate/'+'train_labels.txt'\nhatetrainlabels=[]\nloadeddata=open(path,'r')\nfor i in loadeddata:\n    hatetrainlabels.append(i.strip())\nloadeddata.close()",
   "outputs": [],
   "execution_count": null
  },
  {
   "cell_type": "code",
   "metadata": {
    "tags": [],
    "cell_id": "00009-abcbf978-9092-423d-8941-ec399fbfc5a4",
    "deepnote_to_be_reexecuted": false,
    "source_hash": "5090c4c7",
    "execution_start": 1622669933161,
    "execution_millis": 88,
    "deepnote_cell_type": "code"
   },
   "source": "#Loading in the validation\npath=os.getcwd()\npath=path[:-9]+'data/'+'hate/'+'val_text.txt'\nhatevaltext=[] # The outmost list is equal to the textfile, each sublist corresponds to a line in the file.\nloadeddata=open(path,'r')\nfor i in loadeddata: \n    text=re.findall(r'[A-Za-z]+\\'[A-Za-z]+|\\w+|#[A-Za-z0-9]+|@[A-Za-z0-9]+|../..',i)\n    tochange=[]\n    for j in range(len(text)-1):\n        if text[j][0]=='#' and text[j+1][0]!='#':\n            tochange.append(text[j])\n        if text[j][0]=='@':# making all the @mentions the same\n            text[j]='@'\n    for j in tochange:\n        text[text.index(j)]=text[text.index(j)][1:]\n    hatevaltext.append(text)\nloadeddata.close()",
   "outputs": [],
   "execution_count": null
  },
  {
   "cell_type": "code",
   "metadata": {
    "tags": [],
    "cell_id": "00010-b77641f7-ad6b-4881-ba2d-c369f32dd30d",
    "deepnote_to_be_reexecuted": false,
    "source_hash": "7cf9a798",
    "execution_start": 1622669933250,
    "execution_millis": 0,
    "deepnote_cell_type": "code"
   },
   "source": "path=os.getcwd()#getting the labels \npath=path[:-9]+'data/'+'hate/'+'val_labels.txt'\nhatevallabels=[]\nloadeddata=open(path,'r')\nfor i in loadeddata:\n    hatevallabels.append(i.strip())\nloadeddata.close()",
   "outputs": [],
   "execution_count": null
  },
  {
   "cell_type": "markdown",
   "source": "### Sentiment Data",
   "metadata": {
    "tags": [],
    "cell_id": "00006-25f8eff9-eb66-4f0a-8bf4-4a89ad4a8c1f",
    "deepnote_cell_type": "markdown"
   }
  },
  {
   "cell_type": "code",
   "metadata": {
    "tags": [],
    "cell_id": "00012-2434845f-cbec-48cb-a4b0-3832407bf304",
    "deepnote_to_be_reexecuted": false,
    "source_hash": "473317b9",
    "execution_start": 1622669933251,
    "execution_millis": 1366,
    "deepnote_cell_type": "code"
   },
   "source": "path=os.getcwd()\npath=path[:-9]+'data/'+'sentiment/'+'train_text.txt'\nsenttraintext=[] # The outmost list is equal to the textfile, each sublist corresponds to a line in the file.\nloadeddata=open(path,'r')\nfor i in loadeddata: \n    text=re.findall(r'[A-Za-z]+\\'[A-Za-z]+|\\w+|#[A-Za-z0-9]+|@[A-Za-z0-9]+|../..',i)\n    tochange=[]\n    for j in range(len(text)-1):\n        if text[j][0]=='#' and text[j+1][0]!='#':\n            tochange.append(text[j])\n        if text[j][0]=='@':# making all the @mentions the same\n            text[j]='@'\n    for j in tochange:\n        text[text.index(j)]=text[text.index(j)][1:]\n    senttraintext.append(text)\nloadeddata.close()",
   "outputs": [],
   "execution_count": null
  },
  {
   "cell_type": "code",
   "metadata": {
    "tags": [],
    "cell_id": "00013-f2d1d7eb-b057-4200-81f3-f3ecd9dfd080",
    "deepnote_to_be_reexecuted": false,
    "source_hash": "9e223403",
    "execution_start": 1622669934624,
    "execution_millis": 24,
    "deepnote_cell_type": "code"
   },
   "source": "path=os.getcwd()#getting the labels \npath=path[:-9]+'data/'+'sentiment/'+'train_labels.txt'\nsenttrainlabels=[]\nloadeddata=open(path,'r')\nfor i in loadeddata:\n    senttrainlabels.append(i.strip())\nloadeddata.close()",
   "outputs": [],
   "execution_count": null
  },
  {
   "cell_type": "code",
   "metadata": {
    "tags": [],
    "cell_id": "00014-54ad8b5e-2e54-4a18-8b7d-3c60349a50e6",
    "deepnote_to_be_reexecuted": false,
    "source_hash": "2848e0dd",
    "execution_start": 1622669934653,
    "execution_millis": 67,
    "deepnote_cell_type": "code"
   },
   "source": "#Loading in the validation\npath=os.getcwd()\npath=path[:-9]+'data/'+'sentiment/'+'val_text.txt'\nsentvaltext=[] # The outmost list is equal to the textfile, each sublist corresponds to a line in the file.\nloadeddata=open(path,'r')\nfor i in loadeddata: \n    text=re.findall(r'[A-Za-z]+\\'[A-Za-z]+|\\w+|#[A-Za-z0-9]+|@[A-Za-z0-9]+|../..',i)\n    tochange=[]\n    for j in range(len(text)-1):\n        if text[j][0]=='#' and text[j+1][0]!='#':\n            tochange.append(text[j])\n        if text[j][0]=='@':# making all the @mentions the same\n            text[j]='@'\n    for j in tochange:\n        text[text.index(j)]=text[text.index(j)][1:]\n    sentvaltext.append(text)\nloadeddata.close()",
   "outputs": [],
   "execution_count": null
  },
  {
   "cell_type": "code",
   "metadata": {
    "tags": [],
    "cell_id": "00015-edd5d6e4-ad9f-4493-9863-8e4931085336",
    "deepnote_to_be_reexecuted": false,
    "source_hash": "ae6faf71",
    "execution_start": 1622669934724,
    "execution_millis": 11,
    "deepnote_cell_type": "code"
   },
   "source": "path=os.getcwd()#getting the labels \npath=path[:-9]+'data/'+'sentiment/'+'val_labels.txt'\nsentvallabels=[]\nloadeddata=open(path,'r')\nfor i in loadeddata:\n    sentvallabels.append(i.strip())\nloadeddata.close()",
   "outputs": [],
   "execution_count": null
  },
  {
   "cell_type": "code",
   "metadata": {
    "tags": [],
    "cell_id": "00021-2e989366-53df-4150-b64a-858dac89a0f6",
    "deepnote_to_be_reexecuted": false,
    "source_hash": "c9a203e1",
    "execution_start": 1622669934739,
    "execution_millis": 146,
    "deepnote_cell_type": "code"
   },
   "source": "#Comparing the perplexities of the two models\nval,whatever=padded_everygram_pipeline(4,hatevaltext)\nhatevalgrams=[list(x) for x in val]\nhatevals=[]\nfor i in hatevalgrams:\n    for j in i:\n        hatevals.append(j)",
   "outputs": [],
   "execution_count": null
  },
  {
   "cell_type": "markdown",
   "source": "# Task 2: Characterising Your Data",
   "metadata": {
    "tags": [],
    "cell_id": "00008-069cccc4-2f4e-47a6-b00b-6616a039de98",
    "deepnote_cell_type": "markdown"
   }
  },
  {
   "cell_type": "markdown",
   "source": "## Hatespeech",
   "metadata": {
    "tags": [],
    "cell_id": "00021-10b9b7c4-bcd6-484a-960e-de9bf896fc5e",
    "deepnote_cell_type": "markdown"
   }
  },
  {
   "cell_type": "markdown",
   "source": "Corpus and Vocab",
   "metadata": {
    "tags": [],
    "cell_id": "00021-7bd9b93d-8d69-4712-9a85-580e7433c0fa",
    "deepnote_cell_type": "markdown"
   }
  },
  {
   "cell_type": "markdown",
   "source": "### Zipf Law Plot",
   "metadata": {
    "tags": [],
    "cell_id": "00023-a94d24f1-a91c-4d9f-9af4-d2c97ae0d2e1",
    "deepnote_cell_type": "markdown"
   }
  },
  {
   "cell_type": "code",
   "metadata": {
    "tags": [],
    "cell_id": "00023-1d125a93-0ca4-4a8b-a682-2c6c6d0913b5",
    "deepnote_to_be_reexecuted": false,
    "source_hash": "f6f88891",
    "execution_start": 1622669934892,
    "execution_millis": 7,
    "deepnote_cell_type": "code"
   },
   "source": "# This is how we generated vocabs\n# voc=collections.Counter()\n# for i in hatetraintext:\n#     voc=voc+collections.Counter(i)",
   "outputs": [],
   "execution_count": null
  },
  {
   "cell_type": "code",
   "metadata": {
    "tags": [],
    "cell_id": "00025-42369a4c-4269-4497-b716-6ee1f44e67ba",
    "deepnote_to_be_reexecuted": false,
    "source_hash": "8cb9e73f",
    "execution_start": 1622669934902,
    "execution_millis": 30,
    "deepnote_cell_type": "code"
   },
   "source": "voc=collections.Counter(json.load(open('voc.json')))",
   "outputs": [],
   "execution_count": null
  },
  {
   "cell_type": "code",
   "metadata": {
    "tags": [],
    "cell_id": "00023-b9a86d19-d411-43f0-8f81-d65f7cd1a01e",
    "deepnote_to_be_reexecuted": false,
    "source_hash": "55796b94",
    "execution_start": 1622669934935,
    "execution_millis": 1204,
    "deepnote_cell_type": "code"
   },
   "source": "frq = pd.DataFrame(voc.most_common(), columns=['token', 'frequency'])\n\n# Index in the sorted list\nfrq['idx'] = frq.index + 1\n\n# Plot: Log-log plot for Zipf's law\nfrq['log_frq'] = np.log(frq.frequency)\nfrq['log_rank'] = np.log(frq['idx'])\nseaborn.relplot(x='log_rank', y='log_frq', data=frq);\nax=seaborn.relplot(x='log_rank', y='log_frq', data=frq);\nax.fig.suptitle('Hate Speech Zipfs law demostration',fontsize=20)\nax.set_xlabels('Logarithm of rank',fontsize=22)\nax.set_ylabels('Logarithm of frequency',fontsize=22)\n",
   "outputs": [
    {
     "output_type": "execute_result",
     "execution_count": 17,
     "data": {
      "text/plain": "<seaborn.axisgrid.FacetGrid at 0x7fca8e389690>"
     },
     "metadata": {}
    },
    {
     "data": {
      "text/plain": "<Figure size 360x360 with 1 Axes>",
      "image/png": "[encoded data removed]"
     },
     "metadata": {
      "needs_background": "light",
      "image/png": {
       "width": 367,
       "height": 367
      }
     },
     "output_type": "display_data"
    },
    {
     "data": {
      "text/plain": "<Figure size 360x360 with 1 Axes>",
      "image/png": "[encoded data removed]"
     },
     "metadata": {
      "needs_background": "light",
      "image/png": {
       "width": 390,
       "height": 380
      }
     },
     "output_type": "display_data"
    }
   ],
   "execution_count": null
  },
  {
   "cell_type": "code",
   "metadata": {
    "tags": [],
    "cell_id": "00021-86196854-9714-4f32-8e3e-40abe9c6233c",
    "deepnote_to_be_reexecuted": false,
    "source_hash": "36eafd23",
    "execution_start": 1622669936143,
    "execution_millis": 19,
    "deepnote_cell_type": "code"
   },
   "source": "hate_corpus = len(hatetraintext)\nprint(\"Hate Corpus:\",hate_corpus)",
   "outputs": [
    {
     "name": "stdout",
     "text": "Hate Corpus: 9000\n",
     "output_type": "stream"
    }
   ],
   "execution_count": null
  },
  {
   "cell_type": "code",
   "metadata": {
    "tags": [],
    "cell_id": "00024-fb03eff2-2a13-45c0-a910-d58bfd846080",
    "deepnote_to_be_reexecuted": false,
    "source_hash": "b623e53d",
    "execution_start": 1622669936158,
    "execution_millis": 8,
    "deepnote_cell_type": "code"
   },
   "source": "",
   "outputs": [],
   "execution_count": null
  },
  {
   "cell_type": "markdown",
   "source": "## Sentiment",
   "metadata": {
    "tags": [],
    "cell_id": "00029-10369ee5-f3d5-4c7d-8474-d022845bab18",
    "deepnote_cell_type": "markdown"
   }
  },
  {
   "cell_type": "code",
   "metadata": {
    "tags": [],
    "cell_id": "00032-ab00c648-54e6-4db0-b95e-3bfcabcd87e2",
    "deepnote_to_be_reexecuted": false,
    "source_hash": "75881af6",
    "execution_start": 1622669936177,
    "execution_millis": 774,
    "deepnote_cell_type": "code"
   },
   "source": "svoc=json.load(open('svoc.json'))\nsvoc=collections.Counter(svoc)\nsfrq = pd.DataFrame(svoc.most_common(), columns=['token', 'frequency'])\n\n# Index in the sorted list\nsfrq['idx'] = sfrq.index + 1\n\n# Plot: Log-log plot for Zipf's law\nsfrq['log_frq'] = np.log(sfrq.frequency)\nsfrq['log_rank'] = np.log(sfrq['idx'])\nax=seaborn.relplot(x='log_rank', y='log_frq', data=sfrq);\nax.fig.suptitle('Sentiment analysis Zipfs law demostration',fontsize=20)\nax.set_xlabels('Logarithm of rank',fontsize=22)\nax.set_ylabels('Logarithm of frequency',fontsize=22)\n\n",
   "outputs": [
    {
     "output_type": "execute_result",
     "execution_count": 19,
     "data": {
      "text/plain": "<seaborn.axisgrid.FacetGrid at 0x7fca8e3f04d0>"
     },
     "metadata": {}
    },
    {
     "data": {
      "text/plain": "<Figure size 360x360 with 1 Axes>",
      "image/png": "[encoded data removed]"
     },
     "metadata": {
      "needs_background": "light",
      "image/png": {
       "width": 442,
       "height": 380
      }
     },
     "output_type": "display_data"
    }
   ],
   "execution_count": null
  },
  {
   "cell_type": "code",
   "metadata": {
    "tags": [],
    "cell_id": "00031-24d020bd-8d4f-4c30-99c9-76d95affa270",
    "deepnote_to_be_reexecuted": false,
    "source_hash": "225b291d",
    "execution_start": 1622669936953,
    "execution_millis": 20,
    "deepnote_cell_type": "code"
   },
   "source": "sentiment_corpus = len(senttraintext)\nprint(\"Sentiment Corpus:\",sentiment_corpus)",
   "outputs": [
    {
     "name": "stdout",
     "text": "Sentiment Corpus: 45615\n",
     "output_type": "stream"
    }
   ],
   "execution_count": null
  },
  {
   "cell_type": "code",
   "metadata": {
    "tags": [],
    "cell_id": "00032-731dbccb-edeb-47b6-ac05-14be5c161981",
    "deepnote_to_be_reexecuted": false,
    "source_hash": "a3c4f37e",
    "execution_start": 1622669936970,
    "execution_millis": 23,
    "deepnote_cell_type": "code"
   },
   "source": "sfrq['frequency'][0:10]",
   "outputs": [
    {
     "output_type": "execute_result",
     "execution_count": 21,
     "data": {
      "text/plain": "0    34846\n1    20673\n2    15770\n3    13129\n4    12571\n5    12191\n6    12169\n7    12015\n8    10683\n9     9668\nName: frequency, dtype: int64"
     },
     "metadata": {}
    }
   ],
   "execution_count": null
  },
  {
   "cell_type": "code",
   "metadata": {
    "tags": [],
    "cell_id": "00045-375fa079-d040-4a8d-b1f5-0b037ff105af",
    "deepnote_to_be_reexecuted": false,
    "source_hash": "fa33fcc",
    "execution_start": 1622669936990,
    "execution_millis": 21,
    "deepnote_cell_type": "code"
   },
   "source": "frq['token'][0:10]",
   "outputs": [
    {
     "output_type": "execute_result",
     "execution_count": 22,
     "data": {
      "text/plain": "0      @\n1    the\n2     to\n3      a\n4    and\n5    you\n6     of\n7     in\n8     is\n9    for\nName: token, dtype: object"
     },
     "metadata": {}
    }
   ],
   "execution_count": null
  },
  {
   "cell_type": "code",
   "metadata": {
    "tags": [],
    "cell_id": "00046-15450155-ba5c-43d8-83a3-5eda55d872c8",
    "deepnote_to_be_reexecuted": false,
    "source_hash": "cb2f75b",
    "execution_start": 1622669937005,
    "execution_millis": 25,
    "deepnote_cell_type": "code"
   },
   "source": "(len(sfrq.loc[sfrq['frequency']==1])+len(sfrq.loc[sfrq['frequency']==2])+len(sfrq.loc[sfrq['frequency']==3]))/len(sfrq['frequency'])",
   "outputs": [
    {
     "output_type": "execute_result",
     "execution_count": 23,
     "data": {
      "text/plain": "0.7616890116553258"
     },
     "metadata": {}
    }
   ],
   "execution_count": null
  },
  {
   "cell_type": "code",
   "metadata": {
    "tags": [],
    "cell_id": "00047-c793b905-314b-4ca9-b1e1-5dff8f5e4c4b",
    "deepnote_to_be_reexecuted": false,
    "source_hash": "d2fbc77a",
    "execution_start": 1622669937043,
    "execution_millis": 25,
    "deepnote_cell_type": "code"
   },
   "source": "(len(frq.loc[frq['frequency']==1])+len(frq.loc[frq['frequency']==2])+len(frq.loc[frq['frequency']==3]))/len(frq['frequency'])",
   "outputs": [
    {
     "output_type": "execute_result",
     "execution_count": 24,
     "data": {
      "text/plain": "0.7805019391075647"
     },
     "metadata": {}
    }
   ],
   "execution_count": null
  },
  {
   "cell_type": "code",
   "metadata": {
    "tags": [],
    "cell_id": "00031-a6af79cd-0aef-4906-a21d-1994c01d2aea",
    "deepnote_to_be_reexecuted": false,
    "source_hash": "cabc8066",
    "execution_start": 1622669937071,
    "execution_millis": 7,
    "deepnote_cell_type": "code"
   },
   "source": "# svoc=collections.Counter()\n# for i in senttraintext:\n#     svoc=svoc+collections.Counter(i)",
   "outputs": [],
   "execution_count": null
  },
  {
   "cell_type": "markdown",
   "source": "# Task 3: Manual Annotation and Inter-Annotator Agreement",
   "metadata": {
    "tags": [],
    "cell_id": "00015-cd556d4f-61b9-49e6-ac4f-07a779b63742",
    "deepnote_cell_type": "markdown"
   }
  },
  {
   "cell_type": "code",
   "metadata": {
    "tags": [],
    "cell_id": "00013-bf8d5f14-8f9c-4c5d-8619-e56d7fad6a05",
    "deepnote_to_be_reexecuted": false,
    "source_hash": "ca09be12",
    "execution_start": 1622669937083,
    "execution_millis": 29,
    "deepnote_cell_type": "code"
   },
   "source": "louis =[1,0,0,0,0,0,0,0,0,0,0,0,0,0,0,0,0,0,0,0,0,1,0,0,0,0,0,0,0,0,1,0,0,0,0,0,0,0,0,0,0,1,0,0,0,0,0,1,0,0,0,0,0,0,0,0,0,1,0,0,0,0,0,0,0,0,0,0,0,0,0,0,0,0,0,0,0,0,0,0,0,0,0,1,0,0,0,0,0,0,0,0,0,0,0,0,0,0,0,0,1,0,0,0,0,0,1,0,0,0,0,0,0,0,0,1,0,0,0,1]\nAnastasia = [1,0,0,1,0,0,0,0,0,0,0,0,0,1,1,0,0,0,0,0,1,1,0,0,1,0,0,1,0,0,0,0,1,0,0,0,0,0,0,0,1,1,1,0,0,0,0,0,1,1,1,0,0,0,0,0,0,1,0,1,1,1,0,1,0,0,0,0,0,0,0,1,0,0,0,0,0,0,0,1,0,1,0,0,1,0,0,0,1,0,0,0,0,1,0,0,0,0,1,0,0,0,0,0,0,0,1,1,0,1,0,0,1,1,0,1,0,1,0,1]\nJesper = [1,0,0,0,0,0,0,0,0,0,0,1,1,0,1,1,0,1,0,0,1,1,0,0,0,0,0,0,0,1,1,0,1,0,0,0,0,0,1,0,0,0,1,0,0,0,1,0,1,0,0,0,0,0,0,0,0,1,0,0,0,0,0,0,0,0,0,0,0,1,0,0,0,0,0,0,0,0,0,0,0,0,0,0,1,0,0,0,1,0,0,0,0,0,0,0,0,0,0,0,1,0,0,1,0,0,1,0,0,1,0,1,0,0,0,1,1,1,0,1]\nivan=[1,0,0,1,0,0,0,0,0,0,0,0,1,1,1,0,0,0,0,0,0,1,1,0,0,0,0,1,0,0,1,0,1,0,0,0,0,0,0,0,1,0,1,0,0,0,0,0,0,1,0,0,0,0,1,0,0,1,0,1,1,1,0,0,0,1,0,1,0,0,0,1,0,0,0,0,0,0,0,0,0,0,0,0,1,0,0,0,1,0,0,0,0,1,0,0,0,0,0,0,0,0,0,1,0,0,1,0,1,0,0,0,0,1,0,0,0,1,0,1]",
   "outputs": [],
   "execution_count": null
  },
  {
   "cell_type": "code",
   "metadata": {
    "tags": [],
    "cell_id": "00043-8af7ed8c-9437-4615-a6b0-da4ae724f3c6",
    "deepnote_to_be_reexecuted": false,
    "source_hash": "6b96c229",
    "execution_start": 1622669937116,
    "execution_millis": 17,
    "deepnote_cell_type": "code"
   },
   "source": "path=os.getcwd()\npath=path[:-9]+'data/'+'iaa/'+'hate/'+'iaa_text.txt'\niaa=open(path,'r')\ntweets=[]\nfor i in iaa:\n    tweets.append(i.strip())",
   "outputs": [],
   "execution_count": null
  },
  {
   "cell_type": "code",
   "metadata": {
    "tags": [],
    "cell_id": "00053-2df82653-9f55-4695-a190-c88804cc35a8",
    "deepnote_to_be_reexecuted": false,
    "source_hash": "c8380a19",
    "execution_start": 1622669937142,
    "execution_millis": 34,
    "deepnote_cell_type": "code"
   },
   "source": "agreement=np.stack([ivan,louis,Jesper,Anastasia],axis=1)\ntotalones=[]\nfor i in agreement:\n    if sum(i)==3:\n        totalones.append(np.where(i==0))\ntotalones",
   "outputs": [
    {
     "output_type": "execute_result",
     "execution_count": 28,
     "data": {
      "text/plain": "[(array([1]),),\n (array([3]),),\n (array([1]),),\n (array([1]),),\n (array([1]),),\n (array([1]),),\n (array([0]),),\n (array([1]),)]"
     },
     "metadata": {}
    }
   ],
   "execution_count": null
  },
  {
   "cell_type": "code",
   "metadata": {
    "tags": [],
    "cell_id": "00014-a5be792a-7bc8-44d0-abaf-f8205be152da",
    "deepnote_to_be_reexecuted": false,
    "source_hash": "63843144",
    "execution_start": 1622669937174,
    "execution_millis": 99,
    "deepnote_cell_type": "code"
   },
   "source": "agreed=0\nindex=0\nfor i in agreement:\n    if i[0]==i[1] and i[1]==i[2] and i[2]==i[3]:\n        agreed+=1\n    else:\n        print(\"Did not agree on line:\",index,'\\n',tweets[index],'\\n','ivan:',i[0],'louis:',i[1],'jesper:',i[2],'Anastasia:',i[3],'\\n','\\n')\n    index+=1\nprint(agreed/120)",
   "outputs": [
    {
     "name": "stdout",
     "text": "Did not agree on line: 3 \n @user you dumb cunt you trick 12 and 30 year old virgins into giving you money you fucking bitch. kys honest… \n ivan: 1 louis: 0 jesper: 0 Anastasia: 1 \n \n\nDid not agree on line: 11 \n Presidential determination for the number of refugees that COULD be admitted to the US in coming fiscal year \"due Sept. 30\"? via @user @user #NOMORERefugees #NOmoreSomaliRefugees @user Where the heck r u?? \n ivan: 0 louis: 0 jesper: 1 Anastasia: 0 \n \n\nDid not agree on line: 12 \n If you say not all men to me you're getting blocked without discussion. \n ivan: 1 louis: 0 jesper: 1 Anastasia: 0 \n \n\nDid not agree on line: 13 \n @user @user This woman has moved right past the cunt stage straight in to twatdom. \n ivan: 1 louis: 0 jesper: 0 Anastasia: 1 \n \n\nDid not agree on line: 14 \n I don't care what a bitch think or how a hoe feel 🆗🗣 \n ivan: 1 louis: 0 jesper: 1 Anastasia: 1 \n \n\nDid not agree on line: 15 \n Orban will not take refugees to Hungary and will stop Soros forever. EU dont like that, so they go to court. But Orban, the defendor of Europe will never take refugees. If it goes hard, he will go out of the EU. \n ivan: 0 louis: 0 jesper: 1 Anastasia: 0 \n \n\nDid not agree on line: 17 \n @user don't get it pity sturgeon didn't help her own homeless am sure Bute refugees can swop it for a high rise in Glasgow \n ivan: 0 louis: 0 jesper: 1 Anastasia: 0 \n \n\nDid not agree on line: 20 \n The U.S is $21 Trillion in Debt We Cant afford to be Mexico and Central America's Welfare state  low skills. uneducated No English  wanting welfare, education Medicaid  on the U.S Taxpaers #Trump #MAGA #SendThemHome Red Hen #Immigration  via @user \n ivan: 0 louis: 0 jesper: 1 Anastasia: 1 \n \n\nDid not agree on line: 22 \n I’m so tired of older women at work asking me if I got married because I im pregnant like no bitch and I don’t plan on it. \n ivan: 1 louis: 0 jesper: 0 Anastasia: 0 \n \n\nDid not agree on line: 24 \n @user Same fucking name, cunt bag. Why are you white knight, pussy boy? \n ivan: 0 louis: 0 jesper: 0 Anastasia: 1 \n \n\nDid not agree on line: 27 \n @user Why are illegal immigrants bribed at all to go home? Pay their fares only. \n ivan: 1 louis: 0 jesper: 0 Anastasia: 1 \n \n\nDid not agree on line: 29 \n Lemme talk about how this girl was lightning quick to say “not all white people” but will roast anyone that says “not all men” \n ivan: 0 louis: 0 jesper: 1 Anastasia: 0 \n \n\nDid not agree on line: 30 \n @user 1. Physical barrier2. Monitor/deport visa overstays3. Employer crack down4. Listen for the giant sucking sound of self-deportations#StopTheInvasion#CommonSenseSolutions#AmericaFirst#AmericansHaveDreamsToo \n ivan: 1 louis: 1 jesper: 1 Anastasia: 0 \n \n\nDid not agree on line: 32 \n @user @user So, when are women going to demand their right to have the honor to sign up for selective services which ALL male citizens are OBLIGATED by law? Not really equal yet, are you? Do illegals sign up? Yeah, I see equal happening all over \n ivan: 1 louis: 0 jesper: 1 Anastasia: 1 \n \n\nDid not agree on line: 38 \n Watch: Germans protest against Islam and immigration \"We want Germany to be Germany, not an Islamic state\" - Free Speech Time - @user \n ivan: 0 louis: 0 jesper: 1 Anastasia: 0 \n \n\nDid not agree on line: 40 \n This MEME just goes to show how much hypocrisy that the liberal political party in this country can demonstrate, by the fact that they did not complain at all about the separation of immigrant children when Obama was POTUS, but they now demonize, because a Conservative is POTUS. \n ivan: 1 louis: 0 jesper: 0 Anastasia: 1 \n \n\nDid not agree on line: 41 \n Again, and again, and again! This must end! #BuildThatWall @user \n ivan: 0 louis: 1 jesper: 0 Anastasia: 1 \n \n\nDid not agree on line: 42 \n @user And the son of a bitch can't buy it for his little pee pee whore boy and that just rankles his ass. Shut u… \n ivan: 1 louis: 0 jesper: 1 Anastasia: 1 \n \n\nDid not agree on line: 46 \n Speaking of creepy. This narcissist sounds like a creepy guy on the run from a rape charge. Being Putin's bitch not that satisfying? \n ivan: 0 louis: 0 jesper: 1 Anastasia: 0 \n \n\nDid not agree on line: 47 \n @user Thank you, Mr. President!! Today in MD, 4 MA13 convicted on multiple robbery charges. 3 of the 4 are illegals. NC, an illegal kills motorcyclist in hit and run. #BuildThatWall !!! \n ivan: 0 louis: 1 jesper: 0 Anastasia: 0 \n \n\nDid not agree on line: 48 \n @user Excellent point Looney. Can we use this quote in our brochure? Let us know. Thanks for supporting our cause #maledominance \n ivan: 0 louis: 0 jesper: 1 Anastasia: 1 \n \n\nDid not agree on line: 49 \n Im so sick of this hoe speaking on me bitch you dont know SHIT STFU \n ivan: 1 louis: 0 jesper: 0 Anastasia: 1 \n \n\nDid not agree on line: 50 \n Yes @user Revoke your endorsement of the TRAITOR @user He betrayed you & the American People by inserting #HR392 He's trying to undermine our great @user & is flouting US Laws.#NoHR392#EndChainMigration #YoderMustGo \n ivan: 0 louis: 0 jesper: 0 Anastasia: 1 \n \n\nDid not agree on line: 54 \n Most of the cases women are always the victims and the target it is systemic, so stop saying 'not all men' you're just derailing the topic 🗣 \n ivan: 1 louis: 0 jesper: 0 Anastasia: 0 \n \n\nDid not agree on line: 59 \n @user i've seen this skank thot basic bitch IG trash before. Her videos are the worst. Such a prostitute \n ivan: 1 louis: 0 jesper: 0 Anastasia: 1 \n \n\nDid not agree on line: 60 \n That reign bitch is hot as fuck, why am I being attacked by beautiful women \n ivan: 1 louis: 0 jesper: 0 Anastasia: 1 \n \n\nDid not agree on line: 61 \n Apparently 'oh you're just fat' isn't an appropriate follow up when you ask someone if they're pregnant and they say no \n ivan: 1 louis: 0 jesper: 0 Anastasia: 1 \n \n\nDid not agree on line: 63 \n Hi Donald. It’s me again. I’m the white boomer standing with immigrant families, all non white peoples, all LGBT, and a free and open press. I am so not alone. \n ivan: 0 louis: 0 jesper: 0 Anastasia: 1 \n \n\nDid not agree on line: 65 \n “go talk to your other hoes” first of all, bitch you’re the only one i talk to! \n ivan: 1 louis: 0 jesper: 0 Anastasia: 0 \n \n\nDid not agree on line: 67 \n my girl did her little hoe magic & got us a guy to get us 3 GLASSES OF FUCKINH HARD LIQUOR so you know the party is… \n ivan: 1 louis: 0 jesper: 0 Anastasia: 0 \n \n\nDid not agree on line: 69 \n @user @user You are right but it wonÂ´t happen. Immigration in Australia is controlled by globalists who are importing 3rd world people to dilute &amp; divide the population, making becoming part of the new world order much easier &amp; much q \n ivan: 0 louis: 0 jesper: 1 Anastasia: 0 \n \n\nDid not agree on line: 71 \n @user Women lie all the time about rape. It shocks me that when Hollywood women get old unwanted rape and… \n ivan: 1 louis: 0 jesper: 0 Anastasia: 1 \n \n\nDid not agree on line: 79 \n Also, Jasmine is privately slut -shaming AND body -shaming the Girl Gremlin via text and I've never felt so defensive about a fictional skank. \n ivan: 0 louis: 0 jesper: 0 Anastasia: 1 \n \n\nDid not agree on line: 81 \n #WorldFoodDay Thank you for celebrating Sri Foodnaath day. Please take action against that woman for refusing rape… \n ivan: 0 louis: 0 jesper: 0 Anastasia: 1 \n \n\nDid not agree on line: 83 \n @user Ive told this story many a time: first time I heard 'cunt' used against a woman was in 'One Flew O… \n ivan: 0 louis: 1 jesper: 0 Anastasia: 0 \n \n\nDid not agree on line: 84 \n @user What's it going to take? Build that wall. #BuildThatWall Migrants from terrorist nation entering the US. \n ivan: 1 louis: 0 jesper: 1 Anastasia: 1 \n \n\nDid not agree on line: 88 \n Dis bitch had the nerve to tell me im not from a hood. Bitch stfu ill spit on u hoe u dont know me...so mind ya business and worry bout yo child instead of me...dickriding ass girl \n ivan: 1 louis: 0 jesper: 1 Anastasia: 1 \n \n\nDid not agree on line: 93 \n first goes to bitch ass janelle. FUCK YOU MESSY MF ASS BITCH i literally was on a call with her and her dumb ass twisted my words and ran to tattle on me to ari. like it legit made her pussy wet to go and talk shit abt me so fuck u ill come beat ur ass thats why u stole a listers \n ivan: 1 louis: 0 jesper: 0 Anastasia: 1 \n \n\nDid not agree on line: 98 \n @user we're not talking about 'reasonable', this woman is a rodeo clown in full costume, it's hysterical \n ivan: 0 louis: 0 jesper: 0 Anastasia: 1 \n \n\nDid not agree on line: 100 \n @user Diversity means chasing DOWN every White person.  EnoughIn 2018: it's time to let diversityâ„¢ be someone else's strength.Remigration 2018:  Easy come, easy GO!! \n ivan: 0 louis: 1 jesper: 1 Anastasia: 0 \n \n\nDid not agree on line: 103 \n @user Exactly. Thanks for the support #maledominance \n ivan: 1 louis: 0 jesper: 1 Anastasia: 0 \n \n\nDid not agree on line: 107 \n @user RT @user Sanctuary Cities are against the Law. Please shut them down & arrest/prosecute all criminal Governors & Mayors. #USA #Americans #America #Constitution #EndSanctuaryCities #EndDACA #AmericaFirst #MAGA #Congress @user @user \n ivan: 0 louis: 0 jesper: 0 Anastasia: 1 \n \n\nDid not agree on line: 108 \n Italian bishop warns that Europe must avoid “fear and xenophobia” and welcome Muslim migrants via @user Another Christion moron with a death wish. \n ivan: 1 louis: 0 jesper: 0 Anastasia: 0 \n \n\nDid not agree on line: 109 \n @user You said it #FakeNews is sinking their own ship. #BuildTheWall The Whole Wall #GreenCardsForDACA #NoChainMigration no-Lottery #IllegalsHome get in line #StopTheInvasionIn #FavoritePresident \n ivan: 0 louis: 0 jesper: 1 Anastasia: 1 \n \n\nDid not agree on line: 111 \n @user Yeah tell them they're a fucking fool for believing 'statistics' that say 90% of women fantasize about rape \n ivan: 0 louis: 0 jesper: 1 Anastasia: 0 \n \n\nDid not agree on line: 112 \n @user we have the same bday... You should let me fuck your brains out and treat you like a cum dumpster on that day... #Bdaygoals \n ivan: 0 louis: 0 jesper: 0 Anastasia: 1 \n \n\nDid not agree on line: 113 \n @user they deadass digging a hole for themselves @user fat bitch loose weight \n ivan: 1 louis: 0 jesper: 0 Anastasia: 1 \n \n\nDid not agree on line: 115 \n #Navy rescued #Manchester bomber Salman Abedi from war-torn #Libya three years before deadly terror attack via @user the #WEST is \"rescuing\" people that will #kill them. #SendThemHome  #bombing #attack  Have some dignity and throw them out \n ivan: 0 louis: 1 jesper: 1 Anastasia: 1 \n \n\nDid not agree on line: 116 \n ILLEGAL ALIEN CRIMEIs rampant in the first Sanctuary State 'Oregon'!These statistic are outrageous and should be construed to be a close poll of US states.@SpeakerRyan #NoAmnesty #NoDACA #DeportThemAll #ProtectUSCitizens \n ivan: 0 louis: 0 jesper: 1 Anastasia: 0 \n \n\nDid not agree on line: 117 \n Females be thinking they Pussy fire cuz u say fuck under yo breath first of all I forgot I had a whole bitch😂😂 \n ivan: 1 louis: 0 jesper: 1 Anastasia: 1 \n \n\n0.5833333333333334\n",
     "output_type": "stream"
    }
   ],
   "execution_count": null
  },
  {
   "cell_type": "markdown",
   "source": "# Task 4: Automatic Prediction",
   "metadata": {
    "tags": [],
    "cell_id": "00037-0cd80172-cc20-4b38-bd62-31fdfdc7abbc",
    "deepnote_cell_type": "markdown"
   }
  },
  {
   "cell_type": "markdown",
   "source": "## Hate speech",
   "metadata": {
    "tags": [],
    "cell_id": "00037-a37ede6c-68f9-4dde-bf6a-c7bfe8919448",
    "deepnote_cell_type": "markdown"
   }
  },
  {
   "cell_type": "code",
   "metadata": {
    "tags": [],
    "cell_id": "00040-2c1fa9da-f841-40de-9d95-ccf1014da29e",
    "deepnote_to_be_reexecuted": false,
    "source_hash": "d0c09164",
    "execution_start": 1622669937347,
    "execution_millis": 335,
    "deepnote_cell_type": "code"
   },
   "source": "hatetrainflat = [\" \".join(x) for x in hatetraintext]\nhatevalflat = [\" \".join(x) for x in hatevaltext]\n\nvectorizer = CountVectorizer()\nX_train = vectorizer.fit_transform(hatetrainflat)",
   "outputs": [],
   "execution_count": null
  },
  {
   "cell_type": "markdown",
   "source": "### Baseline model using logistic regression",
   "metadata": {
    "tags": [],
    "cell_id": "00051-f3a578e3-008f-4f12-9c80-327b4afed021",
    "deepnote_cell_type": "markdown"
   }
  },
  {
   "cell_type": "code",
   "metadata": {
    "tags": [],
    "cell_id": "00043-7f5731fc-7934-4998-94f8-fff115a926c2",
    "deepnote_to_be_reexecuted": false,
    "source_hash": "242569af",
    "execution_start": 1622669937693,
    "execution_millis": 1813,
    "deepnote_cell_type": "code"
   },
   "source": "baseline_list=[]\naccuracy=0\nprecision=0\nrecall=0\nfscore=0\nfor i in range(10):\n    X = X_train\n    Y = hatetrainlabels\n    clf = SGDClassifier(loss='log')\n    clf.fit(X, Y);\n\n    vectorizerval = CountVectorizer(vocabulary = vectorizer.vocabulary_)\n    X = vectorizerval.fit_transform(hatevalflat)\n    Y = hatevallabels\n    predicted = clf.predict(X);\n\n    results = precision_recall_fscore_support(Y,predicted,average='macro');\n    precision = results[0]+precision\n    recall = results[1]+recall\n    fscore = results[2]+fscore\n    accuracy = sum(hatevallabels==predicted)/len(hatevallabels)+accuracy\n\nbaseline_list = [accuracy/10,precision/10,recall/10,fscore/10]\n\nprint('For the hatespeech detection:','\\n','Accuracy:',baseline_list[0],'\\n','Precision:',baseline_list[1],'\\n','Recall:',baseline_list[2],'\\n','F-score:',baseline_list[3])",
   "outputs": [
    {
     "name": "stdout",
     "text": "For the hatespeech detection: \n Accuracy: 0.7133 \n Precision: 0.7071011753572127 \n Recall: 0.7062052715687596 \n F-score: 0.7064706267454006\n",
     "output_type": "stream"
    }
   ],
   "execution_count": null
  },
  {
   "cell_type": "code",
   "metadata": {
    "tags": [],
    "cell_id": "00056-1914d1bc-b988-49e1-89f1-c59defbf7e01",
    "deepnote_to_be_reexecuted": false,
    "source_hash": "ad918eda",
    "execution_start": 1622669939507,
    "execution_millis": 19,
    "deepnote_cell_type": "code"
   },
   "source": "countertest=Counter(hatevallabels)\ncountertest",
   "outputs": [
    {
     "output_type": "execute_result",
     "execution_count": 32,
     "data": {
      "text/plain": "Counter({'0': 573, '1': 427})"
     },
     "metadata": {}
    }
   ],
   "execution_count": null
  },
  {
   "cell_type": "markdown",
   "source": "### Alternative 1: Loss function",
   "metadata": {
    "tags": [],
    "cell_id": "00053-8f83f083-1b6f-42d9-95a8-9b0d24dbfa55",
    "deepnote_cell_type": "markdown"
   }
  },
  {
   "cell_type": "code",
   "source": "loss_list=[\"hinge\",\"squared_hinge\",\"modified_huber\"] # \"log\"\n\nprecision_1 = 0\nrecall_1 = 0\nfscore_1 = 0\naccuracy_1 = 0\nloss_results=[]\nfor j in loss_list:\n    precision_1 = 0\n    recall_1 = 0\n    fscore_1 = 0\n    accuracy_1 = 0\n    for i in range(10):\n        X = X_train\n        Y = hatetrainlabels\n        clf = SGDClassifier(loss = j)\n        clf.fit(X, Y);\n\n        vectorizerval = CountVectorizer(vocabulary = vectorizer.vocabulary_)\n        X = vectorizerval.fit_transform(hatevalflat)\n        Y = hatevallabels\n        predicted=clf.predict(X);\n        \n        results = precision_recall_fscore_support(Y,predicted,average='macro');\n        precision_1 = precision_1+ results[0]\n        recall_1 = recall_1+results[1]\n        fscore_1 = fscore_1+results[2]\n        accuracy_1 = accuracy_1+sum(hatevallabels==predicted)/len(hatevallabels)\n    teemp=[accuracy_1/10,precision_1/10,recall_1/10,fscore_1/10]\n    loss_results.append(teemp)\n\nprint(loss_results)\n        \n",
   "metadata": {
    "tags": [],
    "cell_id": "00063-e83bccc6-218e-40ea-ba97-f972d79b62ef",
    "deepnote_to_be_reexecuted": false,
    "source_hash": "a7b05ed8",
    "execution_start": 1622669939522,
    "execution_millis": 19159,
    "deepnote_cell_type": "code"
   },
   "outputs": [
    {
     "name": "stderr",
     "text": "/shared-libs/python3.7/py/lib/python3.7/site-packages/sklearn/linear_model/_stochastic_gradient.py:577: ConvergenceWarning: Maximum number of iteration reached before convergence. Consider increasing max_iter to improve the fit.\n  ConvergenceWarning)\n/shared-libs/python3.7/py/lib/python3.7/site-packages/sklearn/linear_model/_stochastic_gradient.py:577: ConvergenceWarning: Maximum number of iteration reached before convergence. Consider increasing max_iter to improve the fit.\n  ConvergenceWarning)\n/shared-libs/python3.7/py/lib/python3.7/site-packages/sklearn/linear_model/_stochastic_gradient.py:577: ConvergenceWarning: Maximum number of iteration reached before convergence. Consider increasing max_iter to improve the fit.\n  ConvergenceWarning)\n/shared-libs/python3.7/py/lib/python3.7/site-packages/sklearn/linear_model/_stochastic_gradient.py:577: ConvergenceWarning: Maximum number of iteration reached before convergence. Consider increasing max_iter to improve the fit.\n  ConvergenceWarning)\n/shared-libs/python3.7/py/lib/python3.7/site-packages/sklearn/linear_model/_stochastic_gradient.py:577: ConvergenceWarning: Maximum number of iteration reached before convergence. Consider increasing max_iter to improve the fit.\n  ConvergenceWarning)\n/shared-libs/python3.7/py/lib/python3.7/site-packages/sklearn/linear_model/_stochastic_gradient.py:577: ConvergenceWarning: Maximum number of iteration reached before convergence. Consider increasing max_iter to improve the fit.\n  ConvergenceWarning)\n/shared-libs/python3.7/py/lib/python3.7/site-packages/sklearn/linear_model/_stochastic_gradient.py:577: ConvergenceWarning: Maximum number of iteration reached before convergence. Consider increasing max_iter to improve the fit.\n  ConvergenceWarning)\n/shared-libs/python3.7/py/lib/python3.7/site-packages/sklearn/linear_model/_stochastic_gradient.py:577: ConvergenceWarning: Maximum number of iteration reached before convergence. Consider increasing max_iter to improve the fit.\n  ConvergenceWarning)\n/shared-libs/python3.7/py/lib/python3.7/site-packages/sklearn/linear_model/_stochastic_gradient.py:577: ConvergenceWarning: Maximum number of iteration reached before convergence. Consider increasing max_iter to improve the fit.\n  ConvergenceWarning)\n/shared-libs/python3.7/py/lib/python3.7/site-packages/sklearn/linear_model/_stochastic_gradient.py:577: ConvergenceWarning: Maximum number of iteration reached before convergence. Consider increasing max_iter to improve the fit.\n  ConvergenceWarning)\n[[0.6937, 0.688028020608702, 0.6895498444850433, 0.6884495805052671], [0.6872999999999999, 0.684393565291273, 0.6880228960522498, 0.684419187798062], [0.6986999999999999, 0.6959444320573651, 0.6995220111905376, 0.6957728440462315]]\n",
     "output_type": "stream"
    }
   ],
   "execution_count": null
  },
  {
   "cell_type": "markdown",
   "source": "### Alternative 2: Regulation strength (alpha)",
   "metadata": {
    "tags": [],
    "cell_id": "00056-e670d86e-6814-4745-b4e9-f6a1976eef42",
    "deepnote_cell_type": "markdown"
   }
  },
  {
   "cell_type": "code",
   "source": "alpha_list = [0.001,0.01,0.1]\nprecision_1 = 0\nrecall_1 = 0\nfscore_1 = 0\naccuracy_1 = 0\nalpha_results = []\n\nfor j in alpha_list:\n    precision_1 = 0\n    recall_1 = 0\n    fscore_1 = 0\n    accuracy_1 = 0\n    for i in range(10):\n        X = X_train\n        Y = hatetrainlabels\n        clf = SGDClassifier(loss = \"log\",alpha=j)\n        clf.fit(X, Y);\n\n        vectorizerval = CountVectorizer(vocabulary = vectorizer.vocabulary_)\n        X = vectorizerval.fit_transform(hatevalflat)\n        Y = hatevallabels\n        predicted=clf.predict(X);\n        \n        results = precision_recall_fscore_support(Y,predicted,average='macro');\n        precision_1 = precision_1+ results[0]\n        recall_1 = recall_1+results[1]\n        fscore_1 = fscore_1+results[2]\n        accuracy_1 = accuracy_1+sum(hatevallabels==predicted)/len(hatevallabels)\n        \n    teemp=[accuracy_1/10,precision_1/10,recall_1/10,fscore_1/10]\n    alpha_results.append(teemp)\n\nprint(alpha_results)",
   "metadata": {
    "tags": [],
    "cell_id": "00065-138824e3-bb5b-4ab5-98a1-e4a21c10ee78",
    "deepnote_to_be_reexecuted": false,
    "source_hash": "df094bbe",
    "execution_start": 1622669958683,
    "execution_millis": 4535,
    "deepnote_cell_type": "code"
   },
   "outputs": [
    {
     "name": "stdout",
     "text": "[[0.7253999999999999, 0.7214846319483404, 0.7109755549288636, 0.7136147443209244], [0.7013999999999999, 0.7015266175272724, 0.6787253086798191, 0.680689807129691], [0.6814000000000001, 0.7126812883888116, 0.6412533565481809, 0.6312779515677859]]\n",
     "output_type": "stream"
    }
   ],
   "execution_count": null
  },
  {
   "cell_type": "markdown",
   "source": "### Alternative 3: N-gram model",
   "metadata": {
    "tags": [],
    "cell_id": "00059-08697cb1-477c-4b10-b599-9dd7425fd833",
    "deepnote_cell_type": "markdown"
   }
  },
  {
   "cell_type": "code",
   "metadata": {
    "tags": [],
    "cell_id": "00055-9d6cb88f-ec4d-4b0d-8749-79a2d1141671",
    "deepnote_to_be_reexecuted": false,
    "source_hash": "49923596",
    "execution_start": 1622669963214,
    "execution_millis": 13350,
    "deepnote_cell_type": "code"
   },
   "source": "# Change the n-gram model (MLE)\nn_gram_list = [[1,1],[1,2],[1,3],[1,4],[2,2],[2,3]]\nn_gram_results = []\n\nfor i in n_gram_list:\n    precision_3 =0\n    recall_3 = 0\n    fscore_3 = 0\n    accuracy_3 = 0\n    for j in range(10):\n        X = X_train\n        Y = hatetrainlabels\n        clf = SGDClassifier(loss='log')\n        clf.fit(X, Y);\n\n        vectorizerval = CountVectorizer(vocabulary = vectorizer.vocabulary_,ngram_range = (i[0],i[1]))\n        X = vectorizerval.fit_transform(hatevalflat)\n        Y = hatevallabels\n        predicted = clf.predict(X);\n\n        results=precision_recall_fscore_support(Y,predicted,average = \"macro\")\n        precision_3 = precision_3+ results[0]\n        recall_3 = recall_3+results[1]\n        fscore_3 = recall_3+results[2]\n        accuracy_3 = accuracy_3+sum(hatevallabels==predicted)/len(hatevallabels)\n\n    teemp = []\n    teemp.append(accuracy_3/10)\n    teemp.append(precision_3/10)\n    teemp.append(recall_3/10)\n    teemp.append(fscore_3/10)\n    n_gram_results.append(teemp)\n\nprint(n_gram_results)\n#print('For the hatespeech detection:','\\n','Accuracy:',accuracy,'\\n','Precision:',precision,'\\n','Recall:',recall,'\\n','F-score:',fscore)",
   "outputs": [
    {
     "name": "stderr",
     "text": "/shared-libs/python3.7/py/lib/python3.7/site-packages/sklearn/metrics/_classification.py:1248: UndefinedMetricWarning: Precision and F-score are ill-defined and being set to 0.0 in labels with no predicted samples. Use `zero_division` parameter to control this behavior.\n  _warn_prf(average, modifier, msg_start, len(result))\n/shared-libs/python3.7/py/lib/python3.7/site-packages/sklearn/metrics/_classification.py:1248: UndefinedMetricWarning: Precision and F-score are ill-defined and being set to 0.0 in labels with no predicted samples. Use `zero_division` parameter to control this behavior.\n  _warn_prf(average, modifier, msg_start, len(result))\n/shared-libs/python3.7/py/lib/python3.7/site-packages/sklearn/metrics/_classification.py:1248: UndefinedMetricWarning: Precision and F-score are ill-defined and being set to 0.0 in labels with no predicted samples. Use `zero_division` parameter to control this behavior.\n  _warn_prf(average, modifier, msg_start, len(result))\n/shared-libs/python3.7/py/lib/python3.7/site-packages/sklearn/metrics/_classification.py:1248: UndefinedMetricWarning: Precision and F-score are ill-defined and being set to 0.0 in labels with no predicted samples. Use `zero_division` parameter to control this behavior.\n  _warn_prf(average, modifier, msg_start, len(result))\n/shared-libs/python3.7/py/lib/python3.7/site-packages/sklearn/metrics/_classification.py:1248: UndefinedMetricWarning: Precision and F-score are ill-defined and being set to 0.0 in labels with no predicted samples. Use `zero_division` parameter to control this behavior.\n  _warn_prf(average, modifier, msg_start, len(result))\n/shared-libs/python3.7/py/lib/python3.7/site-packages/sklearn/metrics/_classification.py:1248: UndefinedMetricWarning: Precision and F-score are ill-defined and being set to 0.0 in labels with no predicted samples. Use `zero_division` parameter to control this behavior.\n  _warn_prf(average, modifier, msg_start, len(result))\n/shared-libs/python3.7/py/lib/python3.7/site-packages/sklearn/metrics/_classification.py:1248: UndefinedMetricWarning: Precision and F-score are ill-defined and being set to 0.0 in labels with no predicted samples. Use `zero_division` parameter to control this behavior.\n  _warn_prf(average, modifier, msg_start, len(result))\n/shared-libs/python3.7/py/lib/python3.7/site-packages/sklearn/metrics/_classification.py:1248: UndefinedMetricWarning: Precision and F-score are ill-defined and being set to 0.0 in labels with no predicted samples. Use `zero_division` parameter to control this behavior.\n  _warn_prf(average, modifier, msg_start, len(result))\n/shared-libs/python3.7/py/lib/python3.7/site-packages/sklearn/metrics/_classification.py:1248: UndefinedMetricWarning: Precision and F-score are ill-defined and being set to 0.0 in labels with no predicted samples. Use `zero_division` parameter to control this behavior.\n  _warn_prf(average, modifier, msg_start, len(result))\n/shared-libs/python3.7/py/lib/python3.7/site-packages/sklearn/metrics/_classification.py:1248: UndefinedMetricWarning: Precision and F-score are ill-defined and being set to 0.0 in labels with no predicted samples. Use `zero_division` parameter to control this behavior.\n  _warn_prf(average, modifier, msg_start, len(result))\n/shared-libs/python3.7/py/lib/python3.7/site-packages/sklearn/metrics/_classification.py:1248: UndefinedMetricWarning: Precision and F-score are ill-defined and being set to 0.0 in labels with no predicted samples. Use `zero_division` parameter to control this behavior.\n  _warn_prf(average, modifier, msg_start, len(result))\n/shared-libs/python3.7/py/lib/python3.7/site-packages/sklearn/metrics/_classification.py:1248: UndefinedMetricWarning: Precision and F-score are ill-defined and being set to 0.0 in labels with no predicted samples. Use `zero_division` parameter to control this behavior.\n  _warn_prf(average, modifier, msg_start, len(result))\n/shared-libs/python3.7/py/lib/python3.7/site-packages/sklearn/metrics/_classification.py:1248: UndefinedMetricWarning: Precision and F-score are ill-defined and being set to 0.0 in labels with no predicted samples. Use `zero_division` parameter to control this behavior.\n  _warn_prf(average, modifier, msg_start, len(result))\n/shared-libs/python3.7/py/lib/python3.7/site-packages/sklearn/metrics/_classification.py:1248: UndefinedMetricWarning: Precision and F-score are ill-defined and being set to 0.0 in labels with no predicted samples. Use `zero_division` parameter to control this behavior.\n  _warn_prf(average, modifier, msg_start, len(result))\n/shared-libs/python3.7/py/lib/python3.7/site-packages/sklearn/metrics/_classification.py:1248: UndefinedMetricWarning: Precision and F-score are ill-defined and being set to 0.0 in labels with no predicted samples. Use `zero_division` parameter to control this behavior.\n  _warn_prf(average, modifier, msg_start, len(result))\n/shared-libs/python3.7/py/lib/python3.7/site-packages/sklearn/metrics/_classification.py:1248: UndefinedMetricWarning: Precision and F-score are ill-defined and being set to 0.0 in labels with no predicted samples. Use `zero_division` parameter to control this behavior.\n  _warn_prf(average, modifier, msg_start, len(result))\n/shared-libs/python3.7/py/lib/python3.7/site-packages/sklearn/metrics/_classification.py:1248: UndefinedMetricWarning: Precision and F-score are ill-defined and being set to 0.0 in labels with no predicted samples. Use `zero_division` parameter to control this behavior.\n  _warn_prf(average, modifier, msg_start, len(result))\n/shared-libs/python3.7/py/lib/python3.7/site-packages/sklearn/metrics/_classification.py:1248: UndefinedMetricWarning: Precision and F-score are ill-defined and being set to 0.0 in labels with no predicted samples. Use `zero_division` parameter to control this behavior.\n  _warn_prf(average, modifier, msg_start, len(result))\n/shared-libs/python3.7/py/lib/python3.7/site-packages/sklearn/metrics/_classification.py:1248: UndefinedMetricWarning: Precision and F-score are ill-defined and being set to 0.0 in labels with no predicted samples. Use `zero_division` parameter to control this behavior.\n  _warn_prf(average, modifier, msg_start, len(result))\n[[0.7126999999999999, 0.7067860138959875, 0.7060397431653118, 0.777769280881796], [0.7144, 0.7084575650737108, 0.7073441478556919, 0.7791194794955452], [0.7136, 0.7077524978950458, 0.7073621311884123, 0.7781293640065223], [0.7156, 0.709621317044106, 0.7066011092446592, 0.7773232251419339], [0.5730000000000001, 0.28650000000000003, 0.5, 0.5364272091544818], [0.5730000000000001, 0.28650000000000003, 0.5, 0.5364272091544818]]\n/shared-libs/python3.7/py/lib/python3.7/site-packages/sklearn/metrics/_classification.py:1248: UndefinedMetricWarning: Precision and F-score are ill-defined and being set to 0.0 in labels with no predicted samples. Use `zero_division` parameter to control this behavior.\n  _warn_prf(average, modifier, msg_start, len(result))\n",
     "output_type": "stream"
    }
   ],
   "execution_count": null
  },
  {
   "cell_type": "markdown",
   "source": "### Alternative 4: Other Classifiers",
   "metadata": {
    "tags": [],
    "cell_id": "00061-854d7067-7d54-4d90-a54d-834b46791f1f",
    "deepnote_cell_type": "markdown"
   }
  },
  {
   "cell_type": "code",
   "metadata": {
    "tags": [],
    "cell_id": "00061-3ca18879-5004-4f6c-94fc-f0cf92e24c57",
    "deepnote_to_be_reexecuted": false,
    "source_hash": "b4e012f0",
    "execution_start": 1622669976569,
    "execution_millis": 2619,
    "deepnote_cell_type": "code"
   },
   "source": "Other_Classifiers=[1,2]\nOther_Classifiers_dict = {1:RandomForestClassifier,2:MultinomialNB}\nOther_Classifiers_results = []\n\nfor i in Other_Classifiers:\n    precision_4 =0\n    recall_4 = 0\n    fscore_4 = 0\n    accuracy_4 = 0\n    for j in range(10):\n        X = X_train\n        Y = hatetrainlabels\n        clf_model = Other_Classifiers_dict[i]()\n        clf_model.fit(X,Y);\n\n        vectorizerval = CountVectorizer(vocabulary = vectorizer.vocabulary_)\n        X = vectorizerval.fit_transform(hatevalflat)\n        Y = hatevallabels\n        predicted = clf_model.predict(X);\n\n        results=precision_recall_fscore_support(Y,predicted,average = \"macro\")\n        precision_4 =precision_4+ results[0]\n        recall_4 = recall_4+results[1]\n        fscore_4 = recall_4+results[2]\n        accuracy_4 = accuracy_4+sum(hatevallabels==predicted)/len(hatevallabels)\n\n    teemp = []\n    teemp.append(accuracy_4/10)\n    teemp.append(precision_4/10)\n    teemp.append(recall_4/10)\n    teemp.append(fscore_4/10)\n    Other_Classifiers_results.append(teemp)\n\nprint(Other_Classifiers_results)\n#print('For the hatespeech detection:','\\n','Accuracy:',accuracy,'\\n','Precision:',precision,'\\n','Recall:',recall,'\\n','F-score:',fscore)",
   "outputs": [
    {
     "output_type": "error",
     "ename": "KeyboardInterrupt",
     "evalue": "",
     "traceback": [
      "\u001b[0;31m---------------------------------------------------------------------------\u001b[0m",
      "\u001b[0;31mKeyboardInterrupt\u001b[0m                         Traceback (most recent call last)",
      "\u001b[0;32m<ipython-input-36-9899e52a6ad4>\u001b[0m in \u001b[0;36m<module>\u001b[0;34m\u001b[0m\n\u001b[1;32m     12\u001b[0m         \u001b[0mY\u001b[0m \u001b[0;34m=\u001b[0m \u001b[0mhatetrainlabels\u001b[0m\u001b[0;34m\u001b[0m\u001b[0;34m\u001b[0m\u001b[0m\n\u001b[1;32m     13\u001b[0m         \u001b[0mclf_model\u001b[0m \u001b[0;34m=\u001b[0m \u001b[0mOther_Classifiers_dict\u001b[0m\u001b[0;34m[\u001b[0m\u001b[0mi\u001b[0m\u001b[0;34m]\u001b[0m\u001b[0;34m(\u001b[0m\u001b[0;34m)\u001b[0m\u001b[0;34m\u001b[0m\u001b[0;34m\u001b[0m\u001b[0m\n\u001b[0;32m---> 14\u001b[0;31m         \u001b[0mclf_model\u001b[0m\u001b[0;34m.\u001b[0m\u001b[0mfit\u001b[0m\u001b[0;34m(\u001b[0m\u001b[0mX\u001b[0m\u001b[0;34m,\u001b[0m\u001b[0mY\u001b[0m\u001b[0;34m)\u001b[0m\u001b[0;34m;\u001b[0m\u001b[0;34m\u001b[0m\u001b[0;34m\u001b[0m\u001b[0m\n\u001b[0m\u001b[1;32m     15\u001b[0m \u001b[0;34m\u001b[0m\u001b[0m\n\u001b[1;32m     16\u001b[0m         \u001b[0mvectorizerval\u001b[0m \u001b[0;34m=\u001b[0m \u001b[0mCountVectorizer\u001b[0m\u001b[0;34m(\u001b[0m\u001b[0mvocabulary\u001b[0m \u001b[0;34m=\u001b[0m \u001b[0mvectorizer\u001b[0m\u001b[0;34m.\u001b[0m\u001b[0mvocabulary_\u001b[0m\u001b[0;34m)\u001b[0m\u001b[0;34m\u001b[0m\u001b[0;34m\u001b[0m\u001b[0m\n",
      "\u001b[0;32m/shared-libs/python3.7/py/lib/python3.7/site-packages/sklearn/ensemble/_forest.py\u001b[0m in \u001b[0;36mfit\u001b[0;34m(self, X, y, sample_weight)\u001b[0m\n\u001b[1;32m    391\u001b[0m                     \u001b[0mverbose\u001b[0m\u001b[0;34m=\u001b[0m\u001b[0mself\u001b[0m\u001b[0;34m.\u001b[0m\u001b[0mverbose\u001b[0m\u001b[0;34m,\u001b[0m \u001b[0mclass_weight\u001b[0m\u001b[0;34m=\u001b[0m\u001b[0mself\u001b[0m\u001b[0;34m.\u001b[0m\u001b[0mclass_weight\u001b[0m\u001b[0;34m,\u001b[0m\u001b[0;34m\u001b[0m\u001b[0;34m\u001b[0m\u001b[0m\n\u001b[1;32m    392\u001b[0m                     n_samples_bootstrap=n_samples_bootstrap)\n\u001b[0;32m--> 393\u001b[0;31m                 for i, t in enumerate(trees))\n\u001b[0m\u001b[1;32m    394\u001b[0m \u001b[0;34m\u001b[0m\u001b[0m\n\u001b[1;32m    395\u001b[0m             \u001b[0;31m# Collect newly grown trees\u001b[0m\u001b[0;34m\u001b[0m\u001b[0;34m\u001b[0m\u001b[0;34m\u001b[0m\u001b[0m\n",
      "\u001b[0;32m/shared-libs/python3.7/py/lib/python3.7/site-packages/joblib/parallel.py\u001b[0m in \u001b[0;36m__call__\u001b[0;34m(self, iterable)\u001b[0m\n\u001b[1;32m   1042\u001b[0m                 \u001b[0mself\u001b[0m\u001b[0;34m.\u001b[0m\u001b[0m_iterating\u001b[0m \u001b[0;34m=\u001b[0m \u001b[0mself\u001b[0m\u001b[0;34m.\u001b[0m\u001b[0m_original_iterator\u001b[0m \u001b[0;32mis\u001b[0m \u001b[0;32mnot\u001b[0m \u001b[0;32mNone\u001b[0m\u001b[0;34m\u001b[0m\u001b[0;34m\u001b[0m\u001b[0m\n\u001b[1;32m   1043\u001b[0m \u001b[0;34m\u001b[0m\u001b[0m\n\u001b[0;32m-> 1044\u001b[0;31m             \u001b[0;32mwhile\u001b[0m \u001b[0mself\u001b[0m\u001b[0;34m.\u001b[0m\u001b[0mdispatch_one_batch\u001b[0m\u001b[0;34m(\u001b[0m\u001b[0miterator\u001b[0m\u001b[0;34m)\u001b[0m\u001b[0;34m:\u001b[0m\u001b[0;34m\u001b[0m\u001b[0;34m\u001b[0m\u001b[0m\n\u001b[0m\u001b[1;32m   1045\u001b[0m                 \u001b[0;32mpass\u001b[0m\u001b[0;34m\u001b[0m\u001b[0;34m\u001b[0m\u001b[0m\n\u001b[1;32m   1046\u001b[0m \u001b[0;34m\u001b[0m\u001b[0m\n",
      "\u001b[0;32m/shared-libs/python3.7/py/lib/python3.7/site-packages/joblib/parallel.py\u001b[0m in \u001b[0;36mdispatch_one_batch\u001b[0;34m(self, iterator)\u001b[0m\n\u001b[1;32m    857\u001b[0m                 \u001b[0;32mreturn\u001b[0m \u001b[0;32mFalse\u001b[0m\u001b[0;34m\u001b[0m\u001b[0;34m\u001b[0m\u001b[0m\n\u001b[1;32m    858\u001b[0m             \u001b[0;32melse\u001b[0m\u001b[0;34m:\u001b[0m\u001b[0;34m\u001b[0m\u001b[0;34m\u001b[0m\u001b[0m\n\u001b[0;32m--> 859\u001b[0;31m                 \u001b[0mself\u001b[0m\u001b[0;34m.\u001b[0m\u001b[0m_dispatch\u001b[0m\u001b[0;34m(\u001b[0m\u001b[0mtasks\u001b[0m\u001b[0;34m)\u001b[0m\u001b[0;34m\u001b[0m\u001b[0;34m\u001b[0m\u001b[0m\n\u001b[0m\u001b[1;32m    860\u001b[0m                 \u001b[0;32mreturn\u001b[0m \u001b[0;32mTrue\u001b[0m\u001b[0;34m\u001b[0m\u001b[0;34m\u001b[0m\u001b[0m\n\u001b[1;32m    861\u001b[0m \u001b[0;34m\u001b[0m\u001b[0m\n",
      "\u001b[0;32m/shared-libs/python3.7/py/lib/python3.7/site-packages/joblib/parallel.py\u001b[0m in \u001b[0;36m_dispatch\u001b[0;34m(self, batch)\u001b[0m\n\u001b[1;32m    775\u001b[0m         \u001b[0;32mwith\u001b[0m \u001b[0mself\u001b[0m\u001b[0;34m.\u001b[0m\u001b[0m_lock\u001b[0m\u001b[0;34m:\u001b[0m\u001b[0;34m\u001b[0m\u001b[0;34m\u001b[0m\u001b[0m\n\u001b[1;32m    776\u001b[0m             \u001b[0mjob_idx\u001b[0m \u001b[0;34m=\u001b[0m \u001b[0mlen\u001b[0m\u001b[0;34m(\u001b[0m\u001b[0mself\u001b[0m\u001b[0;34m.\u001b[0m\u001b[0m_jobs\u001b[0m\u001b[0;34m)\u001b[0m\u001b[0;34m\u001b[0m\u001b[0;34m\u001b[0m\u001b[0m\n\u001b[0;32m--> 777\u001b[0;31m             \u001b[0mjob\u001b[0m \u001b[0;34m=\u001b[0m \u001b[0mself\u001b[0m\u001b[0;34m.\u001b[0m\u001b[0m_backend\u001b[0m\u001b[0;34m.\u001b[0m\u001b[0mapply_async\u001b[0m\u001b[0;34m(\u001b[0m\u001b[0mbatch\u001b[0m\u001b[0;34m,\u001b[0m \u001b[0mcallback\u001b[0m\u001b[0;34m=\u001b[0m\u001b[0mcb\u001b[0m\u001b[0;34m)\u001b[0m\u001b[0;34m\u001b[0m\u001b[0;34m\u001b[0m\u001b[0m\n\u001b[0m\u001b[1;32m    778\u001b[0m             \u001b[0;31m# A job can complete so quickly than its callback is\u001b[0m\u001b[0;34m\u001b[0m\u001b[0;34m\u001b[0m\u001b[0;34m\u001b[0m\u001b[0m\n\u001b[1;32m    779\u001b[0m             \u001b[0;31m# called before we get here, causing self._jobs to\u001b[0m\u001b[0;34m\u001b[0m\u001b[0;34m\u001b[0m\u001b[0;34m\u001b[0m\u001b[0m\n",
      "\u001b[0;32m/shared-libs/python3.7/py/lib/python3.7/site-packages/joblib/_parallel_backends.py\u001b[0m in \u001b[0;36mapply_async\u001b[0;34m(self, func, callback)\u001b[0m\n\u001b[1;32m    206\u001b[0m     \u001b[0;32mdef\u001b[0m \u001b[0mapply_async\u001b[0m\u001b[0;34m(\u001b[0m\u001b[0mself\u001b[0m\u001b[0;34m,\u001b[0m \u001b[0mfunc\u001b[0m\u001b[0;34m,\u001b[0m \u001b[0mcallback\u001b[0m\u001b[0;34m=\u001b[0m\u001b[0;32mNone\u001b[0m\u001b[0;34m)\u001b[0m\u001b[0;34m:\u001b[0m\u001b[0;34m\u001b[0m\u001b[0;34m\u001b[0m\u001b[0m\n\u001b[1;32m    207\u001b[0m         \u001b[0;34m\"\"\"Schedule a func to be run\"\"\"\u001b[0m\u001b[0;34m\u001b[0m\u001b[0;34m\u001b[0m\u001b[0m\n\u001b[0;32m--> 208\u001b[0;31m         \u001b[0mresult\u001b[0m \u001b[0;34m=\u001b[0m \u001b[0mImmediateResult\u001b[0m\u001b[0;34m(\u001b[0m\u001b[0mfunc\u001b[0m\u001b[0;34m)\u001b[0m\u001b[0;34m\u001b[0m\u001b[0;34m\u001b[0m\u001b[0m\n\u001b[0m\u001b[1;32m    209\u001b[0m         \u001b[0;32mif\u001b[0m \u001b[0mcallback\u001b[0m\u001b[0;34m:\u001b[0m\u001b[0;34m\u001b[0m\u001b[0;34m\u001b[0m\u001b[0m\n\u001b[1;32m    210\u001b[0m             \u001b[0mcallback\u001b[0m\u001b[0;34m(\u001b[0m\u001b[0mresult\u001b[0m\u001b[0;34m)\u001b[0m\u001b[0;34m\u001b[0m\u001b[0;34m\u001b[0m\u001b[0m\n",
      "\u001b[0;32m/shared-libs/python3.7/py/lib/python3.7/site-packages/joblib/_parallel_backends.py\u001b[0m in \u001b[0;36m__init__\u001b[0;34m(self, batch)\u001b[0m\n\u001b[1;32m    570\u001b[0m         \u001b[0;31m# Don't delay the application, to avoid keeping the input\u001b[0m\u001b[0;34m\u001b[0m\u001b[0;34m\u001b[0m\u001b[0;34m\u001b[0m\u001b[0m\n\u001b[1;32m    571\u001b[0m         \u001b[0;31m# arguments in memory\u001b[0m\u001b[0;34m\u001b[0m\u001b[0;34m\u001b[0m\u001b[0;34m\u001b[0m\u001b[0m\n\u001b[0;32m--> 572\u001b[0;31m         \u001b[0mself\u001b[0m\u001b[0;34m.\u001b[0m\u001b[0mresults\u001b[0m \u001b[0;34m=\u001b[0m \u001b[0mbatch\u001b[0m\u001b[0;34m(\u001b[0m\u001b[0;34m)\u001b[0m\u001b[0;34m\u001b[0m\u001b[0;34m\u001b[0m\u001b[0m\n\u001b[0m\u001b[1;32m    573\u001b[0m \u001b[0;34m\u001b[0m\u001b[0m\n\u001b[1;32m    574\u001b[0m     \u001b[0;32mdef\u001b[0m \u001b[0mget\u001b[0m\u001b[0;34m(\u001b[0m\u001b[0mself\u001b[0m\u001b[0;34m)\u001b[0m\u001b[0;34m:\u001b[0m\u001b[0;34m\u001b[0m\u001b[0;34m\u001b[0m\u001b[0m\n",
      "\u001b[0;32m/shared-libs/python3.7/py/lib/python3.7/site-packages/joblib/parallel.py\u001b[0m in \u001b[0;36m__call__\u001b[0;34m(self)\u001b[0m\n\u001b[1;32m    261\u001b[0m         \u001b[0;32mwith\u001b[0m \u001b[0mparallel_backend\u001b[0m\u001b[0;34m(\u001b[0m\u001b[0mself\u001b[0m\u001b[0;34m.\u001b[0m\u001b[0m_backend\u001b[0m\u001b[0;34m,\u001b[0m \u001b[0mn_jobs\u001b[0m\u001b[0;34m=\u001b[0m\u001b[0mself\u001b[0m\u001b[0;34m.\u001b[0m\u001b[0m_n_jobs\u001b[0m\u001b[0;34m)\u001b[0m\u001b[0;34m:\u001b[0m\u001b[0;34m\u001b[0m\u001b[0;34m\u001b[0m\u001b[0m\n\u001b[1;32m    262\u001b[0m             return [func(*args, **kwargs)\n\u001b[0;32m--> 263\u001b[0;31m                     for func, args, kwargs in self.items]\n\u001b[0m\u001b[1;32m    264\u001b[0m \u001b[0;34m\u001b[0m\u001b[0m\n\u001b[1;32m    265\u001b[0m     \u001b[0;32mdef\u001b[0m \u001b[0m__reduce__\u001b[0m\u001b[0;34m(\u001b[0m\u001b[0mself\u001b[0m\u001b[0;34m)\u001b[0m\u001b[0;34m:\u001b[0m\u001b[0;34m\u001b[0m\u001b[0;34m\u001b[0m\u001b[0m\n",
      "\u001b[0;32m/shared-libs/python3.7/py/lib/python3.7/site-packages/joblib/parallel.py\u001b[0m in \u001b[0;36m<listcomp>\u001b[0;34m(.0)\u001b[0m\n\u001b[1;32m    261\u001b[0m         \u001b[0;32mwith\u001b[0m \u001b[0mparallel_backend\u001b[0m\u001b[0;34m(\u001b[0m\u001b[0mself\u001b[0m\u001b[0;34m.\u001b[0m\u001b[0m_backend\u001b[0m\u001b[0;34m,\u001b[0m \u001b[0mn_jobs\u001b[0m\u001b[0;34m=\u001b[0m\u001b[0mself\u001b[0m\u001b[0;34m.\u001b[0m\u001b[0m_n_jobs\u001b[0m\u001b[0;34m)\u001b[0m\u001b[0;34m:\u001b[0m\u001b[0;34m\u001b[0m\u001b[0;34m\u001b[0m\u001b[0m\n\u001b[1;32m    262\u001b[0m             return [func(*args, **kwargs)\n\u001b[0;32m--> 263\u001b[0;31m                     for func, args, kwargs in self.items]\n\u001b[0m\u001b[1;32m    264\u001b[0m \u001b[0;34m\u001b[0m\u001b[0m\n\u001b[1;32m    265\u001b[0m     \u001b[0;32mdef\u001b[0m \u001b[0m__reduce__\u001b[0m\u001b[0;34m(\u001b[0m\u001b[0mself\u001b[0m\u001b[0;34m)\u001b[0m\u001b[0;34m:\u001b[0m\u001b[0;34m\u001b[0m\u001b[0;34m\u001b[0m\u001b[0m\n",
      "\u001b[0;32m/shared-libs/python3.7/py/lib/python3.7/site-packages/sklearn/utils/fixes.py\u001b[0m in \u001b[0;36m__call__\u001b[0;34m(self, *args, **kwargs)\u001b[0m\n\u001b[1;32m    220\u001b[0m     \u001b[0;32mdef\u001b[0m \u001b[0m__call__\u001b[0m\u001b[0;34m(\u001b[0m\u001b[0mself\u001b[0m\u001b[0;34m,\u001b[0m \u001b[0;34m*\u001b[0m\u001b[0margs\u001b[0m\u001b[0;34m,\u001b[0m \u001b[0;34m**\u001b[0m\u001b[0mkwargs\u001b[0m\u001b[0;34m)\u001b[0m\u001b[0;34m:\u001b[0m\u001b[0;34m\u001b[0m\u001b[0;34m\u001b[0m\u001b[0m\n\u001b[1;32m    221\u001b[0m         \u001b[0;32mwith\u001b[0m \u001b[0mconfig_context\u001b[0m\u001b[0;34m(\u001b[0m\u001b[0;34m**\u001b[0m\u001b[0mself\u001b[0m\u001b[0;34m.\u001b[0m\u001b[0mconfig\u001b[0m\u001b[0;34m)\u001b[0m\u001b[0;34m:\u001b[0m\u001b[0;34m\u001b[0m\u001b[0;34m\u001b[0m\u001b[0m\n\u001b[0;32m--> 222\u001b[0;31m             \u001b[0;32mreturn\u001b[0m \u001b[0mself\u001b[0m\u001b[0;34m.\u001b[0m\u001b[0mfunction\u001b[0m\u001b[0;34m(\u001b[0m\u001b[0;34m*\u001b[0m\u001b[0margs\u001b[0m\u001b[0;34m,\u001b[0m \u001b[0;34m**\u001b[0m\u001b[0mkwargs\u001b[0m\u001b[0;34m)\u001b[0m\u001b[0;34m\u001b[0m\u001b[0;34m\u001b[0m\u001b[0m\n\u001b[0m",
      "\u001b[0;32m/shared-libs/python3.7/py/lib/python3.7/site-packages/sklearn/ensemble/_forest.py\u001b[0m in \u001b[0;36m_parallel_build_trees\u001b[0;34m(tree, forest, X, y, sample_weight, tree_idx, n_trees, verbose, class_weight, n_samples_bootstrap)\u001b[0m\n\u001b[1;32m    167\u001b[0m                                                         indices=indices)\n\u001b[1;32m    168\u001b[0m \u001b[0;34m\u001b[0m\u001b[0m\n\u001b[0;32m--> 169\u001b[0;31m         \u001b[0mtree\u001b[0m\u001b[0;34m.\u001b[0m\u001b[0mfit\u001b[0m\u001b[0;34m(\u001b[0m\u001b[0mX\u001b[0m\u001b[0;34m,\u001b[0m \u001b[0my\u001b[0m\u001b[0;34m,\u001b[0m \u001b[0msample_weight\u001b[0m\u001b[0;34m=\u001b[0m\u001b[0mcurr_sample_weight\u001b[0m\u001b[0;34m,\u001b[0m \u001b[0mcheck_input\u001b[0m\u001b[0;34m=\u001b[0m\u001b[0;32mFalse\u001b[0m\u001b[0;34m)\u001b[0m\u001b[0;34m\u001b[0m\u001b[0;34m\u001b[0m\u001b[0m\n\u001b[0m\u001b[1;32m    170\u001b[0m     \u001b[0;32melse\u001b[0m\u001b[0;34m:\u001b[0m\u001b[0;34m\u001b[0m\u001b[0;34m\u001b[0m\u001b[0m\n\u001b[1;32m    171\u001b[0m         \u001b[0mtree\u001b[0m\u001b[0;34m.\u001b[0m\u001b[0mfit\u001b[0m\u001b[0;34m(\u001b[0m\u001b[0mX\u001b[0m\u001b[0;34m,\u001b[0m \u001b[0my\u001b[0m\u001b[0;34m,\u001b[0m \u001b[0msample_weight\u001b[0m\u001b[0;34m=\u001b[0m\u001b[0msample_weight\u001b[0m\u001b[0;34m,\u001b[0m \u001b[0mcheck_input\u001b[0m\u001b[0;34m=\u001b[0m\u001b[0;32mFalse\u001b[0m\u001b[0;34m)\u001b[0m\u001b[0;34m\u001b[0m\u001b[0;34m\u001b[0m\u001b[0m\n",
      "\u001b[0;32m/shared-libs/python3.7/py/lib/python3.7/site-packages/sklearn/tree/_classes.py\u001b[0m in \u001b[0;36mfit\u001b[0;34m(self, X, y, sample_weight, check_input, X_idx_sorted)\u001b[0m\n\u001b[1;32m    905\u001b[0m             \u001b[0msample_weight\u001b[0m\u001b[0;34m=\u001b[0m\u001b[0msample_weight\u001b[0m\u001b[0;34m,\u001b[0m\u001b[0;34m\u001b[0m\u001b[0;34m\u001b[0m\u001b[0m\n\u001b[1;32m    906\u001b[0m             \u001b[0mcheck_input\u001b[0m\u001b[0;34m=\u001b[0m\u001b[0mcheck_input\u001b[0m\u001b[0;34m,\u001b[0m\u001b[0;34m\u001b[0m\u001b[0;34m\u001b[0m\u001b[0m\n\u001b[0;32m--> 907\u001b[0;31m             X_idx_sorted=X_idx_sorted)\n\u001b[0m\u001b[1;32m    908\u001b[0m         \u001b[0;32mreturn\u001b[0m \u001b[0mself\u001b[0m\u001b[0;34m\u001b[0m\u001b[0;34m\u001b[0m\u001b[0m\n\u001b[1;32m    909\u001b[0m \u001b[0;34m\u001b[0m\u001b[0m\n",
      "\u001b[0;32m/shared-libs/python3.7/py/lib/python3.7/site-packages/sklearn/tree/_classes.py\u001b[0m in \u001b[0;36mfit\u001b[0;34m(self, X, y, sample_weight, check_input, X_idx_sorted)\u001b[0m\n\u001b[1;32m    392\u001b[0m                                            min_impurity_split)\n\u001b[1;32m    393\u001b[0m \u001b[0;34m\u001b[0m\u001b[0m\n\u001b[0;32m--> 394\u001b[0;31m         \u001b[0mbuilder\u001b[0m\u001b[0;34m.\u001b[0m\u001b[0mbuild\u001b[0m\u001b[0;34m(\u001b[0m\u001b[0mself\u001b[0m\u001b[0;34m.\u001b[0m\u001b[0mtree_\u001b[0m\u001b[0;34m,\u001b[0m \u001b[0mX\u001b[0m\u001b[0;34m,\u001b[0m \u001b[0my\u001b[0m\u001b[0;34m,\u001b[0m \u001b[0msample_weight\u001b[0m\u001b[0;34m)\u001b[0m\u001b[0;34m\u001b[0m\u001b[0;34m\u001b[0m\u001b[0m\n\u001b[0m\u001b[1;32m    395\u001b[0m \u001b[0;34m\u001b[0m\u001b[0m\n\u001b[1;32m    396\u001b[0m         \u001b[0;32mif\u001b[0m \u001b[0mself\u001b[0m\u001b[0;34m.\u001b[0m\u001b[0mn_outputs_\u001b[0m \u001b[0;34m==\u001b[0m \u001b[0;36m1\u001b[0m \u001b[0;32mand\u001b[0m \u001b[0mis_classifier\u001b[0m\u001b[0;34m(\u001b[0m\u001b[0mself\u001b[0m\u001b[0;34m)\u001b[0m\u001b[0;34m:\u001b[0m\u001b[0;34m\u001b[0m\u001b[0;34m\u001b[0m\u001b[0m\n",
      "\u001b[0;31mKeyboardInterrupt\u001b[0m: "
     ]
    }
   ],
   "execution_count": null
  },
  {
   "cell_type": "code",
   "metadata": {
    "tags": [],
    "cell_id": "00064-484304fb-c423-430f-b5ab-250ab84630bd",
    "deepnote_to_be_reexecuted": true,
    "source_hash": "b623e53d",
    "execution_start": 1622644954846,
    "execution_millis": 4,
    "deepnote_cell_type": "code"
   },
   "source": "",
   "outputs": [],
   "execution_count": null
  },
  {
   "cell_type": "markdown",
   "source": "### Model Summary (Hate Speech)",
   "metadata": {
    "tags": [],
    "cell_id": "00065-901c1f05-4c2b-43f8-93ea-e1e7ed8d44ec",
    "deepnote_cell_type": "markdown"
   }
  },
  {
   "cell_type": "markdown",
   "source": "#### Loss Function Summary:",
   "metadata": {
    "tags": [],
    "cell_id": "00066-7e78d1ed-d53e-4dd1-84d0-b9a59c2a2df0",
    "deepnote_cell_type": "markdown"
   }
  },
  {
   "cell_type": "code",
   "metadata": {
    "tags": [],
    "cell_id": "00047-1c4ecd70-e6d9-44e8-b840-d7d7e0930c48",
    "deepnote_to_be_reexecuted": true,
    "source_hash": "4bbbff42",
    "execution_start": 1622650160751,
    "execution_millis": 76,
    "deepnote_cell_type": "code"
   },
   "source": "loss_results_sum = np.array(loss_results).T.tolist()\n\nloss_results_sum = pd.DataFrame(data = loss_results_sum,index=[\"Accuracy\",\"Precision\",\"Recall\",\"F-Score\"])\nloss_results_sum.columns = loss_list\nloss_results_sum",
   "outputs": [
    {
     "output_type": "execute_result",
     "execution_count": 51,
     "data": {
      "application/vnd.deepnote.dataframe.v2+json": {
       "row_count": 4,
       "column_count": 3,
       "columns": [
        {
         "name": "hinge",
         "dtype": "float64",
         "stats": {
          "unique_count": 4,
          "nan_count": 0,
          "min": "0.6867197850727249",
          "max": "0.6906",
          "histogram": [
           {
            "bin_start": 0.6867197850727249,
            "bin_end": 0.6871078065654525,
            "count": 2
           },
           {
            "bin_start": 0.6871078065654525,
            "bin_end": 0.6874958280581799,
            "count": 0
           },
           {
            "bin_start": 0.6874958280581799,
            "bin_end": 0.6878838495509074,
            "count": 0
           },
           {
            "bin_start": 0.6878838495509074,
            "bin_end": 0.688271871043635,
            "count": 0
           },
           {
            "bin_start": 0.688271871043635,
            "bin_end": 0.6886598925363625,
            "count": 0
           },
           {
            "bin_start": 0.6886598925363625,
            "bin_end": 0.6890479140290899,
            "count": 0
           },
           {
            "bin_start": 0.6890479140290899,
            "bin_end": 0.6894359355218175,
            "count": 0
           },
           {
            "bin_start": 0.6894359355218175,
            "bin_end": 0.689823957014545,
            "count": 1
           },
           {
            "bin_start": 0.689823957014545,
            "bin_end": 0.6902119785072725,
            "count": 0
           },
           {
            "bin_start": 0.6902119785072725,
            "bin_end": 0.6906,
            "count": 1
           }
          ]
         }
        },
        {
         "name": "squared_hinge",
         "dtype": "float64",
         "stats": {
          "unique_count": 4,
          "nan_count": 0,
          "min": "0.6846836424700051",
          "max": "0.6883145121407932",
          "histogram": [
           {
            "bin_start": 0.6846836424700051,
            "bin_end": 0.6850467294370839,
            "count": 2
           },
           {
            "bin_start": 0.6850467294370839,
            "bin_end": 0.6854098164041628,
            "count": 0
           },
           {
            "bin_start": 0.6854098164041628,
            "bin_end": 0.6857729033712415,
            "count": 0
           },
           {
            "bin_start": 0.6857729033712415,
            "bin_end": 0.6861359903383204,
            "count": 0
           },
           {
            "bin_start": 0.6861359903383204,
            "bin_end": 0.6864990773053992,
            "count": 0
           },
           {
            "bin_start": 0.6864990773053992,
            "bin_end": 0.6868621642724779,
            "count": 0
           },
           {
            "bin_start": 0.6868621642724779,
            "bin_end": 0.6872252512395568,
            "count": 0
           },
           {
            "bin_start": 0.6872252512395568,
            "bin_end": 0.6875883382066356,
            "count": 0
           },
           {
            "bin_start": 0.6875883382066356,
            "bin_end": 0.6879514251737144,
            "count": 1
           },
           {
            "bin_start": 0.6879514251737144,
            "bin_end": 0.6883145121407932,
            "count": 1
           }
          ]
         }
        },
        {
         "name": "modified_huber",
         "dtype": "float64",
         "stats": {
          "unique_count": 4,
          "nan_count": 0,
          "min": "0.6930173470007625",
          "max": "0.696383510918744",
          "histogram": [
           {
            "bin_start": 0.6930173470007625,
            "bin_end": 0.6933539633925606,
            "count": 2
           },
           {
            "bin_start": 0.6933539633925606,
            "bin_end": 0.6936905797843588,
            "count": 0
           },
           {
            "bin_start": 0.6936905797843588,
            "bin_end": 0.6940271961761569,
            "count": 0
           },
           {
            "bin_start": 0.6940271961761569,
            "bin_end": 0.6943638125679551,
            "count": 0
           },
           {
            "bin_start": 0.6943638125679551,
            "bin_end": 0.6947004289597531,
            "count": 0
           },
           {
            "bin_start": 0.6947004289597531,
            "bin_end": 0.6950370453515513,
            "count": 0
           },
           {
            "bin_start": 0.6950370453515513,
            "bin_end": 0.6953736617433495,
            "count": 0
           },
           {
            "bin_start": 0.6953736617433495,
            "bin_end": 0.6957102781351476,
            "count": 0
           },
           {
            "bin_start": 0.6957102781351476,
            "bin_end": 0.6960468945269458,
            "count": 0
           },
           {
            "bin_start": 0.6960468945269458,
            "bin_end": 0.696383510918744,
            "count": 2
           }
          ]
         }
        },
        {
         "name": "_deepnote_index_column",
         "dtype": "object"
        }
       ],
       "rows_top": [
        {
         "hinge": 0.6906,
         "squared_hinge": 0.6876,
         "modified_huber": 0.6963,
         "_deepnote_index_column": "Accuracy"
        },
        {
         "hinge": 0.6867197850727249,
         "squared_hinge": 0.6846836424700051,
         "modified_huber": 0.6930173470007625,
         "_deepnote_index_column": "Precision"
        },
        {
         "hinge": 0.6897388738346597,
         "squared_hinge": 0.6883145121407932,
         "modified_huber": 0.696383510918744,
         "_deepnote_index_column": "Recall"
        },
        {
         "hinge": 0.6869882952474621,
         "squared_hinge": 0.6847155958958977,
         "modified_huber": 0.6930713387462072,
         "_deepnote_index_column": "F-Score"
        }
       ],
       "rows_bottom": null
      },
      "text/plain": "              hinge  squared_hinge  modified_huber\nAccuracy   0.690600       0.687600        0.696300\nPrecision  0.686720       0.684684        0.693017\nRecall     0.689739       0.688315        0.696384\nF-Score    0.686988       0.684716        0.693071",
      "text/html": "<div>\n<style scoped>\n    .dataframe tbody tr th:only-of-type {\n        vertical-align: middle;\n    }\n\n    .dataframe tbody tr th {\n        vertical-align: top;\n    }\n\n    .dataframe thead th {\n        text-align: right;\n    }\n</style>\n<table border=\"1\" class=\"dataframe\">\n  <thead>\n    <tr style=\"text-align: right;\">\n      <th></th>\n      <th>hinge</th>\n      <th>squared_hinge</th>\n      <th>modified_huber</th>\n    </tr>\n  </thead>\n  <tbody>\n    <tr>\n      <th>Accuracy</th>\n      <td>0.690600</td>\n      <td>0.687600</td>\n      <td>0.696300</td>\n    </tr>\n    <tr>\n      <th>Precision</th>\n      <td>0.686720</td>\n      <td>0.684684</td>\n      <td>0.693017</td>\n    </tr>\n    <tr>\n      <th>Recall</th>\n      <td>0.689739</td>\n      <td>0.688315</td>\n      <td>0.696384</td>\n    </tr>\n    <tr>\n      <th>F-Score</th>\n      <td>0.686988</td>\n      <td>0.684716</td>\n      <td>0.693071</td>\n    </tr>\n  </tbody>\n</table>\n</div>"
     },
     "metadata": {}
    }
   ],
   "execution_count": null
  },
  {
   "cell_type": "markdown",
   "source": "#### Regulation strength (alpha) Summary:",
   "metadata": {
    "tags": [],
    "cell_id": "00068-4094ea8b-0773-4180-a571-21161389938f",
    "deepnote_cell_type": "markdown"
   }
  },
  {
   "cell_type": "code",
   "metadata": {
    "tags": [],
    "cell_id": "00066-253b7c10-f742-4f4e-b516-0e05e35573fe",
    "deepnote_to_be_reexecuted": true,
    "source_hash": "75216621",
    "execution_start": 1622650163281,
    "execution_millis": 75,
    "deepnote_cell_type": "code"
   },
   "source": "alpha_results_sum = np.array(alpha_results).T.tolist()\n\nalpha_results_sum = pd.DataFrame(data = alpha_results_sum,index=[\"Accuracy\",\"Precision\",\"Recall\",\"F-Score\"])\nalpha_results_sum.columns = alpha_list\nalpha_results_sum",
   "outputs": [
    {
     "output_type": "execute_result",
     "execution_count": 52,
     "data": {
      "application/vnd.deepnote.dataframe.v2+json": {
       "row_count": 4,
       "column_count": 3,
       "columns": [
        {
         "name": 0.001,
         "dtype": "float64",
         "stats": {
          "unique_count": 4,
          "nan_count": 0,
          "min": "0.7103095585500531",
          "max": "0.7245",
          "histogram": [
           {
            "bin_start": 0.7103095585500531,
            "bin_end": 0.7117286026950478,
            "count": 1
           },
           {
            "bin_start": 0.7117286026950478,
            "bin_end": 0.7131476468400425,
            "count": 1
           },
           {
            "bin_start": 0.7131476468400425,
            "bin_end": 0.7145666909850371,
            "count": 0
           },
           {
            "bin_start": 0.7145666909850371,
            "bin_end": 0.7159857351300318,
            "count": 0
           },
           {
            "bin_start": 0.7159857351300318,
            "bin_end": 0.7174047792750265,
            "count": 0
           },
           {
            "bin_start": 0.7174047792750265,
            "bin_end": 0.7188238234200213,
            "count": 0
           },
           {
            "bin_start": 0.7188238234200213,
            "bin_end": 0.720242867565016,
            "count": 0
           },
           {
            "bin_start": 0.720242867565016,
            "bin_end": 0.7216619117100106,
            "count": 1
           },
           {
            "bin_start": 0.7216619117100106,
            "bin_end": 0.7230809558550053,
            "count": 0
           },
           {
            "bin_start": 0.7230809558550053,
            "bin_end": 0.7245,
            "count": 1
           }
          ]
         }
        },
        {
         "name": 0.01,
         "dtype": "float64",
         "stats": {
          "unique_count": 4,
          "nan_count": 0,
          "min": "0.6780317242337669",
          "max": "0.7003999999999999",
          "histogram": [
           {
            "bin_start": 0.6780317242337669,
            "bin_end": 0.6802685518103901,
            "count": 2
           },
           {
            "bin_start": 0.6802685518103901,
            "bin_end": 0.6825053793870135,
            "count": 0
           },
           {
            "bin_start": 0.6825053793870135,
            "bin_end": 0.6847422069636369,
            "count": 0
           },
           {
            "bin_start": 0.6847422069636369,
            "bin_end": 0.6869790345402601,
            "count": 0
           },
           {
            "bin_start": 0.6869790345402601,
            "bin_end": 0.6892158621168833,
            "count": 0
           },
           {
            "bin_start": 0.6892158621168833,
            "bin_end": 0.6914526896935067,
            "count": 0
           },
           {
            "bin_start": 0.6914526896935067,
            "bin_end": 0.6936895172701301,
            "count": 0
           },
           {
            "bin_start": 0.6936895172701301,
            "bin_end": 0.6959263448467533,
            "count": 0
           },
           {
            "bin_start": 0.6959263448467533,
            "bin_end": 0.6981631724233766,
            "count": 0
           },
           {
            "bin_start": 0.6981631724233766,
            "bin_end": 0.7003999999999999,
            "count": 2
           }
          ]
         }
        },
        {
         "name": 0.1,
         "dtype": "float64",
         "stats": {
          "unique_count": 4,
          "nan_count": 0,
          "min": "0.6333115804301549",
          "max": "0.7143456041117849",
          "histogram": [
           {
            "bin_start": 0.6333115804301549,
            "bin_end": 0.6414149827983179,
            "count": 1
           },
           {
            "bin_start": 0.6414149827983179,
            "bin_end": 0.6495183851664809,
            "count": 1
           },
           {
            "bin_start": 0.6495183851664809,
            "bin_end": 0.657621787534644,
            "count": 0
           },
           {
            "bin_start": 0.657621787534644,
            "bin_end": 0.6657251899028069,
            "count": 0
           },
           {
            "bin_start": 0.6657251899028069,
            "bin_end": 0.6738285922709699,
            "count": 0
           },
           {
            "bin_start": 0.6738285922709699,
            "bin_end": 0.6819319946391329,
            "count": 0
           },
           {
            "bin_start": 0.6819319946391329,
            "bin_end": 0.6900353970072959,
            "count": 1
           },
           {
            "bin_start": 0.6900353970072959,
            "bin_end": 0.698138799375459,
            "count": 0
           },
           {
            "bin_start": 0.698138799375459,
            "bin_end": 0.706242201743622,
            "count": 0
           },
           {
            "bin_start": 0.706242201743622,
            "bin_end": 0.7143456041117849,
            "count": 1
           }
          ]
         }
        },
        {
         "name": "_deepnote_index_column",
         "dtype": "object"
        }
       ],
       "rows_top": [
        {
         "0.001": 0.7245,
         "0.01": 0.7003999999999999,
         "0.1": 0.6829,
         "_deepnote_index_column": "Accuracy"
        },
        {
         "0.001": 0.7203973348428333,
         "0.01": 0.7000851840979667,
         "0.1": 0.7143456041117849,
         "_deepnote_index_column": "Precision"
        },
        {
         "0.001": 0.7103095585500531,
         "0.01": 0.6780317242337669,
         "0.1": 0.6429202888777173,
         "_deepnote_index_column": "Recall"
        },
        {
         "0.001": 0.7128626082714574,
         "0.01": 0.6799802554008652,
         "0.1": 0.6333115804301549,
         "_deepnote_index_column": "F-Score"
        }
       ],
       "rows_bottom": null
      },
      "text/plain": "              0.001     0.010     0.100\nAccuracy   0.724500  0.700400  0.682900\nPrecision  0.720397  0.700085  0.714346\nRecall     0.710310  0.678032  0.642920\nF-Score    0.712863  0.679980  0.633312",
      "text/html": "<div>\n<style scoped>\n    .dataframe tbody tr th:only-of-type {\n        vertical-align: middle;\n    }\n\n    .dataframe tbody tr th {\n        vertical-align: top;\n    }\n\n    .dataframe thead th {\n        text-align: right;\n    }\n</style>\n<table border=\"1\" class=\"dataframe\">\n  <thead>\n    <tr style=\"text-align: right;\">\n      <th></th>\n      <th>0.001</th>\n      <th>0.010</th>\n      <th>0.100</th>\n    </tr>\n  </thead>\n  <tbody>\n    <tr>\n      <th>Accuracy</th>\n      <td>0.724500</td>\n      <td>0.700400</td>\n      <td>0.682900</td>\n    </tr>\n    <tr>\n      <th>Precision</th>\n      <td>0.720397</td>\n      <td>0.700085</td>\n      <td>0.714346</td>\n    </tr>\n    <tr>\n      <th>Recall</th>\n      <td>0.710310</td>\n      <td>0.678032</td>\n      <td>0.642920</td>\n    </tr>\n    <tr>\n      <th>F-Score</th>\n      <td>0.712863</td>\n      <td>0.679980</td>\n      <td>0.633312</td>\n    </tr>\n  </tbody>\n</table>\n</div>"
     },
     "metadata": {}
    }
   ],
   "execution_count": null
  },
  {
   "cell_type": "markdown",
   "source": "#### N-Gram Summary:",
   "metadata": {
    "tags": [],
    "cell_id": "00070-b1060e8a-b80f-4210-af5c-d839563ed573",
    "deepnote_cell_type": "markdown"
   }
  },
  {
   "cell_type": "code",
   "metadata": {
    "tags": [],
    "cell_id": "00067-4e586a11-a214-49bc-8f63-a3abd0e33cd8",
    "deepnote_to_be_reexecuted": true,
    "source_hash": "d9d466d1",
    "execution_start": 1622650165933,
    "execution_millis": 142,
    "deepnote_cell_type": "code"
   },
   "source": "ind = -1\nfor i in n_gram_list:\n    ind += 1\n    new = str(i[0])+\",\"+str(i[1])\n    n_gram_list[ind] = new\n\nn_gram_results_sum = np.array(n_gram_results).T.tolist()\n\nn_gram_results_sum = pd.DataFrame(data = n_gram_results_sum,index=[\"Accuracy\",\"Precision\",\"Recall\",\"F-Score\"])\nn_gram_results_sum.columns = n_gram_list\nn_gram_results_sum",
   "outputs": [
    {
     "output_type": "execute_result",
     "execution_count": 53,
     "data": {
      "application/vnd.deepnote.dataframe.v2+json": {
       "row_count": 4,
       "column_count": 6,
       "columns": [
        {
         "name": "1,1",
         "dtype": "float64",
         "stats": {
          "unique_count": 4,
          "nan_count": 0,
          "min": "0.7039900519473089",
          "max": "0.7743421774718482",
          "histogram": [
           {
            "bin_start": 0.7039900519473089,
            "bin_end": 0.7110252644997628,
            "count": 2
           },
           {
            "bin_start": 0.7110252644997628,
            "bin_end": 0.7180604770522168,
            "count": 1
           },
           {
            "bin_start": 0.7180604770522168,
            "bin_end": 0.7250956896046707,
            "count": 0
           },
           {
            "bin_start": 0.7250956896046707,
            "bin_end": 0.7321309021571246,
            "count": 0
           },
           {
            "bin_start": 0.7321309021571246,
            "bin_end": 0.7391661147095785,
            "count": 0
           },
           {
            "bin_start": 0.7391661147095785,
            "bin_end": 0.7462013272620325,
            "count": 0
           },
           {
            "bin_start": 0.7462013272620325,
            "bin_end": 0.7532365398144865,
            "count": 0
           },
           {
            "bin_start": 0.7532365398144865,
            "bin_end": 0.7602717523669403,
            "count": 0
           },
           {
            "bin_start": 0.7602717523669403,
            "bin_end": 0.7673069649193942,
            "count": 0
           },
           {
            "bin_start": 0.7673069649193942,
            "bin_end": 0.7743421774718482,
            "count": 1
           }
          ]
         }
        },
        {
         "name": "1,2",
         "dtype": "float64",
         "stats": {
          "unique_count": 4,
          "nan_count": 0,
          "min": "0.7032913585999159",
          "max": "0.7740846848749696",
          "histogram": [
           {
            "bin_start": 0.7032913585999159,
            "bin_end": 0.7103706912274212,
            "count": 3
           },
           {
            "bin_start": 0.7103706912274212,
            "bin_end": 0.7174500238549266,
            "count": 0
           },
           {
            "bin_start": 0.7174500238549266,
            "bin_end": 0.724529356482432,
            "count": 0
           },
           {
            "bin_start": 0.724529356482432,
            "bin_end": 0.7316086891099374,
            "count": 0
           },
           {
            "bin_start": 0.7316086891099374,
            "bin_end": 0.7386880217374427,
            "count": 0
           },
           {
            "bin_start": 0.7386880217374427,
            "bin_end": 0.7457673543649481,
            "count": 0
           },
           {
            "bin_start": 0.7457673543649481,
            "bin_end": 0.7528466869924535,
            "count": 0
           },
           {
            "bin_start": 0.7528466869924535,
            "bin_end": 0.7599260196199589,
            "count": 0
           },
           {
            "bin_start": 0.7599260196199589,
            "bin_end": 0.7670053522474642,
            "count": 0
           },
           {
            "bin_start": 0.7670053522474642,
            "bin_end": 0.7740846848749696,
            "count": 1
           }
          ]
         }
        },
        {
         "name": "1,3",
         "dtype": "float64",
         "stats": {
          "unique_count": 4,
          "nan_count": 0,
          "min": "0.7051826395904982",
          "max": "0.7771798955499727",
          "histogram": [
           {
            "bin_start": 0.7051826395904982,
            "bin_end": 0.7123823651864456,
            "count": 3
           },
           {
            "bin_start": 0.7123823651864456,
            "bin_end": 0.7195820907823931,
            "count": 0
           },
           {
            "bin_start": 0.7195820907823931,
            "bin_end": 0.7267818163783406,
            "count": 0
           },
           {
            "bin_start": 0.7267818163783406,
            "bin_end": 0.733981541974288,
            "count": 0
           },
           {
            "bin_start": 0.733981541974288,
            "bin_end": 0.7411812675702354,
            "count": 0
           },
           {
            "bin_start": 0.7411812675702354,
            "bin_end": 0.7483809931661829,
            "count": 0
           },
           {
            "bin_start": 0.7483809931661829,
            "bin_end": 0.7555807187621304,
            "count": 0
           },
           {
            "bin_start": 0.7555807187621304,
            "bin_end": 0.7627804443580778,
            "count": 0
           },
           {
            "bin_start": 0.7627804443580778,
            "bin_end": 0.7699801699540252,
            "count": 0
           },
           {
            "bin_start": 0.7699801699540252,
            "bin_end": 0.7771798955499727,
            "count": 1
           }
          ]
         }
        },
        {
         "name": "1,4",
         "dtype": "float64",
         "stats": {
          "unique_count": 4,
          "nan_count": 0,
          "min": "0.702123259397313",
          "max": "0.7723893574540193",
          "histogram": [
           {
            "bin_start": 0.702123259397313,
            "bin_end": 0.7091498692029836,
            "count": 2
           },
           {
            "bin_start": 0.7091498692029836,
            "bin_end": 0.7161764790086542,
            "count": 1
           },
           {
            "bin_start": 0.7161764790086542,
            "bin_end": 0.7232030888143249,
            "count": 0
           },
           {
            "bin_start": 0.7232030888143249,
            "bin_end": 0.7302296986199955,
            "count": 0
           },
           {
            "bin_start": 0.7302296986199955,
            "bin_end": 0.7372563084256661,
            "count": 0
           },
           {
            "bin_start": 0.7372563084256661,
            "bin_end": 0.7442829182313367,
            "count": 0
           },
           {
            "bin_start": 0.7442829182313367,
            "bin_end": 0.7513095280370073,
            "count": 0
           },
           {
            "bin_start": 0.7513095280370073,
            "bin_end": 0.7583361378426781,
            "count": 0
           },
           {
            "bin_start": 0.7583361378426781,
            "bin_end": 0.7653627476483487,
            "count": 0
           },
           {
            "bin_start": 0.7653627476483487,
            "bin_end": 0.7723893574540193,
            "count": 1
           }
          ]
         }
        },
        {
         "name": "2,2",
         "dtype": "float64",
         "stats": {
          "unique_count": 4,
          "nan_count": 0,
          "min": "0.28650000000000003",
          "max": "0.5730000000000001",
          "histogram": [
           {
            "bin_start": 0.28650000000000003,
            "bin_end": 0.31515000000000004,
            "count": 1
           },
           {
            "bin_start": 0.31515000000000004,
            "bin_end": 0.34380000000000005,
            "count": 0
           },
           {
            "bin_start": 0.34380000000000005,
            "bin_end": 0.37245000000000006,
            "count": 0
           },
           {
            "bin_start": 0.37245000000000006,
            "bin_end": 0.4011,
            "count": 0
           },
           {
            "bin_start": 0.4011,
            "bin_end": 0.4297500000000001,
            "count": 0
           },
           {
            "bin_start": 0.4297500000000001,
            "bin_end": 0.45840000000000003,
            "count": 0
           },
           {
            "bin_start": 0.45840000000000003,
            "bin_end": 0.48705000000000004,
            "count": 0
           },
           {
            "bin_start": 0.48705000000000004,
            "bin_end": 0.5157,
            "count": 1
           },
           {
            "bin_start": 0.5157,
            "bin_end": 0.5443500000000001,
            "count": 1
           },
           {
            "bin_start": 0.5443500000000001,
            "bin_end": 0.5730000000000001,
            "count": 1
           }
          ]
         }
        },
        {
         "name": "2,3",
         "dtype": "float64",
         "stats": {
          "unique_count": 4,
          "nan_count": 0,
          "min": "0.28650000000000003",
          "max": "0.5730000000000001",
          "histogram": [
           {
            "bin_start": 0.28650000000000003,
            "bin_end": 0.31515000000000004,
            "count": 1
           },
           {
            "bin_start": 0.31515000000000004,
            "bin_end": 0.34380000000000005,
            "count": 0
           },
           {
            "bin_start": 0.34380000000000005,
            "bin_end": 0.37245000000000006,
            "count": 0
           },
           {
            "bin_start": 0.37245000000000006,
            "bin_end": 0.4011,
            "count": 0
           },
           {
            "bin_start": 0.4011,
            "bin_end": 0.4297500000000001,
            "count": 0
           },
           {
            "bin_start": 0.4297500000000001,
            "bin_end": 0.45840000000000003,
            "count": 0
           },
           {
            "bin_start": 0.45840000000000003,
            "bin_end": 0.48705000000000004,
            "count": 0
           },
           {
            "bin_start": 0.48705000000000004,
            "bin_end": 0.5157,
            "count": 1
           },
           {
            "bin_start": 0.5157,
            "bin_end": 0.5443500000000001,
            "count": 1
           },
           {
            "bin_start": 0.5443500000000001,
            "bin_end": 0.5730000000000001,
            "count": 1
           }
          ]
         }
        },
        {
         "name": "_deepnote_index_column",
         "dtype": "object"
        }
       ],
       "rows_top": [
        {
         "1,1": 0.7122999999999999,
         "1,2": 0.7102,
         "1,3": 0.7111000000000001,
         "1,4": 0.7103999999999999,
         "2,2": 0.5730000000000001,
         "2,3": 0.5730000000000001,
         "_deepnote_index_column": "Accuracy"
        },
        {
         "1,1": 0.7061420662589984,
         "1,2": 0.7042715651780116,
         "1,3": 0.7051826395904982,
         "1,4": 0.7042636014722611,
         "2,2": 0.28650000000000003,
         "2,3": 0.28650000000000003,
         "_deepnote_index_column": "Precision"
        },
        {
         "1,1": 0.7039900519473089,
         "1,2": 0.7032913585999159,
         "1,3": 0.7055088261379565,
         "1,4": 0.702123259397313,
         "2,2": 0.5,
         "2,3": 0.5,
         "_deepnote_index_column": "Recall"
        },
        {
         "1,1": 0.7743421774718482,
         "1,2": 0.7740846848749696,
         "1,3": 0.7771798955499727,
         "1,4": 0.7723893574540193,
         "2,2": 0.5364272091544818,
         "2,3": 0.5364272091544818,
         "_deepnote_index_column": "F-Score"
        }
       ],
       "rows_bottom": null
      },
      "text/plain": "                1,1       1,2       1,3       1,4       2,2       2,3\nAccuracy   0.712300  0.710200  0.711100  0.710400  0.573000  0.573000\nPrecision  0.706142  0.704272  0.705183  0.704264  0.286500  0.286500\nRecall     0.703990  0.703291  0.705509  0.702123  0.500000  0.500000\nF-Score    0.774342  0.774085  0.777180  0.772389  0.536427  0.536427",
      "text/html": "<div>\n<style scoped>\n    .dataframe tbody tr th:only-of-type {\n        vertical-align: middle;\n    }\n\n    .dataframe tbody tr th {\n        vertical-align: top;\n    }\n\n    .dataframe thead th {\n        text-align: right;\n    }\n</style>\n<table border=\"1\" class=\"dataframe\">\n  <thead>\n    <tr style=\"text-align: right;\">\n      <th></th>\n      <th>1,1</th>\n      <th>1,2</th>\n      <th>1,3</th>\n      <th>1,4</th>\n      <th>2,2</th>\n      <th>2,3</th>\n    </tr>\n  </thead>\n  <tbody>\n    <tr>\n      <th>Accuracy</th>\n      <td>0.712300</td>\n      <td>0.710200</td>\n      <td>0.711100</td>\n      <td>0.710400</td>\n      <td>0.573000</td>\n      <td>0.573000</td>\n    </tr>\n    <tr>\n      <th>Precision</th>\n      <td>0.706142</td>\n      <td>0.704272</td>\n      <td>0.705183</td>\n      <td>0.704264</td>\n      <td>0.286500</td>\n      <td>0.286500</td>\n    </tr>\n    <tr>\n      <th>Recall</th>\n      <td>0.703990</td>\n      <td>0.703291</td>\n      <td>0.705509</td>\n      <td>0.702123</td>\n      <td>0.500000</td>\n      <td>0.500000</td>\n    </tr>\n    <tr>\n      <th>F-Score</th>\n      <td>0.774342</td>\n      <td>0.774085</td>\n      <td>0.777180</td>\n      <td>0.772389</td>\n      <td>0.536427</td>\n      <td>0.536427</td>\n    </tr>\n  </tbody>\n</table>\n</div>"
     },
     "metadata": {}
    }
   ],
   "execution_count": null
  },
  {
   "cell_type": "markdown",
   "source": "#### Other Classifiers Summary:",
   "metadata": {
    "tags": [],
    "cell_id": "00072-fd1427db-6bd8-429e-bdbf-2ff04d80e54d",
    "deepnote_cell_type": "markdown"
   }
  },
  {
   "cell_type": "code",
   "metadata": {
    "tags": [],
    "cell_id": "00068-e1bac8a6-35b0-4115-a22a-dcbd4a973321",
    "deepnote_to_be_reexecuted": true,
    "source_hash": "20a9ac86",
    "execution_start": 1622650169183,
    "execution_millis": 61,
    "deepnote_cell_type": "code"
   },
   "source": "Other_Classifiers_results_sum = np.array(Other_Classifiers_results).T.tolist()\n\nOther_Classifiers_results_sum = pd.DataFrame(data = Other_Classifiers_results_sum,index=[\"Accuracy\",\"Precision\",\"Recall\",\"F-Score\"])\nOther_Classifiers_results_sum.columns = ['Forest','Multinomial']\nOther_Classifiers_results_sum",
   "outputs": [
    {
     "output_type": "execute_result",
     "execution_count": 54,
     "data": {
      "application/vnd.deepnote.dataframe.v2+json": {
       "row_count": 4,
       "column_count": 2,
       "columns": [
        {
         "name": "Forest",
         "dtype": "float64",
         "stats": {
          "unique_count": 4,
          "nan_count": 0,
          "min": "0.7179281565857825",
          "max": "0.7896988675965694",
          "histogram": [
           {
            "bin_start": 0.7179281565857825,
            "bin_end": 0.7251052276868611,
            "count": 1
           },
           {
            "bin_start": 0.7251052276868611,
            "bin_end": 0.7322822987879398,
            "count": 2
           },
           {
            "bin_start": 0.7322822987879398,
            "bin_end": 0.7394593698890185,
            "count": 0
           },
           {
            "bin_start": 0.7394593698890185,
            "bin_end": 0.7466364409900972,
            "count": 0
           },
           {
            "bin_start": 0.7466364409900972,
            "bin_end": 0.753813512091176,
            "count": 0
           },
           {
            "bin_start": 0.753813512091176,
            "bin_end": 0.7609905831922547,
            "count": 0
           },
           {
            "bin_start": 0.7609905831922547,
            "bin_end": 0.7681676542933333,
            "count": 0
           },
           {
            "bin_start": 0.7681676542933333,
            "bin_end": 0.775344725394412,
            "count": 0
           },
           {
            "bin_start": 0.775344725394412,
            "bin_end": 0.7825217964954907,
            "count": 0
           },
           {
            "bin_start": 0.7825217964954907,
            "bin_end": 0.7896988675965694,
            "count": 1
           }
          ]
         }
        },
        {
         "name": "Multinomial",
         "dtype": "float64",
         "stats": {
          "unique_count": 4,
          "nan_count": 0,
          "min": "0.7342668344870988",
          "max": "0.8108682966000907",
          "histogram": [
           {
            "bin_start": 0.7342668344870988,
            "bin_end": 0.741926980698398,
            "count": 3
           },
           {
            "bin_start": 0.741926980698398,
            "bin_end": 0.7495871269096972,
            "count": 0
           },
           {
            "bin_start": 0.7495871269096972,
            "bin_end": 0.7572472731209964,
            "count": 0
           },
           {
            "bin_start": 0.7572472731209964,
            "bin_end": 0.7649074193322956,
            "count": 0
           },
           {
            "bin_start": 0.7649074193322956,
            "bin_end": 0.7725675655435948,
            "count": 0
           },
           {
            "bin_start": 0.7725675655435948,
            "bin_end": 0.780227711754894,
            "count": 0
           },
           {
            "bin_start": 0.780227711754894,
            "bin_end": 0.7878878579661932,
            "count": 0
           },
           {
            "bin_start": 0.7878878579661932,
            "bin_end": 0.7955480041774924,
            "count": 0
           },
           {
            "bin_start": 0.7955480041774924,
            "bin_end": 0.8032081503887916,
            "count": 0
           },
           {
            "bin_start": 0.8032081503887916,
            "bin_end": 0.8108682966000907,
            "count": 1
           }
          ]
         }
        },
        {
         "name": "_deepnote_index_column",
         "dtype": "object"
        }
       ],
       "rows_top": [
        {
         "Forest": 0.732,
         "Multinomial": 0.739,
         "_deepnote_index_column": "Accuracy"
        },
        {
         "Forest": 0.7283612074880459,
         "Multinomial": 0.7342668344870988,
         "_deepnote_index_column": "Precision"
        },
        {
         "Forest": 0.7179281565857825,
         "Multinomial": 0.7373432078178453,
         "_deepnote_index_column": "Recall"
        },
        {
         "Forest": 0.7896988675965694,
         "Multinomial": 0.8108682966000907,
         "_deepnote_index_column": "F-Score"
        }
       ],
       "rows_bottom": null
      },
      "text/plain": "             Forest  Multinomial\nAccuracy   0.732000     0.739000\nPrecision  0.728361     0.734267\nRecall     0.717928     0.737343\nF-Score    0.789699     0.810868",
      "text/html": "<div>\n<style scoped>\n    .dataframe tbody tr th:only-of-type {\n        vertical-align: middle;\n    }\n\n    .dataframe tbody tr th {\n        vertical-align: top;\n    }\n\n    .dataframe thead th {\n        text-align: right;\n    }\n</style>\n<table border=\"1\" class=\"dataframe\">\n  <thead>\n    <tr style=\"text-align: right;\">\n      <th></th>\n      <th>Forest</th>\n      <th>Multinomial</th>\n    </tr>\n  </thead>\n  <tbody>\n    <tr>\n      <th>Accuracy</th>\n      <td>0.732000</td>\n      <td>0.739000</td>\n    </tr>\n    <tr>\n      <th>Precision</th>\n      <td>0.728361</td>\n      <td>0.734267</td>\n    </tr>\n    <tr>\n      <th>Recall</th>\n      <td>0.717928</td>\n      <td>0.737343</td>\n    </tr>\n    <tr>\n      <th>F-Score</th>\n      <td>0.789699</td>\n      <td>0.810868</td>\n    </tr>\n  </tbody>\n</table>\n</div>"
     },
     "metadata": {}
    }
   ],
   "execution_count": null
  },
  {
   "cell_type": "code",
   "metadata": {
    "tags": [],
    "cell_id": "00070-39e51bbd-c9de-473d-86cf-2e080a8a0c2e",
    "deepnote_to_be_reexecuted": true,
    "source_hash": "b623e53d",
    "execution_start": 1622644955110,
    "execution_millis": 0,
    "deepnote_cell_type": "code"
   },
   "source": "",
   "outputs": [],
   "execution_count": null
  },
  {
   "cell_type": "code",
   "metadata": {
    "tags": [],
    "cell_id": "00069-430c3892-add6-4173-bbea-d53270d1200d",
    "deepnote_to_be_reexecuted": true,
    "source_hash": "b623e53d",
    "execution_start": 1622644955111,
    "execution_millis": 0,
    "deepnote_cell_type": "code"
   },
   "source": "",
   "outputs": [],
   "execution_count": null
  },
  {
   "cell_type": "markdown",
   "source": "## Sentiment",
   "metadata": {
    "tags": [],
    "cell_id": "00044-b045dcb5-547f-45ae-8f91-be95cce56167",
    "deepnote_cell_type": "markdown"
   }
  },
  {
   "cell_type": "code",
   "metadata": {
    "tags": [],
    "cell_id": "00048-6a038cd4-3cb4-45a1-9370-8e382adc8185",
    "deepnote_to_be_reexecuted": true,
    "source_hash": "bba0430d",
    "execution_start": 1622659964389,
    "execution_millis": 1561,
    "deepnote_cell_type": "code"
   },
   "source": "senttrainflat = [\" \".join(x) for x in senttraintext]\nsentvalflat=[\" \".join(x) for x in sentvaltext]\n\nsvectorizer = CountVectorizer()\nX_train = svectorizer.fit_transform(senttrainflat)",
   "outputs": [],
   "execution_count": null
  },
  {
   "cell_type": "markdown",
   "source": "### Baseline model using logistic regression (Multiclass)",
   "metadata": {
    "tags": [],
    "cell_id": "00078-1998bdf4-8d60-42e8-96a4-3f92132c3bf2",
    "deepnote_cell_type": "markdown"
   }
  },
  {
   "cell_type": "code",
   "metadata": {
    "tags": [],
    "cell_id": "00050-ea9b4842-076b-4647-a076-ea61b534ba4c",
    "deepnote_to_be_reexecuted": true,
    "source_hash": "8646622f",
    "execution_start": 1622659979819,
    "execution_millis": 13093,
    "deepnote_cell_type": "code"
   },
   "source": "precision =0\nrecall = 0\nfscore = 0\naccuracy = 0\nfor i in range(10):\n    X = X_train\n    Y = senttrainlabels\n    clf = SGDClassifier(loss='log')\n    clf.fit(X, Y);\n\n    svectorizerval=CountVectorizer(vocabulary=svectorizer.vocabulary_)\n    X = svectorizerval.fit_transform(sentvalflat)\n    Y = sentvallabels\n    predicted=clf.predict(X);\n\n    results=precision_recall_fscore_support(Y,predicted,average='macro')\n    precision=precision+results[0]\n    recall=recall+results[1]\n    fscore=fscore+results[2]\n    accuracy = accuracy+sum(sentvallabels==predicted)/len(sentvallabels)\n\n\nprint('For the sentiment analysis with macro f-score:','\\n','Precision:',precision/10,'\\n','Recall:',recall/10,'\\n','F-score:',fscore/10,'\\n','Accuracy:',accuracy/10)",
   "outputs": [
    {
     "name": "stdout",
     "text": "For the sentiment analysis with macro f-score: \n Precision: 0.6639943166639029 \n Recall: 0.6126765639423867 \n F-score: 0.6272786710806828 \n Accuracy: 0.6734500000000001\n",
     "output_type": "stream"
    }
   ],
   "execution_count": null
  },
  {
   "cell_type": "markdown",
   "source": "### Alternative 1: Loss function",
   "metadata": {
    "tags": [],
    "cell_id": "00079-1c5de242-d222-4cfd-bda7-347481db4c00",
    "deepnote_cell_type": "markdown"
   }
  },
  {
   "cell_type": "code",
   "metadata": {
    "tags": [],
    "cell_id": "00050-4c061d51-30a9-4ffb-ac52-1318e8dd7ff2",
    "deepnote_to_be_reexecuted": true,
    "source_hash": "f7689b0b",
    "execution_start": 1622661533817,
    "execution_millis": 293716,
    "deepnote_cell_type": "code"
   },
   "source": "loss_list = [\"hinge\",\"squared_hinge\",\"modified_huber\"]\nloss_results = []\n\nfor i in loss_list:\n    precision_1 =0\n    recall_1 = 0\n    fscore_1 = 0\n    accuracy_1 = 0\n    for j in range(10):\n        X = X_train\n        Y = senttrainlabels\n        clf = SGDClassifier(loss = i)\n        clf.fit(X, Y);\n        \n        svectorizerval = CountVectorizer(vocabulary = svectorizer.vocabulary_)\n        X = svectorizerval.fit_transform(sentvalflat)\n        Y = sentvallabels\n        predicted = clf.predict(X);\n        \n        results=precision_recall_fscore_support(Y,predicted,average = \"macro\")\n        precision_1 =precision_1+ results[0]\n        recall_1 = recall_1+results[1]\n        fscore_1 = recall_1+results[2]\n        accuracy_1 = accuracy_1+sum(sentvallabels==predicted)/len(sentvallabels)\n    \n    teemp = []\n    teemp.append(accuracy_1/10)\n    teemp.append(precision_1/10)\n    teemp.append(recall_1/10)\n    teemp.append(fscore_1/10)\n    loss_results.append(teemp)\n\n\nprint(loss_results)\n#print('For the sentiment analysis with macro f-score:','\\n','Precision:',precision,'\\n','Recall:',recall,'\\n','F-score:',fscore)",
   "outputs": [
    {
     "name": "stderr",
     "text": "/shared-libs/python3.7/py/lib/python3.7/site-packages/sklearn/linear_model/_stochastic_gradient.py:577: ConvergenceWarning: Maximum number of iteration reached before convergence. Consider increasing max_iter to improve the fit.\n  ConvergenceWarning)\n/shared-libs/python3.7/py/lib/python3.7/site-packages/sklearn/linear_model/_stochastic_gradient.py:577: ConvergenceWarning: Maximum number of iteration reached before convergence. Consider increasing max_iter to improve the fit.\n  ConvergenceWarning)\n/shared-libs/python3.7/py/lib/python3.7/site-packages/sklearn/linear_model/_stochastic_gradient.py:577: ConvergenceWarning: Maximum number of iteration reached before convergence. Consider increasing max_iter to improve the fit.\n  ConvergenceWarning)\n/shared-libs/python3.7/py/lib/python3.7/site-packages/sklearn/linear_model/_stochastic_gradient.py:577: ConvergenceWarning: Maximum number of iteration reached before convergence. Consider increasing max_iter to improve the fit.\n  ConvergenceWarning)\n/shared-libs/python3.7/py/lib/python3.7/site-packages/sklearn/linear_model/_stochastic_gradient.py:577: ConvergenceWarning: Maximum number of iteration reached before convergence. Consider increasing max_iter to improve the fit.\n  ConvergenceWarning)\n/shared-libs/python3.7/py/lib/python3.7/site-packages/sklearn/linear_model/_stochastic_gradient.py:577: ConvergenceWarning: Maximum number of iteration reached before convergence. Consider increasing max_iter to improve the fit.\n  ConvergenceWarning)\n/shared-libs/python3.7/py/lib/python3.7/site-packages/sklearn/linear_model/_stochastic_gradient.py:577: ConvergenceWarning: Maximum number of iteration reached before convergence. Consider increasing max_iter to improve the fit.\n  ConvergenceWarning)\n/shared-libs/python3.7/py/lib/python3.7/site-packages/sklearn/linear_model/_stochastic_gradient.py:577: ConvergenceWarning: Maximum number of iteration reached before convergence. Consider increasing max_iter to improve the fit.\n  ConvergenceWarning)\n/shared-libs/python3.7/py/lib/python3.7/site-packages/sklearn/linear_model/_stochastic_gradient.py:577: ConvergenceWarning: Maximum number of iteration reached before convergence. Consider increasing max_iter to improve the fit.\n  ConvergenceWarning)\n/shared-libs/python3.7/py/lib/python3.7/site-packages/sklearn/linear_model/_stochastic_gradient.py:577: ConvergenceWarning: Maximum number of iteration reached before convergence. Consider increasing max_iter to improve the fit.\n  ConvergenceWarning)\n[[0.6716, 0.654542736654663, 0.6282418882102426, 0.691950957037675], [0.57505, 0.550520712280721, 0.5439509915775738, 0.59848298471651], [0.6496500000000001, 0.6312227651248573, 0.6123724611066383, 0.6745284348126622]]\n",
     "output_type": "stream"
    }
   ],
   "execution_count": null
  },
  {
   "cell_type": "markdown",
   "source": "### Alternative 2: Regulation strength (alpha)",
   "metadata": {
    "tags": [],
    "cell_id": "00082-053c83d4-7956-460c-a9c1-d848676898a8",
    "deepnote_cell_type": "markdown"
   }
  },
  {
   "cell_type": "code",
   "metadata": {
    "tags": [],
    "cell_id": "00083-2b70951a-2c00-41a2-8b74-aadd07328b6c",
    "deepnote_to_be_reexecuted": true,
    "source_hash": "f3b22a78",
    "execution_start": 1622661835491,
    "execution_millis": 22558,
    "deepnote_cell_type": "code"
   },
   "source": "# Look more into the alpha parameter...\nalpha_list = [0.001,0.01,0.1]\nalpha_results = []\n\nfor i in alpha_list:\n    precision_2 =0\n    recall_2 = 0\n    fscore_2 = 0\n    accuracy_2 = 0\n    for j in range(10):\n        X = X_train\n        Y = senttrainlabels\n        clf = SGDClassifier(loss='log', alpha = i)\n        clf.fit(X, Y);\n\n        vectorizerval = CountVectorizer(vocabulary = svectorizer.vocabulary_)\n        X = vectorizerval.fit_transform(sentvalflat)\n        Y = sentvallabels\n        predicted = clf.predict(X);\n\n        results=precision_recall_fscore_support(Y,predicted,average = \"macro\")\n        precision_2 =precision_2+ results[0]\n        recall_2 = recall_2+results[1]\n        fscore_2 = recall_2+results[2]\n        accuracy_2 = accuracy_2+sum(sentvallabels==predicted)/len(sentvallabels)\n\n    teemp = []\n    teemp.append(accuracy_2/10)\n    teemp.append(precision_2/10)\n    teemp.append(recall_2/10)\n    teemp.append(fscore_2/10)\n    alpha_results.append(teemp)\n\nprint(alpha_results)\n#print('For the hatespeech detection:','\\n','Accuracy:',accuracy,'\\n','Precision:',precision,'\\n','Recall:',recall,'\\n','F-score:',fscore)",
   "outputs": [
    {
     "name": "stderr",
     "text": "/shared-libs/python3.7/py/lib/python3.7/site-packages/sklearn/metrics/_classification.py:1248: UndefinedMetricWarning: Precision and F-score are ill-defined and being set to 0.0 in labels with no predicted samples. Use `zero_division` parameter to control this behavior.\n  _warn_prf(average, modifier, msg_start, len(result))\n/shared-libs/python3.7/py/lib/python3.7/site-packages/sklearn/metrics/_classification.py:1248: UndefinedMetricWarning: Precision and F-score are ill-defined and being set to 0.0 in labels with no predicted samples. Use `zero_division` parameter to control this behavior.\n  _warn_prf(average, modifier, msg_start, len(result))\n/shared-libs/python3.7/py/lib/python3.7/site-packages/sklearn/metrics/_classification.py:1248: UndefinedMetricWarning: Precision and F-score are ill-defined and being set to 0.0 in labels with no predicted samples. Use `zero_division` parameter to control this behavior.\n  _warn_prf(average, modifier, msg_start, len(result))\n/shared-libs/python3.7/py/lib/python3.7/site-packages/sklearn/metrics/_classification.py:1248: UndefinedMetricWarning: Precision and F-score are ill-defined and being set to 0.0 in labels with no predicted samples. Use `zero_division` parameter to control this behavior.\n  _warn_prf(average, modifier, msg_start, len(result))\n/shared-libs/python3.7/py/lib/python3.7/site-packages/sklearn/metrics/_classification.py:1248: UndefinedMetricWarning: Precision and F-score are ill-defined and being set to 0.0 in labels with no predicted samples. Use `zero_division` parameter to control this behavior.\n  _warn_prf(average, modifier, msg_start, len(result))\n/shared-libs/python3.7/py/lib/python3.7/site-packages/sklearn/metrics/_classification.py:1248: UndefinedMetricWarning: Precision and F-score are ill-defined and being set to 0.0 in labels with no predicted samples. Use `zero_division` parameter to control this behavior.\n  _warn_prf(average, modifier, msg_start, len(result))\n/shared-libs/python3.7/py/lib/python3.7/site-packages/sklearn/metrics/_classification.py:1248: UndefinedMetricWarning: Precision and F-score are ill-defined and being set to 0.0 in labels with no predicted samples. Use `zero_division` parameter to control this behavior.\n  _warn_prf(average, modifier, msg_start, len(result))\n/shared-libs/python3.7/py/lib/python3.7/site-packages/sklearn/metrics/_classification.py:1248: UndefinedMetricWarning: Precision and F-score are ill-defined and being set to 0.0 in labels with no predicted samples. Use `zero_division` parameter to control this behavior.\n  _warn_prf(average, modifier, msg_start, len(result))\n/shared-libs/python3.7/py/lib/python3.7/site-packages/sklearn/metrics/_classification.py:1248: UndefinedMetricWarning: Precision and F-score are ill-defined and being set to 0.0 in labels with no predicted samples. Use `zero_division` parameter to control this behavior.\n  _warn_prf(average, modifier, msg_start, len(result))\n[[0.6425, 0.6387404804297653, 0.5517628527122198, 0.607652643825501], [0.564, 0.5383218101159967, 0.4506886573342269, 0.49313755597072895], [0.5015000000000001, 0.3482542307130538, 0.3917798095013285, 0.4267255245085785]]\n/shared-libs/python3.7/py/lib/python3.7/site-packages/sklearn/metrics/_classification.py:1248: UndefinedMetricWarning: Precision and F-score are ill-defined and being set to 0.0 in labels with no predicted samples. Use `zero_division` parameter to control this behavior.\n  _warn_prf(average, modifier, msg_start, len(result))\n",
     "output_type": "stream"
    }
   ],
   "execution_count": null
  },
  {
   "cell_type": "markdown",
   "source": "### Alternative 3: N-Gram model",
   "metadata": {
    "tags": [],
    "cell_id": "00084-1ea821c6-7be0-4b52-bbdd-c89e8ef643b1",
    "deepnote_cell_type": "markdown"
   }
  },
  {
   "cell_type": "code",
   "metadata": {
    "tags": [],
    "cell_id": "00084-38999c55-08f0-4c0d-8d64-5277739e8d7b",
    "deepnote_to_be_reexecuted": true,
    "source_hash": "b8c514b6",
    "execution_start": 1622650299708,
    "execution_millis": 94254,
    "deepnote_cell_type": "code"
   },
   "source": "# Change the n-gram model (MLE)\nn_gram_list = [[1,1],[1,2],[1,3],[1,4],[2,2],[2,3]]\nn_gram_results = []\n\nfor i in n_gram_list:\n    precision_3 =0\n    recall_3 = 0\n    fscore_3 = 0\n    accuracy_3 = 0\n    for j in range(10):\n        X = X_train\n        Y = senttrainlabels\n        clf = SGDClassifier(loss='log')\n        clf.fit(X, Y);\n\n        vectorizerval = CountVectorizer(vocabulary = svectorizer.vocabulary_,ngram_range = (i[0],i[1]))\n        X = vectorizerval.fit_transform(sentvalflat)\n        Y = sentvallabels\n        predicted = clf.predict(X);\n\n        results=precision_recall_fscore_support(Y,predicted,average = \"macro\")\n        precision_3 =precision_3+ results[0]\n        recall_3 = recall_3+results[1]\n        fscore_3 = recall_3+results[2]\n        accuracy_3 = accuracy_3+sum(sentvallabels==predicted)/len(sentvallabels)\n\n    teemp = []\n    teemp.append(accuracy_3/10)\n    teemp.append(precision_3/10)\n    teemp.append(recall_3/10)\n    teemp.append(fscore_3/10)\n    n_gram_results.append(teemp)\n\nprint(n_gram_results)\n#print('For the hatespeech detection:','\\n','Accuracy:',accuracy,'\\n','Precision:',precision,'\\n','Recall:',recall,'\\n','F-score:',fscore)",
   "outputs": [
    {
     "name": "stderr",
     "text": "/shared-libs/python3.7/py/lib/python3.7/site-packages/sklearn/metrics/_classification.py:1248: UndefinedMetricWarning: Precision and F-score are ill-defined and being set to 0.0 in labels with no predicted samples. Use `zero_division` parameter to control this behavior.\n  _warn_prf(average, modifier, msg_start, len(result))\n/shared-libs/python3.7/py/lib/python3.7/site-packages/sklearn/metrics/_classification.py:1248: UndefinedMetricWarning: Precision and F-score are ill-defined and being set to 0.0 in labels with no predicted samples. Use `zero_division` parameter to control this behavior.\n  _warn_prf(average, modifier, msg_start, len(result))\n/shared-libs/python3.7/py/lib/python3.7/site-packages/sklearn/metrics/_classification.py:1248: UndefinedMetricWarning: Precision and F-score are ill-defined and being set to 0.0 in labels with no predicted samples. Use `zero_division` parameter to control this behavior.\n  _warn_prf(average, modifier, msg_start, len(result))\n/shared-libs/python3.7/py/lib/python3.7/site-packages/sklearn/metrics/_classification.py:1248: UndefinedMetricWarning: Precision and F-score are ill-defined and being set to 0.0 in labels with no predicted samples. Use `zero_division` parameter to control this behavior.\n  _warn_prf(average, modifier, msg_start, len(result))\n/shared-libs/python3.7/py/lib/python3.7/site-packages/sklearn/metrics/_classification.py:1248: UndefinedMetricWarning: Precision and F-score are ill-defined and being set to 0.0 in labels with no predicted samples. Use `zero_division` parameter to control this behavior.\n  _warn_prf(average, modifier, msg_start, len(result))\n/shared-libs/python3.7/py/lib/python3.7/site-packages/sklearn/metrics/_classification.py:1248: UndefinedMetricWarning: Precision and F-score are ill-defined and being set to 0.0 in labels with no predicted samples. Use `zero_division` parameter to control this behavior.\n  _warn_prf(average, modifier, msg_start, len(result))\n/shared-libs/python3.7/py/lib/python3.7/site-packages/sklearn/metrics/_classification.py:1248: UndefinedMetricWarning: Precision and F-score are ill-defined and being set to 0.0 in labels with no predicted samples. Use `zero_division` parameter to control this behavior.\n  _warn_prf(average, modifier, msg_start, len(result))\n/shared-libs/python3.7/py/lib/python3.7/site-packages/sklearn/metrics/_classification.py:1248: UndefinedMetricWarning: Precision and F-score are ill-defined and being set to 0.0 in labels with no predicted samples. Use `zero_division` parameter to control this behavior.\n  _warn_prf(average, modifier, msg_start, len(result))\n/shared-libs/python3.7/py/lib/python3.7/site-packages/sklearn/metrics/_classification.py:1248: UndefinedMetricWarning: Precision and F-score are ill-defined and being set to 0.0 in labels with no predicted samples. Use `zero_division` parameter to control this behavior.\n  _warn_prf(average, modifier, msg_start, len(result))\n/shared-libs/python3.7/py/lib/python3.7/site-packages/sklearn/metrics/_classification.py:1248: UndefinedMetricWarning: Precision and F-score are ill-defined and being set to 0.0 in labels with no predicted samples. Use `zero_division` parameter to control this behavior.\n  _warn_prf(average, modifier, msg_start, len(result))\n/shared-libs/python3.7/py/lib/python3.7/site-packages/sklearn/metrics/_classification.py:1248: UndefinedMetricWarning: Precision and F-score are ill-defined and being set to 0.0 in labels with no predicted samples. Use `zero_division` parameter to control this behavior.\n  _warn_prf(average, modifier, msg_start, len(result))\n/shared-libs/python3.7/py/lib/python3.7/site-packages/sklearn/metrics/_classification.py:1248: UndefinedMetricWarning: Precision and F-score are ill-defined and being set to 0.0 in labels with no predicted samples. Use `zero_division` parameter to control this behavior.\n  _warn_prf(average, modifier, msg_start, len(result))\n/shared-libs/python3.7/py/lib/python3.7/site-packages/sklearn/metrics/_classification.py:1248: UndefinedMetricWarning: Precision and F-score are ill-defined and being set to 0.0 in labels with no predicted samples. Use `zero_division` parameter to control this behavior.\n  _warn_prf(average, modifier, msg_start, len(result))\n/shared-libs/python3.7/py/lib/python3.7/site-packages/sklearn/metrics/_classification.py:1248: UndefinedMetricWarning: Precision and F-score are ill-defined and being set to 0.0 in labels with no predicted samples. Use `zero_division` parameter to control this behavior.\n  _warn_prf(average, modifier, msg_start, len(result))\n/shared-libs/python3.7/py/lib/python3.7/site-packages/sklearn/metrics/_classification.py:1248: UndefinedMetricWarning: Precision and F-score are ill-defined and being set to 0.0 in labels with no predicted samples. Use `zero_division` parameter to control this behavior.\n  _warn_prf(average, modifier, msg_start, len(result))\n/shared-libs/python3.7/py/lib/python3.7/site-packages/sklearn/metrics/_classification.py:1248: UndefinedMetricWarning: Precision and F-score are ill-defined and being set to 0.0 in labels with no predicted samples. Use `zero_division` parameter to control this behavior.\n  _warn_prf(average, modifier, msg_start, len(result))\n/shared-libs/python3.7/py/lib/python3.7/site-packages/sklearn/metrics/_classification.py:1248: UndefinedMetricWarning: Precision and F-score are ill-defined and being set to 0.0 in labels with no predicted samples. Use `zero_division` parameter to control this behavior.\n  _warn_prf(average, modifier, msg_start, len(result))\n/shared-libs/python3.7/py/lib/python3.7/site-packages/sklearn/metrics/_classification.py:1248: UndefinedMetricWarning: Precision and F-score are ill-defined and being set to 0.0 in labels with no predicted samples. Use `zero_division` parameter to control this behavior.\n  _warn_prf(average, modifier, msg_start, len(result))\n/shared-libs/python3.7/py/lib/python3.7/site-packages/sklearn/metrics/_classification.py:1248: UndefinedMetricWarning: Precision and F-score are ill-defined and being set to 0.0 in labels with no predicted samples. Use `zero_division` parameter to control this behavior.\n  _warn_prf(average, modifier, msg_start, len(result))\n[[0.67405, 0.6627977634485653, 0.6132808471416066, 0.6765093775370987], [0.6736000000000001, 0.6639372320705275, 0.6132750395408623, 0.6761091060107864], [0.6737499999999998, 0.6636359126747731, 0.6129377244883575, 0.6755445986163028], [0.6748000000000001, 0.664544410717265, 0.61428405748026, 0.6762236709276707], [0.4345, 0.14483333333333334, 0.33333333333333337, 0.3535261996049727], [0.4345, 0.14483333333333334, 0.33333333333333337, 0.3535261996049727]]\n/shared-libs/python3.7/py/lib/python3.7/site-packages/sklearn/metrics/_classification.py:1248: UndefinedMetricWarning: Precision and F-score are ill-defined and being set to 0.0 in labels with no predicted samples. Use `zero_division` parameter to control this behavior.\n  _warn_prf(average, modifier, msg_start, len(result))\n",
     "output_type": "stream"
    }
   ],
   "execution_count": null
  },
  {
   "cell_type": "markdown",
   "source": "### Alternative 4: Other Classifiers",
   "metadata": {
    "tags": [],
    "cell_id": "00086-00574344-52af-4711-aa4a-666f90b56c89",
    "deepnote_cell_type": "markdown"
   }
  },
  {
   "cell_type": "code",
   "metadata": {
    "tags": [],
    "cell_id": "00085-cf06e39f-ab59-4a4a-956e-63f068ecfa5c",
    "deepnote_to_be_reexecuted": true,
    "source_hash": "e1db2095",
    "execution_start": 1622650451073,
    "execution_millis": 258243,
    "deepnote_cell_type": "code"
   },
   "source": "Other_Classifiers=[1,2]\nOther_Classifiers_dict = {1:RandomForestClassifier,2:MultinomialNB}\nOther_Classifiers_results = []\n\nfor i in Other_Classifiers:\n    X = X_train\n    Y = senttrainlabels\n    clf_model = Other_Classifiers_dict[i]()\n    clf_model.fit(X=X,y=Y);\n\n    vectorizerval = CountVectorizer(vocabulary = svectorizer.vocabulary_)\n    X = vectorizerval.fit_transform(sentvalflat)\n    Y = sentvallabels\n    predicted = clf_model.predict(X);\n\n    results = precision_recall_fscore_support(Y,predicted,average='macro');\n    precision_4 = results[0]\n    recall_4 = results[1]\n    fscore_4 = results[2]\n    accuracy_4 = sum(sentvallabels==predicted)/len(sentvallabels)\n\n    teemp = []\n    teemp.append(accuracy_4)\n    teemp.append(precision_4)\n    teemp.append(recall_4)\n    teemp.append(fscore_4)\n    Other_Classifiers_results.append(teemp)\n\nprint(Other_Classifiers_results)\n#print('For the hatespeech detection:','\\n','Accuracy:',accuracy,'\\n','Precision:',precision,'\\n','Recall:',recall,'\\n','F-score:',fscore)",
   "outputs": [
    {
     "name": "stdout",
     "text": "[[0.6275, 0.695282403736012, 0.514427379933709, 0.5054296615708095], [0.623, 0.602224390856071, 0.5726363416236834, 0.5817430114662803]]\n",
     "output_type": "stream"
    }
   ],
   "execution_count": null
  },
  {
   "cell_type": "markdown",
   "source": "### Model Summary (Sentiment)",
   "metadata": {
    "tags": [],
    "cell_id": "00088-29417b96-f7c2-49b9-896b-42a2a0612be2",
    "deepnote_cell_type": "markdown"
   }
  },
  {
   "cell_type": "markdown",
   "source": "#### Loss Function Summary Multiclass:",
   "metadata": {
    "tags": [],
    "cell_id": "00090-cb7ae365-269d-474b-9e4d-b801835dc7d3",
    "deepnote_cell_type": "markdown"
   }
  },
  {
   "cell_type": "code",
   "metadata": {
    "tags": [],
    "cell_id": "00090-e9fb992f-3a40-45ea-bdaa-55634284f0bd",
    "deepnote_to_be_reexecuted": true,
    "source_hash": "f97f03bb",
    "execution_start": 1622661869280,
    "execution_millis": 69,
    "deepnote_cell_type": "code"
   },
   "source": "loss_results_sum = np.array(loss_results).T.tolist()\n\nloss_results_sum = pd.DataFrame(data = loss_results_sum,index=[\"Accuracy\",\"Precision\",\"Recall\",\"F-Score\"])\nloss_results_sum.columns = loss_list\nloss_results_sum.to_latex(buf='table.txt')\nloss_results_sum",
   "outputs": [
    {
     "output_type": "execute_result",
     "execution_count": 93,
     "data": {
      "application/vnd.deepnote.dataframe.v2+json": {
       "row_count": 4,
       "column_count": 3,
       "columns": [
        {
         "name": "hinge",
         "dtype": "float64",
         "stats": {
          "unique_count": 4,
          "nan_count": 0,
          "min": "0.6282418882102426",
          "max": "0.691950957037675",
          "histogram": [
           {
            "bin_start": 0.6282418882102426,
            "bin_end": 0.6346127950929858,
            "count": 1
           },
           {
            "bin_start": 0.6346127950929858,
            "bin_end": 0.6409837019757291,
            "count": 0
           },
           {
            "bin_start": 0.6409837019757291,
            "bin_end": 0.6473546088584723,
            "count": 0
           },
           {
            "bin_start": 0.6473546088584723,
            "bin_end": 0.6537255157412155,
            "count": 0
           },
           {
            "bin_start": 0.6537255157412155,
            "bin_end": 0.6600964226239587,
            "count": 1
           },
           {
            "bin_start": 0.6600964226239587,
            "bin_end": 0.6664673295067021,
            "count": 0
           },
           {
            "bin_start": 0.6664673295067021,
            "bin_end": 0.6728382363894453,
            "count": 1
           },
           {
            "bin_start": 0.6728382363894453,
            "bin_end": 0.6792091432721885,
            "count": 0
           },
           {
            "bin_start": 0.6792091432721885,
            "bin_end": 0.6855800501549317,
            "count": 0
           },
           {
            "bin_start": 0.6855800501549317,
            "bin_end": 0.691950957037675,
            "count": 1
           }
          ]
         }
        },
        {
         "name": "squared_hinge",
         "dtype": "float64",
         "stats": {
          "unique_count": 4,
          "nan_count": 0,
          "min": "0.5439509915775738",
          "max": "0.59848298471651",
          "histogram": [
           {
            "bin_start": 0.5439509915775738,
            "bin_end": 0.5494041908914674,
            "count": 1
           },
           {
            "bin_start": 0.5494041908914674,
            "bin_end": 0.554857390205361,
            "count": 1
           },
           {
            "bin_start": 0.554857390205361,
            "bin_end": 0.5603105895192546,
            "count": 0
           },
           {
            "bin_start": 0.5603105895192546,
            "bin_end": 0.5657637888331483,
            "count": 0
           },
           {
            "bin_start": 0.5657637888331483,
            "bin_end": 0.5712169881470419,
            "count": 0
           },
           {
            "bin_start": 0.5712169881470419,
            "bin_end": 0.5766701874609355,
            "count": 1
           },
           {
            "bin_start": 0.5766701874609355,
            "bin_end": 0.5821233867748291,
            "count": 0
           },
           {
            "bin_start": 0.5821233867748291,
            "bin_end": 0.5875765860887228,
            "count": 0
           },
           {
            "bin_start": 0.5875765860887228,
            "bin_end": 0.5930297854026163,
            "count": 0
           },
           {
            "bin_start": 0.5930297854026163,
            "bin_end": 0.59848298471651,
            "count": 1
           }
          ]
         }
        },
        {
         "name": "modified_huber",
         "dtype": "float64",
         "stats": {
          "unique_count": 4,
          "nan_count": 0,
          "min": "0.6123724611066383",
          "max": "0.6745284348126622",
          "histogram": [
           {
            "bin_start": 0.6123724611066383,
            "bin_end": 0.6185880584772407,
            "count": 1
           },
           {
            "bin_start": 0.6185880584772407,
            "bin_end": 0.6248036558478431,
            "count": 0
           },
           {
            "bin_start": 0.6248036558478431,
            "bin_end": 0.6310192532184455,
            "count": 0
           },
           {
            "bin_start": 0.6310192532184455,
            "bin_end": 0.6372348505890479,
            "count": 1
           },
           {
            "bin_start": 0.6372348505890479,
            "bin_end": 0.6434504479596503,
            "count": 0
           },
           {
            "bin_start": 0.6434504479596503,
            "bin_end": 0.6496660453302526,
            "count": 1
           },
           {
            "bin_start": 0.6496660453302526,
            "bin_end": 0.655881642700855,
            "count": 0
           },
           {
            "bin_start": 0.655881642700855,
            "bin_end": 0.6620972400714574,
            "count": 0
           },
           {
            "bin_start": 0.6620972400714574,
            "bin_end": 0.6683128374420598,
            "count": 0
           },
           {
            "bin_start": 0.6683128374420598,
            "bin_end": 0.6745284348126622,
            "count": 1
           }
          ]
         }
        },
        {
         "name": "_deepnote_index_column",
         "dtype": "object"
        }
       ],
       "rows_top": [
        {
         "hinge": 0.6716,
         "squared_hinge": 0.57505,
         "modified_huber": 0.6496500000000001,
         "_deepnote_index_column": "Accuracy"
        },
        {
         "hinge": 0.654542736654663,
         "squared_hinge": 0.550520712280721,
         "modified_huber": 0.6312227651248573,
         "_deepnote_index_column": "Precision"
        },
        {
         "hinge": 0.6282418882102426,
         "squared_hinge": 0.5439509915775738,
         "modified_huber": 0.6123724611066383,
         "_deepnote_index_column": "Recall"
        },
        {
         "hinge": 0.691950957037675,
         "squared_hinge": 0.59848298471651,
         "modified_huber": 0.6745284348126622,
         "_deepnote_index_column": "F-Score"
        }
       ],
       "rows_bottom": null
      },
      "text/plain": "              hinge  squared_hinge  modified_huber\nAccuracy   0.671600       0.575050        0.649650\nPrecision  0.654543       0.550521        0.631223\nRecall     0.628242       0.543951        0.612372\nF-Score    0.691951       0.598483        0.674528",
      "text/html": "<div>\n<style scoped>\n    .dataframe tbody tr th:only-of-type {\n        vertical-align: middle;\n    }\n\n    .dataframe tbody tr th {\n        vertical-align: top;\n    }\n\n    .dataframe thead th {\n        text-align: right;\n    }\n</style>\n<table border=\"1\" class=\"dataframe\">\n  <thead>\n    <tr style=\"text-align: right;\">\n      <th></th>\n      <th>hinge</th>\n      <th>squared_hinge</th>\n      <th>modified_huber</th>\n    </tr>\n  </thead>\n  <tbody>\n    <tr>\n      <th>Accuracy</th>\n      <td>0.671600</td>\n      <td>0.575050</td>\n      <td>0.649650</td>\n    </tr>\n    <tr>\n      <th>Precision</th>\n      <td>0.654543</td>\n      <td>0.550521</td>\n      <td>0.631223</td>\n    </tr>\n    <tr>\n      <th>Recall</th>\n      <td>0.628242</td>\n      <td>0.543951</td>\n      <td>0.612372</td>\n    </tr>\n    <tr>\n      <th>F-Score</th>\n      <td>0.691951</td>\n      <td>0.598483</td>\n      <td>0.674528</td>\n    </tr>\n  </tbody>\n</table>\n</div>"
     },
     "metadata": {}
    }
   ],
   "execution_count": null
  },
  {
   "cell_type": "markdown",
   "source": "#### Regulation strength (alpha) Summary Multiclass:",
   "metadata": {
    "tags": [],
    "cell_id": "00092-e920c19a-35b8-4e19-a854-be768d78093a",
    "deepnote_cell_type": "markdown"
   }
  },
  {
   "cell_type": "code",
   "metadata": {
    "tags": [],
    "cell_id": "00091-0dab67b7-6faf-40de-89a3-5d70056131d5",
    "deepnote_to_be_reexecuted": true,
    "source_hash": "867342fe",
    "execution_start": 1622661876326,
    "execution_millis": 80,
    "deepnote_cell_type": "code"
   },
   "source": "alpha_results_sum = np.array(alpha_results).T.tolist()\n\nalpha_results_sum = pd.DataFrame(data = alpha_results_sum,index=[\"Accuracy\",\"Precision\",\"Recall\",\"F-Score\"])\nalpha_results_sum.columns = alpha_list\nalpha_results_sum.to_latex(buf='table.txt')\nalpha_results_sum",
   "outputs": [
    {
     "output_type": "execute_result",
     "execution_count": 94,
     "data": {
      "application/vnd.deepnote.dataframe.v2+json": {
       "row_count": 4,
       "column_count": 3,
       "columns": [
        {
         "name": 0.001,
         "dtype": "float64",
         "stats": {
          "unique_count": 4,
          "nan_count": 0,
          "min": "0.5517628527122198",
          "max": "0.6425",
          "histogram": [
           {
            "bin_start": 0.5517628527122198,
            "bin_end": 0.5608365674409979,
            "count": 1
           },
           {
            "bin_start": 0.5608365674409979,
            "bin_end": 0.5699102821697758,
            "count": 0
           },
           {
            "bin_start": 0.5699102821697758,
            "bin_end": 0.5789839968985538,
            "count": 0
           },
           {
            "bin_start": 0.5789839968985538,
            "bin_end": 0.5880577116273319,
            "count": 0
           },
           {
            "bin_start": 0.5880577116273319,
            "bin_end": 0.5971314263561098,
            "count": 0
           },
           {
            "bin_start": 0.5971314263561098,
            "bin_end": 0.6062051410848879,
            "count": 0
           },
           {
            "bin_start": 0.6062051410848879,
            "bin_end": 0.6152788558136659,
            "count": 1
           },
           {
            "bin_start": 0.6152788558136659,
            "bin_end": 0.624352570542444,
            "count": 0
           },
           {
            "bin_start": 0.624352570542444,
            "bin_end": 0.6334262852712219,
            "count": 0
           },
           {
            "bin_start": 0.6334262852712219,
            "bin_end": 0.6425,
            "count": 2
           }
          ]
         }
        },
        {
         "name": 0.01,
         "dtype": "float64",
         "stats": {
          "unique_count": 4,
          "nan_count": 0,
          "min": "0.4506886573342269",
          "max": "0.564",
          "histogram": [
           {
            "bin_start": 0.4506886573342269,
            "bin_end": 0.4620197916008042,
            "count": 1
           },
           {
            "bin_start": 0.4620197916008042,
            "bin_end": 0.47335092586738153,
            "count": 0
           },
           {
            "bin_start": 0.47335092586738153,
            "bin_end": 0.4846820601339588,
            "count": 0
           },
           {
            "bin_start": 0.4846820601339588,
            "bin_end": 0.49601319440053615,
            "count": 1
           },
           {
            "bin_start": 0.49601319440053615,
            "bin_end": 0.5073443286671134,
            "count": 0
           },
           {
            "bin_start": 0.5073443286671134,
            "bin_end": 0.5186754629336907,
            "count": 0
           },
           {
            "bin_start": 0.5186754629336907,
            "bin_end": 0.530006597200268,
            "count": 0
           },
           {
            "bin_start": 0.530006597200268,
            "bin_end": 0.5413377314668454,
            "count": 1
           },
           {
            "bin_start": 0.5413377314668454,
            "bin_end": 0.5526688657334227,
            "count": 0
           },
           {
            "bin_start": 0.5526688657334227,
            "bin_end": 0.564,
            "count": 1
           }
          ]
         }
        },
        {
         "name": 0.1,
         "dtype": "float64",
         "stats": {
          "unique_count": 4,
          "nan_count": 0,
          "min": "0.3482542307130538",
          "max": "0.5015000000000001",
          "histogram": [
           {
            "bin_start": 0.3482542307130538,
            "bin_end": 0.36357880764174844,
            "count": 1
           },
           {
            "bin_start": 0.36357880764174844,
            "bin_end": 0.37890338457044304,
            "count": 0
           },
           {
            "bin_start": 0.37890338457044304,
            "bin_end": 0.39422796149913764,
            "count": 1
           },
           {
            "bin_start": 0.39422796149913764,
            "bin_end": 0.4095525384278323,
            "count": 0
           },
           {
            "bin_start": 0.4095525384278323,
            "bin_end": 0.42487711535652695,
            "count": 0
           },
           {
            "bin_start": 0.42487711535652695,
            "bin_end": 0.44020169228522155,
            "count": 1
           },
           {
            "bin_start": 0.44020169228522155,
            "bin_end": 0.45552626921391615,
            "count": 0
           },
           {
            "bin_start": 0.45552626921391615,
            "bin_end": 0.4708508461426108,
            "count": 0
           },
           {
            "bin_start": 0.4708508461426108,
            "bin_end": 0.48617542307130546,
            "count": 0
           },
           {
            "bin_start": 0.48617542307130546,
            "bin_end": 0.5015000000000001,
            "count": 1
           }
          ]
         }
        },
        {
         "name": "_deepnote_index_column",
         "dtype": "object"
        }
       ],
       "rows_top": [
        {
         "0.001": 0.6425,
         "0.01": 0.564,
         "0.1": 0.5015000000000001,
         "_deepnote_index_column": "Accuracy"
        },
        {
         "0.001": 0.6387404804297653,
         "0.01": 0.5383218101159967,
         "0.1": 0.3482542307130538,
         "_deepnote_index_column": "Precision"
        },
        {
         "0.001": 0.5517628527122198,
         "0.01": 0.4506886573342269,
         "0.1": 0.3917798095013285,
         "_deepnote_index_column": "Recall"
        },
        {
         "0.001": 0.607652643825501,
         "0.01": 0.49313755597072895,
         "0.1": 0.4267255245085785,
         "_deepnote_index_column": "F-Score"
        }
       ],
       "rows_bottom": null
      },
      "text/plain": "              0.001     0.010     0.100\nAccuracy   0.642500  0.564000  0.501500\nPrecision  0.638740  0.538322  0.348254\nRecall     0.551763  0.450689  0.391780\nF-Score    0.607653  0.493138  0.426726",
      "text/html": "<div>\n<style scoped>\n    .dataframe tbody tr th:only-of-type {\n        vertical-align: middle;\n    }\n\n    .dataframe tbody tr th {\n        vertical-align: top;\n    }\n\n    .dataframe thead th {\n        text-align: right;\n    }\n</style>\n<table border=\"1\" class=\"dataframe\">\n  <thead>\n    <tr style=\"text-align: right;\">\n      <th></th>\n      <th>0.001</th>\n      <th>0.010</th>\n      <th>0.100</th>\n    </tr>\n  </thead>\n  <tbody>\n    <tr>\n      <th>Accuracy</th>\n      <td>0.642500</td>\n      <td>0.564000</td>\n      <td>0.501500</td>\n    </tr>\n    <tr>\n      <th>Precision</th>\n      <td>0.638740</td>\n      <td>0.538322</td>\n      <td>0.348254</td>\n    </tr>\n    <tr>\n      <th>Recall</th>\n      <td>0.551763</td>\n      <td>0.450689</td>\n      <td>0.391780</td>\n    </tr>\n    <tr>\n      <th>F-Score</th>\n      <td>0.607653</td>\n      <td>0.493138</td>\n      <td>0.426726</td>\n    </tr>\n  </tbody>\n</table>\n</div>"
     },
     "metadata": {}
    }
   ],
   "execution_count": null
  },
  {
   "cell_type": "markdown",
   "source": "#### N-Gram Summary Multiclass:",
   "metadata": {
    "tags": [],
    "cell_id": "00094-04d60afd-1fff-42cb-b798-273f5ca0b263",
    "deepnote_cell_type": "markdown"
   }
  },
  {
   "cell_type": "code",
   "metadata": {
    "tags": [],
    "cell_id": "00086-61c8ba22-fb8a-4d00-99f3-88469bd25863",
    "deepnote_to_be_reexecuted": true,
    "source_hash": "9b99258",
    "execution_start": 1622669875661,
    "execution_millis": 160,
    "deepnote_cell_type": "code"
   },
   "source": "ind = -1\nfor i in n_gram_list:\n    ind += 1\n    new = str(i[0])+\",\"+str(i[1])\n    n_gram_list[ind] = new\n\nn_gram_results_sum = np.array(n_gram_results).T.tolist()\n\nn_gram_results_sum = pd.DataFrame(data = n_gram_results_sum,index=[\"Accuracy\",\"Precision\",\"Recall\",\"F-Score\"])\nn_gram_results_sum.columns = n_gram_list\nn_gram_results_sum.to_latex(buf='table.txt')\nn_gram_results_sum",
   "outputs": [
    {
     "output_type": "execute_result",
     "execution_count": 96,
     "data": {
      "application/vnd.deepnote.dataframe.v2+json": {
       "row_count": 4,
       "column_count": 6,
       "columns": [
        {
         "name": "1,,",
         "dtype": "float64",
         "stats": {
          "unique_count": 4,
          "nan_count": 0,
          "min": "0.6132808471416066",
          "max": "0.6765093775370987",
          "histogram": [
           {
            "bin_start": 0.6132808471416066,
            "bin_end": 0.6196037001811558,
            "count": 1
           },
           {
            "bin_start": 0.6196037001811558,
            "bin_end": 0.625926553220705,
            "count": 0
           },
           {
            "bin_start": 0.625926553220705,
            "bin_end": 0.6322494062602542,
            "count": 0
           },
           {
            "bin_start": 0.6322494062602542,
            "bin_end": 0.6385722592998034,
            "count": 0
           },
           {
            "bin_start": 0.6385722592998034,
            "bin_end": 0.6448951123393527,
            "count": 0
           },
           {
            "bin_start": 0.6448951123393527,
            "bin_end": 0.6512179653789019,
            "count": 0
           },
           {
            "bin_start": 0.6512179653789019,
            "bin_end": 0.657540818418451,
            "count": 0
           },
           {
            "bin_start": 0.657540818418451,
            "bin_end": 0.6638636714580003,
            "count": 1
           },
           {
            "bin_start": 0.6638636714580003,
            "bin_end": 0.6701865244975496,
            "count": 0
           },
           {
            "bin_start": 0.6701865244975496,
            "bin_end": 0.6765093775370987,
            "count": 2
           }
          ]
         }
        },
        {
         "name": "1,,.1",
         "dtype": "float64",
         "stats": {
          "unique_count": 4,
          "nan_count": 0,
          "min": "0.6132750395408623",
          "max": "0.6761091060107864",
          "histogram": [
           {
            "bin_start": 0.6132750395408623,
            "bin_end": 0.6195584461878547,
            "count": 1
           },
           {
            "bin_start": 0.6195584461878547,
            "bin_end": 0.6258418528348471,
            "count": 0
           },
           {
            "bin_start": 0.6258418528348471,
            "bin_end": 0.6321252594818395,
            "count": 0
           },
           {
            "bin_start": 0.6321252594818395,
            "bin_end": 0.638408666128832,
            "count": 0
           },
           {
            "bin_start": 0.638408666128832,
            "bin_end": 0.6446920727758243,
            "count": 0
           },
           {
            "bin_start": 0.6446920727758243,
            "bin_end": 0.6509754794228167,
            "count": 0
           },
           {
            "bin_start": 0.6509754794228167,
            "bin_end": 0.6572588860698092,
            "count": 0
           },
           {
            "bin_start": 0.6572588860698092,
            "bin_end": 0.6635422927168017,
            "count": 0
           },
           {
            "bin_start": 0.6635422927168017,
            "bin_end": 0.669825699363794,
            "count": 1
           },
           {
            "bin_start": 0.669825699363794,
            "bin_end": 0.6761091060107864,
            "count": 2
           }
          ]
         }
        },
        {
         "name": "1,,.2",
         "dtype": "float64",
         "stats": {
          "unique_count": 4,
          "nan_count": 0,
          "min": "0.6129377244883575",
          "max": "0.6755445986163028",
          "histogram": [
           {
            "bin_start": 0.6129377244883575,
            "bin_end": 0.619198411901152,
            "count": 1
           },
           {
            "bin_start": 0.619198411901152,
            "bin_end": 0.6254590993139465,
            "count": 0
           },
           {
            "bin_start": 0.6254590993139465,
            "bin_end": 0.6317197867267411,
            "count": 0
           },
           {
            "bin_start": 0.6317197867267411,
            "bin_end": 0.6379804741395356,
            "count": 0
           },
           {
            "bin_start": 0.6379804741395356,
            "bin_end": 0.6442411615523301,
            "count": 0
           },
           {
            "bin_start": 0.6442411615523301,
            "bin_end": 0.6505018489651246,
            "count": 0
           },
           {
            "bin_start": 0.6505018489651246,
            "bin_end": 0.6567625363779191,
            "count": 0
           },
           {
            "bin_start": 0.6567625363779191,
            "bin_end": 0.6630232237907138,
            "count": 0
           },
           {
            "bin_start": 0.6630232237907138,
            "bin_end": 0.6692839112035083,
            "count": 1
           },
           {
            "bin_start": 0.6692839112035083,
            "bin_end": 0.6755445986163028,
            "count": 2
           }
          ]
         }
        },
        {
         "name": "1,,.3",
         "dtype": "float64",
         "stats": {
          "unique_count": 4,
          "nan_count": 0,
          "min": "0.61428405748026",
          "max": "0.6762236709276707",
          "histogram": [
           {
            "bin_start": 0.61428405748026,
            "bin_end": 0.6204780188250011,
            "count": 1
           },
           {
            "bin_start": 0.6204780188250011,
            "bin_end": 0.6266719801697421,
            "count": 0
           },
           {
            "bin_start": 0.6266719801697421,
            "bin_end": 0.6328659415144833,
            "count": 0
           },
           {
            "bin_start": 0.6328659415144833,
            "bin_end": 0.6390599028592243,
            "count": 0
           },
           {
            "bin_start": 0.6390599028592243,
            "bin_end": 0.6452538642039654,
            "count": 0
           },
           {
            "bin_start": 0.6452538642039654,
            "bin_end": 0.6514478255487064,
            "count": 0
           },
           {
            "bin_start": 0.6514478255487064,
            "bin_end": 0.6576417868934474,
            "count": 0
           },
           {
            "bin_start": 0.6576417868934474,
            "bin_end": 0.6638357482381886,
            "count": 0
           },
           {
            "bin_start": 0.6638357482381886,
            "bin_end": 0.6700297095829296,
            "count": 1
           },
           {
            "bin_start": 0.6700297095829296,
            "bin_end": 0.6762236709276707,
            "count": 2
           }
          ]
         }
        },
        {
         "name": "2,,",
         "dtype": "float64",
         "stats": {
          "unique_count": 4,
          "nan_count": 0,
          "min": "0.14483333333333334",
          "max": "0.4345",
          "histogram": [
           {
            "bin_start": 0.14483333333333334,
            "bin_end": 0.1738,
            "count": 1
           },
           {
            "bin_start": 0.1738,
            "bin_end": 0.20276666666666665,
            "count": 0
           },
           {
            "bin_start": 0.20276666666666665,
            "bin_end": 0.23173333333333332,
            "count": 0
           },
           {
            "bin_start": 0.23173333333333332,
            "bin_end": 0.2607,
            "count": 0
           },
           {
            "bin_start": 0.2607,
            "bin_end": 0.28966666666666663,
            "count": 0
           },
           {
            "bin_start": 0.28966666666666663,
            "bin_end": 0.3186333333333333,
            "count": 0
           },
           {
            "bin_start": 0.3186333333333333,
            "bin_end": 0.34759999999999996,
            "count": 1
           },
           {
            "bin_start": 0.34759999999999996,
            "bin_end": 0.3765666666666666,
            "count": 1
           },
           {
            "bin_start": 0.3765666666666666,
            "bin_end": 0.4055333333333333,
            "count": 0
           },
           {
            "bin_start": 0.4055333333333333,
            "bin_end": 0.4345,
            "count": 1
           }
          ]
         }
        },
        {
         "name": "2,,.1",
         "dtype": "float64",
         "stats": {
          "unique_count": 4,
          "nan_count": 0,
          "min": "0.14483333333333334",
          "max": "0.4345",
          "histogram": [
           {
            "bin_start": 0.14483333333333334,
            "bin_end": 0.1738,
            "count": 1
           },
           {
            "bin_start": 0.1738,
            "bin_end": 0.20276666666666665,
            "count": 0
           },
           {
            "bin_start": 0.20276666666666665,
            "bin_end": 0.23173333333333332,
            "count": 0
           },
           {
            "bin_start": 0.23173333333333332,
            "bin_end": 0.2607,
            "count": 0
           },
           {
            "bin_start": 0.2607,
            "bin_end": 0.28966666666666663,
            "count": 0
           },
           {
            "bin_start": 0.28966666666666663,
            "bin_end": 0.3186333333333333,
            "count": 0
           },
           {
            "bin_start": 0.3186333333333333,
            "bin_end": 0.34759999999999996,
            "count": 1
           },
           {
            "bin_start": 0.34759999999999996,
            "bin_end": 0.3765666666666666,
            "count": 1
           },
           {
            "bin_start": 0.3765666666666666,
            "bin_end": 0.4055333333333333,
            "count": 0
           },
           {
            "bin_start": 0.4055333333333333,
            "bin_end": 0.4345,
            "count": 1
           }
          ]
         }
        },
        {
         "name": "_deepnote_index_column",
         "dtype": "object"
        }
       ],
       "rows_top": [
        {
         "1,,": 0.67405,
         "1,,.1": 0.6736000000000001,
         "1,,.2": 0.6737499999999998,
         "1,,.3": 0.6748000000000001,
         "2,,": 0.4345,
         "2,,.1": 0.4345,
         "_deepnote_index_column": "Accuracy"
        },
        {
         "1,,": 0.6627977634485653,
         "1,,.1": 0.6639372320705275,
         "1,,.2": 0.6636359126747731,
         "1,,.3": 0.664544410717265,
         "2,,": 0.14483333333333334,
         "2,,.1": 0.14483333333333334,
         "_deepnote_index_column": "Precision"
        },
        {
         "1,,": 0.6132808471416066,
         "1,,.1": 0.6132750395408623,
         "1,,.2": 0.6129377244883575,
         "1,,.3": 0.61428405748026,
         "2,,": 0.33333333333333337,
         "2,,.1": 0.33333333333333337,
         "_deepnote_index_column": "Recall"
        },
        {
         "1,,": 0.6765093775370987,
         "1,,.1": 0.6761091060107864,
         "1,,.2": 0.6755445986163028,
         "1,,.3": 0.6762236709276707,
         "2,,": 0.3535261996049727,
         "2,,.1": 0.3535261996049727,
         "_deepnote_index_column": "F-Score"
        }
       ],
       "rows_bottom": null
      },
      "text/plain": "                1,,       1,,       1,,       1,,       2,,       2,,\nAccuracy   0.674050  0.673600  0.673750  0.674800  0.434500  0.434500\nPrecision  0.662798  0.663937  0.663636  0.664544  0.144833  0.144833\nRecall     0.613281  0.613275  0.612938  0.614284  0.333333  0.333333\nF-Score    0.676509  0.676109  0.675545  0.676224  0.353526  0.353526",
      "text/html": "<div>\n<style scoped>\n    .dataframe tbody tr th:only-of-type {\n        vertical-align: middle;\n    }\n\n    .dataframe tbody tr th {\n        vertical-align: top;\n    }\n\n    .dataframe thead th {\n        text-align: right;\n    }\n</style>\n<table border=\"1\" class=\"dataframe\">\n  <thead>\n    <tr style=\"text-align: right;\">\n      <th></th>\n      <th>1,,</th>\n      <th>1,,</th>\n      <th>1,,</th>\n      <th>1,,</th>\n      <th>2,,</th>\n      <th>2,,</th>\n    </tr>\n  </thead>\n  <tbody>\n    <tr>\n      <th>Accuracy</th>\n      <td>0.674050</td>\n      <td>0.673600</td>\n      <td>0.673750</td>\n      <td>0.674800</td>\n      <td>0.434500</td>\n      <td>0.434500</td>\n    </tr>\n    <tr>\n      <th>Precision</th>\n      <td>0.662798</td>\n      <td>0.663937</td>\n      <td>0.663636</td>\n      <td>0.664544</td>\n      <td>0.144833</td>\n      <td>0.144833</td>\n    </tr>\n    <tr>\n      <th>Recall</th>\n      <td>0.613281</td>\n      <td>0.613275</td>\n      <td>0.612938</td>\n      <td>0.614284</td>\n      <td>0.333333</td>\n      <td>0.333333</td>\n    </tr>\n    <tr>\n      <th>F-Score</th>\n      <td>0.676509</td>\n      <td>0.676109</td>\n      <td>0.675545</td>\n      <td>0.676224</td>\n      <td>0.353526</td>\n      <td>0.353526</td>\n    </tr>\n  </tbody>\n</table>\n</div>"
     },
     "metadata": {}
    }
   ],
   "execution_count": null
  },
  {
   "cell_type": "markdown",
   "source": "#### Other Classifiers Summary Multiclass:",
   "metadata": {
    "tags": [],
    "cell_id": "00096-e302fd48-7041-4a62-9a07-3d6984d9d554",
    "deepnote_cell_type": "markdown"
   }
  },
  {
   "cell_type": "code",
   "metadata": {
    "tags": [],
    "cell_id": "00087-0c5f71a4-d66c-4755-ad34-948b118d8800",
    "deepnote_to_be_reexecuted": true,
    "source_hash": "88683791",
    "execution_start": 1622669866722,
    "execution_millis": 52,
    "deepnote_cell_type": "code"
   },
   "source": "Other_Classifiers_results_sum = np.array(Other_Classifiers_results).T.tolist()\n\nOther_Classifiers_results_sum = pd.DataFrame(data = Other_Classifiers_results_sum,index=[\"Accuracy\",\"Precision\",\"Recall\",\"F-Score\"])\nOther_Classifiers_results_sum.columns = ['Forest','Multinomial']\nOther_Classifiers_results_sum.to_latex(buf='table.txt')\nOther_Classifiers_results_sum",
   "outputs": [
    {
     "output_type": "execute_result",
     "execution_count": 95,
     "data": {
      "application/vnd.deepnote.dataframe.v2+json": {
       "row_count": 4,
       "column_count": 2,
       "columns": [
        {
         "name": "Forest",
         "dtype": "float64",
         "stats": {
          "unique_count": 4,
          "nan_count": 0,
          "min": "0.5054296615708095",
          "max": "0.695282403736012",
          "histogram": [
           {
            "bin_start": 0.5054296615708095,
            "bin_end": 0.5244149357873298,
            "count": 2
           },
           {
            "bin_start": 0.5244149357873298,
            "bin_end": 0.54340021000385,
            "count": 0
           },
           {
            "bin_start": 0.54340021000385,
            "bin_end": 0.5623854842203703,
            "count": 0
           },
           {
            "bin_start": 0.5623854842203703,
            "bin_end": 0.5813707584368905,
            "count": 0
           },
           {
            "bin_start": 0.5813707584368905,
            "bin_end": 0.6003560326534108,
            "count": 0
           },
           {
            "bin_start": 0.6003560326534108,
            "bin_end": 0.6193413068699309,
            "count": 0
           },
           {
            "bin_start": 0.6193413068699309,
            "bin_end": 0.6383265810864512,
            "count": 1
           },
           {
            "bin_start": 0.6383265810864512,
            "bin_end": 0.6573118553029715,
            "count": 0
           },
           {
            "bin_start": 0.6573118553029715,
            "bin_end": 0.6762971295194917,
            "count": 0
           },
           {
            "bin_start": 0.6762971295194917,
            "bin_end": 0.695282403736012,
            "count": 1
           }
          ]
         }
        },
        {
         "name": "Multinomial",
         "dtype": "float64",
         "stats": {
          "unique_count": 4,
          "nan_count": 0,
          "min": "0.5726363416236834",
          "max": "0.623",
          "histogram": [
           {
            "bin_start": 0.5726363416236834,
            "bin_end": 0.577672707461315,
            "count": 1
           },
           {
            "bin_start": 0.577672707461315,
            "bin_end": 0.5827090732989467,
            "count": 1
           },
           {
            "bin_start": 0.5827090732989467,
            "bin_end": 0.5877454391365784,
            "count": 0
           },
           {
            "bin_start": 0.5877454391365784,
            "bin_end": 0.5927818049742101,
            "count": 0
           },
           {
            "bin_start": 0.5927818049742101,
            "bin_end": 0.5978181708118417,
            "count": 0
           },
           {
            "bin_start": 0.5978181708118417,
            "bin_end": 0.6028545366494733,
            "count": 1
           },
           {
            "bin_start": 0.6028545366494733,
            "bin_end": 0.607890902487105,
            "count": 0
           },
           {
            "bin_start": 0.607890902487105,
            "bin_end": 0.6129272683247367,
            "count": 0
           },
           {
            "bin_start": 0.6129272683247367,
            "bin_end": 0.6179636341623683,
            "count": 0
           },
           {
            "bin_start": 0.6179636341623683,
            "bin_end": 0.623,
            "count": 1
           }
          ]
         }
        },
        {
         "name": "_deepnote_index_column",
         "dtype": "object"
        }
       ],
       "rows_top": [
        {
         "Forest": 0.6275,
         "Multinomial": 0.623,
         "_deepnote_index_column": "Accuracy"
        },
        {
         "Forest": 0.695282403736012,
         "Multinomial": 0.602224390856071,
         "_deepnote_index_column": "Precision"
        },
        {
         "Forest": 0.514427379933709,
         "Multinomial": 0.5726363416236834,
         "_deepnote_index_column": "Recall"
        },
        {
         "Forest": 0.5054296615708095,
         "Multinomial": 0.5817430114662803,
         "_deepnote_index_column": "F-Score"
        }
       ],
       "rows_bottom": null
      },
      "text/plain": "             Forest  Multinomial\nAccuracy   0.627500     0.623000\nPrecision  0.695282     0.602224\nRecall     0.514427     0.572636\nF-Score    0.505430     0.581743",
      "text/html": "<div>\n<style scoped>\n    .dataframe tbody tr th:only-of-type {\n        vertical-align: middle;\n    }\n\n    .dataframe tbody tr th {\n        vertical-align: top;\n    }\n\n    .dataframe thead th {\n        text-align: right;\n    }\n</style>\n<table border=\"1\" class=\"dataframe\">\n  <thead>\n    <tr style=\"text-align: right;\">\n      <th></th>\n      <th>Forest</th>\n      <th>Multinomial</th>\n    </tr>\n  </thead>\n  <tbody>\n    <tr>\n      <th>Accuracy</th>\n      <td>0.627500</td>\n      <td>0.623000</td>\n    </tr>\n    <tr>\n      <th>Precision</th>\n      <td>0.695282</td>\n      <td>0.602224</td>\n    </tr>\n    <tr>\n      <th>Recall</th>\n      <td>0.514427</td>\n      <td>0.572636</td>\n    </tr>\n    <tr>\n      <th>F-Score</th>\n      <td>0.505430</td>\n      <td>0.581743</td>\n    </tr>\n  </tbody>\n</table>\n</div>"
     },
     "metadata": {}
    }
   ],
   "execution_count": null
  },
  {
   "cell_type": "code",
   "metadata": {
    "tags": [],
    "cell_id": "00088-ace7274c-c55c-4385-b374-05ebbe77575f",
    "deepnote_to_be_reexecuted": true,
    "source_hash": "b623e53d",
    "execution_start": 1622645218679,
    "execution_millis": 0,
    "deepnote_cell_type": "code"
   },
   "source": "",
   "outputs": [],
   "execution_count": null
  },
  {
   "cell_type": "code",
   "metadata": {
    "tags": [],
    "cell_id": "00099-d336541d-a8a8-4c4d-bbcd-156c8931188c",
    "deepnote_to_be_reexecuted": true,
    "source_hash": "b623e53d",
    "execution_start": 1622645218692,
    "execution_millis": 5,
    "deepnote_cell_type": "code"
   },
   "source": "",
   "outputs": [],
   "execution_count": null
  },
  {
   "cell_type": "code",
   "metadata": {
    "tags": [],
    "cell_id": "00100-5e827cf2-e2ac-475c-98bd-0da1ca920c0d",
    "deepnote_to_be_reexecuted": true,
    "source_hash": "b623e53d",
    "execution_start": 1622645218701,
    "execution_millis": 3,
    "deepnote_cell_type": "code"
   },
   "source": "",
   "outputs": [],
   "execution_count": null
  },
  {
   "cell_type": "markdown",
   "source": "<a style='text-decoration:none;line-height:16px;display:flex;color:#5B5B62;padding:10px;justify-content:end;' href='https://deepnote.com?utm_source=created-in-deepnote-cell&projectId=7b2c9380-f1db-4912-9a67-96bd866cc175' target=\"_blank\">\n<img alt='Created in deepnote.com' style='display:inline;max-height:16px;margin:0px;margin-right:7.5px;' src='data:image/svg+xml;base64,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' > </img>\nCreated in <span style='font-weight:600;margin-left:4px;'>Deepnote</span></a>",
   "metadata": {
    "tags": [],
    "created_in_deepnote_cell": true,
    "deepnote_cell_type": "markdown"
   }
  }
 ],
 "nbformat": 4,
 "nbformat_minor": 2,
 "metadata": {
  "orig_nbformat": 2,
  "deepnote": {
   "is_reactive": false
  },
  "deepnote_notebook_id": "dd61d8c5-2dd4-4bd8-b2e4-b68bcfa6e86c",
  "deepnote_execution_queue": []
 }
}